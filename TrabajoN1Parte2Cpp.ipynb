{
  "nbformat": 4,
  "nbformat_minor": 0,
  "metadata": {
    "colab": {
      "provenance": [],
      "authorship_tag": "ABX9TyPxECptrTHOWh2/Zf8lHhwn",
      "include_colab_link": true
    },
    "kernelspec": {
      "name": "python3",
      "display_name": "Python 3"
    },
    "language_info": {
      "name": "python"
    }
  },
  "cells": [
    {
      "cell_type": "markdown",
      "metadata": {
        "id": "view-in-github",
        "colab_type": "text"
      },
      "source": [
        "<a href=\"https://colab.research.google.com/github/NahuelRepetto/Programacion-Concurrente/blob/main/TrabajoN1Parte2Cpp.ipynb\" target=\"_parent\"><img src=\"https://colab.research.google.com/assets/colab-badge.svg\" alt=\"Open In Colab\"/></a>"
      ]
    },
    {
      "cell_type": "code",
      "source": [
        "%%writefile Matrices.cpp\n",
        "#include <iostream>\n",
        "#include <cstdlib>\n",
        "#include <thread>\n",
        "#include <vector>\n",
        "#include <random>\n",
        "using namespace std;\n",
        "#define MAX_DIMENSION 20\n",
        "#define MIN_DIMENSION 5\n",
        "#define MAX_VALOR 32\n",
        "#define MIN_VALOR -32\n",
        "\n",
        "void inicializarMatriz(int n, int ***matriz, int min, int max)\n",
        "{\n",
        "  (*matriz) = (int**)malloc(n*sizeof(int*));    \n",
        "  random_device device;\n",
        "  mt19937 generador(device());\n",
        "  uniform_int_distribution<> distribucion(min, max);    \n",
        "  for(int i=0; i<n; i++)\n",
        "  {\n",
        "    (*matriz)[i] = (int*)malloc(n*sizeof(int));\n",
        "    for(int j=0; j<n; j++)          \n",
        "      (*matriz)[i][j] = distribucion(generador);         \n",
        "  }  \n",
        "}\n",
        "\n",
        "void calcularProducto(int n, int fila, int **matrizA, int **matrizB, int **matrizC)\n",
        "{\n",
        "  for(int i=0; i<n; i++)\n",
        "    for(int j=0; j<n; j++)\n",
        "      matrizC[fila][i] += matrizA[fila][j] * matrizB[j][i];       \n",
        "}\n",
        "\n",
        "void mostrarMatriz(int **matriz, int n, string nombre)\n",
        "{\n",
        "  cout<<endl<<\"Matriz \"<<nombre<<\":\"<<endl;\n",
        "  for(int i=0; i<n; i++)\n",
        "  {    \n",
        "    cout<<\"| \";\n",
        "    for(int j=0; j<n; j++)\n",
        "    {\n",
        "      if(matriz[i][j] < -999)\n",
        "        cout<<matriz[i][j]<<\" \";\n",
        "      else if (matriz[i][j] < -99 || matriz[i][j] > 999)\n",
        "        cout<<\" \"<<matriz[i][j]<<\" \";    \n",
        "      else if (matriz[i][j] < -9 || matriz[i][j] > 99)\n",
        "        cout<<\"  \"<<matriz[i][j]<<\" \"; \n",
        "      else if (matriz[i][j] < 0 || matriz[i][j] > 9)\n",
        "        cout<<\"   \"<<matriz[i][j]<<\" \";\n",
        "      else if (matriz[i][j] < 10)\n",
        "        cout<<\"    \"<<matriz[i][j]<<\" \";                                  \n",
        "    }       \n",
        "    cout<<\"  |\"<<endl;\n",
        "  }\n",
        "}\n",
        "\n",
        "int main(int argc, char *argv[])\n",
        "{      \n",
        "  //VERIFICO QUE SE HAYA ENVIADO EL NUMERO DE FILAS/COLUMNAS\n",
        "  if( argc < 2 ) \n",
        "  {\n",
        "    cout<<\"Debe ingresar el numero de filas/columnas, dentro del rango de \" <<MIN_DIMENSION<< \" a \" << MAX_DIMENSION <<endl;\n",
        "    exit(1);\n",
        "  }\n",
        "\n",
        "  int n = atoi(argv[1]); //DIMENSIN DE LA MATRIZ    \n",
        "\n",
        "  //VERIFICO QUE SE HAYA ENVIADO EL NUMERO DENTRO DE LOS LIMITES ESTABLECIDOS\n",
        "  if( n < MIN_DIMENSION || n > MAX_DIMENSION ) \n",
        "  {\n",
        "    cout<<\"El numero de filas/columnas debe estar dentro del rango de \" <<MIN_DIMENSION<< \" a \" << MAX_DIMENSION <<endl; \n",
        "    exit(1);\n",
        "  }    \n",
        "\n",
        "  //CREO LAS Matrices\n",
        "  int **A, **B, **CS, **CH;   \n",
        "\n",
        "  //INICIALIZO LAS MATRICES, A Y B CON VALORES RANDOM, CS Y CH EN 0\n",
        "  inicializarMatriz(n, &A, MIN_VALOR, MAX_VALOR);\n",
        "  inicializarMatriz(n, &B, MIN_VALOR, MAX_VALOR);\n",
        "  inicializarMatriz(n, &CS, 0, 0);\n",
        "  inicializarMatriz(n, &CH, 0, 0);\n",
        "                \n",
        "  //CALCULO VALORES DE CS (SECUENCIAL)\n",
        "  for(int i=0; i<n; i++)\n",
        "    calcularProducto(n, i, A, B, CS);    \n",
        "    \n",
        "  //CALCULO VALORES DE CH (CON CONCURRENCIA)\n",
        "  //CREO UN VECTOR PARA ALMACENAR LAS REFERENCIAS A LOS HILOS CREADOS\n",
        "  vector<thread> hilos;\n",
        "\n",
        "  //CREO N HILOS\n",
        "  for(int i=0; i<n; i++)     \n",
        "    hilos.push_back(thread(calcularProducto, n, i, A, B, CH));                 \n",
        "           \n",
        "  //ESPERO A LOS N HILOS \n",
        "  for(int i=0; i<n; i++) \n",
        "    hilos[i].join();\n",
        "\n",
        "  //MUESTRO LOS RESULTADOS\n",
        "  mostrarMatriz(A,n,\"A\");    \n",
        "  mostrarMatriz(B,n,\"B\");\n",
        "  mostrarMatriz(CS,n,\"CS\"); \n",
        "  mostrarMatriz(CH,n,\"CH\"); \n",
        "\n",
        "  return 0;\n",
        "}"
      ],
      "metadata": {
        "colab": {
          "base_uri": "https://localhost:8080/"
        },
        "id": "kM0F0uaytv08",
        "outputId": "2df24b23-ccc3-4ae4-a8fc-06cf37aae1ab"
      },
      "execution_count": 1,
      "outputs": [
        {
          "output_type": "stream",
          "name": "stdout",
          "text": [
            "Writing Matrices.cpp\n"
          ]
        }
      ]
    },
    {
      "cell_type": "code",
      "source": [
        "!g++ -pthread -o Matrices Matrices.cpp"
      ],
      "metadata": {
        "id": "99ICz6zmRRYU"
      },
      "execution_count": 2,
      "outputs": []
    },
    {
      "cell_type": "code",
      "source": [
        "!./Matrices 10"
      ],
      "metadata": {
        "colab": {
          "base_uri": "https://localhost:8080/"
        },
        "id": "9dDmxBwFxIW0",
        "outputId": "67311d1c-7921-427d-eb80-7253f6af2336"
      },
      "execution_count": 4,
      "outputs": [
        {
          "output_type": "stream",
          "name": "stdout",
          "text": [
            "\n",
            "Matriz A:\n",
            "|   -16   -28    -6    12   -12   -30    10     3     2   -21   |\n",
            "|    26   -16    26    -5   -14   -29    12   -21    -1   -16   |\n",
            "|   -10    13    19     3    -2     7   -22   -25     7    21   |\n",
            "|    26     9    31    -6    16   -26     7   -18    24    24   |\n",
            "|   -16   -23     3   -32     5    -1    19    -4    17   -10   |\n",
            "|    -5   -27    32    -6    10   -18   -26    11   -29   -23   |\n",
            "|    32     7   -31   -13   -32    31     3   -10    -5   -14   |\n",
            "|   -12    11   -32   -13    -6    -8    26     9    -7    24   |\n",
            "|   -13     7   -21    -5    16    -2    -4   -15   -29    26   |\n",
            "|   -17    17   -20     0    21     4     3     2   -27   -17   |\n",
            "\n",
            "Matriz B:\n",
            "|     1   -20   -21   -28    23    -1    27   -26   -10    -3   |\n",
            "|     7     2    10    21   -16   -23    25   -24   -28     0   |\n",
            "|   -23    22   -29    21    15    19   -20    -2    30    -6   |\n",
            "|   -23     9    15    -1    14   -26   -14    31     3     8   |\n",
            "|    31   -28   -23     9    -3   -13    -8    -1     8     1   |\n",
            "|   -18     0    13    22     7    27    25     2     1    -8   |\n",
            "|    17    14    23    -5    12    29   -31    25   -23    19   |\n",
            "|    -4     8    19    24     4     3     1     6    29    24   |\n",
            "|   -26   -31    25   -15   -32   -27    30    -8   -28   -26   |\n",
            "|    10    -2    -4    -7   -12    -2   -31   -12    20     5   |\n",
            "\n",
            "Matriz CS:\n",
            "|  -286   720   717  -907   304  -133 -1430  1928    55   513   |\n",
            "|  -327   430 -1674 -1714  1297   709  -688  -169  -365  -386   |\n",
            "|  -859   -40  -919   343  -896  -735    40  -989   311 -1213   |\n",
            "|   285 -1160 -1828 -1305  -439  -945  -646 -1621  -373  -891   |\n",
            "|   460  -361   237  -293  -637  1442  -457   398  -392  -440   |\n",
            "|  -120  1085 -2669   935  1493   882 -1236   406  3079   338   |\n",
            "|  -376  -384  1051 -1075   614  1029  3053 -1024 -2209  -417   |\n",
            "|  1886   214  1627  -299  -868   273 -1130   171  -904  1194   |\n",
            "|  2172   -10  -723    88  -350  -109 -1431  -233   404   605   |\n",
            "|  1716   275   176  1247   114   -63   -76   568  -329   882   |\n",
            "\n",
            "Matriz CH:\n",
            "|  -286   720   717  -907   304  -133 -1430  1928    55   513   |\n",
            "|  -327   430 -1674 -1714  1297   709  -688  -169  -365  -386   |\n",
            "|  -859   -40  -919   343  -896  -735    40  -989   311 -1213   |\n",
            "|   285 -1160 -1828 -1305  -439  -945  -646 -1621  -373  -891   |\n",
            "|   460  -361   237  -293  -637  1442  -457   398  -392  -440   |\n",
            "|  -120  1085 -2669   935  1493   882 -1236   406  3079   338   |\n",
            "|  -376  -384  1051 -1075   614  1029  3053 -1024 -2209  -417   |\n",
            "|  1886   214  1627  -299  -868   273 -1130   171  -904  1194   |\n",
            "|  2172   -10  -723    88  -350  -109 -1431  -233   404   605   |\n",
            "|  1716   275   176  1247   114   -63   -76   568  -329   882   |\n"
          ]
        }
      ]
    }
  ]
}