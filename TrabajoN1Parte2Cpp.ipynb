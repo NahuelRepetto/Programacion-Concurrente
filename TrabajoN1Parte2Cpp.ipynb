{
  "nbformat": 4,
  "nbformat_minor": 0,
  "metadata": {
    "colab": {
      "provenance": [],
      "authorship_tag": "ABX9TyNreJstqHWMaCd6cAYO7174",
      "include_colab_link": true
    },
    "kernelspec": {
      "name": "python3",
      "display_name": "Python 3"
    },
    "language_info": {
      "name": "python"
    }
  },
  "cells": [
    {
      "cell_type": "markdown",
      "metadata": {
        "id": "view-in-github",
        "colab_type": "text"
      },
      "source": [
        "<a href=\"https://colab.research.google.com/github/NahuelRepetto/Programacion-Concurrente/blob/main/TrabajoN1Parte2Cpp.ipynb\" target=\"_parent\"><img src=\"https://colab.research.google.com/assets/colab-badge.svg\" alt=\"Open In Colab\"/></a>"
      ]
    },
    {
      "cell_type": "code",
      "source": [
        "%%writefile Matrices.cpp\n",
        "#include <iostream>\n",
        "#include <cstdlib>\n",
        "#include <thread>\n",
        "#include <vector>\n",
        "#include <random>\n",
        "using namespace std;\n",
        "#define MAX_DIMENSION 20\n",
        "#define MIN_DIMENSION 5\n",
        "#define MAX_VALOR 32\n",
        "#define MIN_VALOR -32\n",
        "\n",
        "void inicializarMatriz(int n, int ***matriz, int min, int max)\n",
        "{\n",
        "  (*matriz) = (int**)malloc(n*sizeof(int*));    \n",
        "  random_device device;\n",
        "  mt19937 generador(device());\n",
        "  uniform_int_distribution<> distribucion(min, max);    \n",
        "  for(int i=0; i<n; i++)\n",
        "  {\n",
        "    (*matriz)[i] = (int*)malloc(n*sizeof(int));\n",
        "    for(int j=0; j<n; j++)          \n",
        "      (*matriz)[i][j] = distribucion(generador);         \n",
        "  }  \n",
        "}\n",
        "\n",
        "void calcularProducto(int n, int fila, int **matrizA, int **matrizB, int **matrizC)\n",
        "{\n",
        "  for(int i=0; i<n; i++)\n",
        "    for(int j=0; j<n; j++)\n",
        "      matrizC[fila][i] += matrizA[fila][j] * matrizB[j][i];       \n",
        "}\n",
        "\n",
        "void mostrarMatriz(int **matriz, int n, string nombre)\n",
        "{\n",
        "  cout<<endl<<\"Matriz \"<<nombre<<\":\"<<endl;\n",
        "  for(int i=0; i<n; i++)\n",
        "  {    \n",
        "    cout<<\"| \";\n",
        "    for(int j=0; j<n; j++)\n",
        "    {\n",
        "      if(matriz[i][j] < -999)\n",
        "        cout<<matriz[i][j]<<\" \";\n",
        "      else if (matriz[i][j] < -99 || matriz[i][j] > 999)\n",
        "        cout<<\" \"<<matriz[i][j]<<\" \";    \n",
        "      else if (matriz[i][j] < -9 || matriz[i][j] > 99)\n",
        "        cout<<\"  \"<<matriz[i][j]<<\" \"; \n",
        "      else if (matriz[i][j] < 0 || matriz[i][j] > 9)\n",
        "        cout<<\"   \"<<matriz[i][j]<<\" \";\n",
        "      else if (matriz[i][j] < 10)\n",
        "        cout<<\"    \"<<matriz[i][j]<<\" \";                                  \n",
        "    }       \n",
        "    cout<<\"  |\"<<endl;\n",
        "  }\n",
        "}\n",
        "\n",
        "int main(int argc, char *argv[])\n",
        "{      \n",
        "  //VERIFICO QUE SE HAYA ENVIADO EL NUMERO DE FILAS/COLUMNAS\n",
        "  if( argc < 2 ) \n",
        "  {\n",
        "    printf(\"Debe ingresar el numero de filas/columnas, dentro del rango de 5 a 20.\\n\");\n",
        "    exit(1);\n",
        "  }\n",
        "\n",
        "  int n = atoi(argv[1]); //DIMENSIN DE LA MATRIZ    \n",
        "\n",
        "  //VERIFICO QUE SE HAYA ENVIADO EL NUMERO DENTRO DE LOS LIMITES ESTABLECIDOS\n",
        "  if( n < MIN_DIMENSION || n > MAX_DIMENSION ) \n",
        "  {\n",
        "    printf(\"El numero de filas/columnas debe estar dentro del rango de 5 a 20.\\n\");\n",
        "    exit(1);\n",
        "  }    \n",
        "\n",
        "  //CREO LAS Matrices\n",
        "  int **A, **B, **CS, **CH;   \n",
        "\n",
        "  //INICIALIZO LAS MATRICES, A Y B CON VALORES RANDOM, CS Y CH EN 0\n",
        "  inicializarMatriz(n, &A, MIN_VALOR, MAX_VALOR);\n",
        "  inicializarMatriz(n, &B, MIN_VALOR, MAX_VALOR);\n",
        "  inicializarMatriz(n, &CS, 0, 0);\n",
        "  inicializarMatriz(n, &CH, 0, 0);\n",
        "                \n",
        "  //CALCULO VALORES DE CS (SECUENCIAL)\n",
        "  for(int i=0; i<n; i++)\n",
        "    calcularProducto(n, i, A, B, CS);    \n",
        "    \n",
        "  //CALCULO VALORES DE CH (CON CONCURRENCIA)\n",
        "  //CREO UN VECTOR PARA ALMACENAR LAS REFERENCIAS A LOS HILOS CREADOS\n",
        "  vector<thread> hilos;\n",
        "\n",
        "  //CREO N HILOS\n",
        "  for(int i=0; i<n; i++)     \n",
        "    hilos.push_back(thread(calcularProducto, n, i, A, B, CH));                 \n",
        "           \n",
        "  //ESPERO A LOS N HILOS \n",
        "  for(int i=0; i<n; i++) \n",
        "    hilos[i].join();\n",
        "\n",
        "  //MUESTRO LOS RESULTADOS\n",
        "  mostrarMatriz(A,n,\"A\");    \n",
        "  mostrarMatriz(B,n,\"B\");\n",
        "  mostrarMatriz(CS,n,\"CS\"); \n",
        "  mostrarMatriz(CH,n,\"CH\"); \n",
        "\n",
        "  return 0;\n",
        "}"
      ],
      "metadata": {
        "colab": {
          "base_uri": "https://localhost:8080/"
        },
        "id": "kM0F0uaytv08",
        "outputId": "ac5bf028-311a-495c-d54e-cdee6dee1969"
      },
      "execution_count": 212,
      "outputs": [
        {
          "output_type": "stream",
          "name": "stdout",
          "text": [
            "Overwriting Matrices.cpp\n"
          ]
        }
      ]
    },
    {
      "cell_type": "code",
      "source": [
        "!g++ -pthread -o Matrices Matrices.cpp"
      ],
      "metadata": {
        "id": "99ICz6zmRRYU"
      },
      "execution_count": 213,
      "outputs": []
    },
    {
      "cell_type": "code",
      "source": [
        "!./Matrices 5"
      ],
      "metadata": {
        "colab": {
          "base_uri": "https://localhost:8080/"
        },
        "id": "9dDmxBwFxIW0",
        "outputId": "5c78f922-89bb-4ccc-dc60-84f919b34b40"
      },
      "execution_count": 216,
      "outputs": [
        {
          "output_type": "stream",
          "name": "stdout",
          "text": [
            "\n",
            "Matriz A:\n",
            "|    15     8   -13    19    27   |\n",
            "|   -31     1    30    -2     9   |\n",
            "|     7   -13    -2   -15    -9   |\n",
            "|   -15     9   -31   -19   -18   |\n",
            "|    -3    26    10    11     3   |\n",
            "\n",
            "Matriz B:\n",
            "|    -3    27    13   -18     4   |\n",
            "|   -32     3   -23    -7    -7   |\n",
            "|   -32    10   -26   -24     1   |\n",
            "|     3    24   -17    -2     3   |\n",
            "|   -14   -15    -3    23     4   |\n",
            "\n",
            "Matriz CS:\n",
            "|  -206   350   -55   569   156   |\n",
            "| -1031  -717 -1199    42   -71   |\n",
            "|   540   -95   724  -164    36   |\n",
            "|   944  -874   781   575  -283   |\n",
            "| -1152   316 -1093  -321  -139   |\n",
            "\n",
            "Matriz CH:\n",
            "|  -206   350   -55   569   156   |\n",
            "| -1031  -717 -1199    42   -71   |\n",
            "|   540   -95   724  -164    36   |\n",
            "|   944  -874   781   575  -283   |\n",
            "| -1152   316 -1093  -321  -139   |\n"
          ]
        }
      ]
    }
  ]
}