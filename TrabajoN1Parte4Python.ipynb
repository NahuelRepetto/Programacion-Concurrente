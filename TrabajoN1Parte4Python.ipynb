{
  "nbformat": 4,
  "nbformat_minor": 0,
  "metadata": {
    "colab": {
      "provenance": [],
      "authorship_tag": "ABX9TyNhTGnPA7edRD9IVwESpSOz",
      "include_colab_link": true
    },
    "kernelspec": {
      "name": "python3",
      "display_name": "Python 3"
    },
    "language_info": {
      "name": "python"
    }
  },
  "cells": [
    {
      "cell_type": "markdown",
      "metadata": {
        "id": "view-in-github",
        "colab_type": "text"
      },
      "source": [
        "<a href=\"https://colab.research.google.com/github/NahuelRepetto/Programacion-Concurrente/blob/main/TrabajoN1Parte4Python.ipynb\" target=\"_parent\"><img src=\"https://colab.research.google.com/assets/colab-badge.svg\" alt=\"Open In Colab\"/></a>"
      ]
    },
    {
      "cell_type": "code",
      "source": [
        "%%writefile CrearContraseña.py\n",
        "import sys\n",
        "import threading\n",
        "\n",
        "caracter = 0\n",
        "mtx = threading.Lock()\n",
        "\n",
        "def convertirRango(clave, cantidad):  \n",
        "  global caracter  \n",
        "  for i in range(cantidad):    \n",
        "    mtx.acquire()\n",
        "    if clave[caracter]>='A'and clave[caracter]<='Z':\n",
        "        clave[caracter] = ord(clave[caracter])-64  \n",
        "    caracter = caracter + 1 \n",
        "    mtx.release()  \n",
        "        \n",
        "#VERIFICO QUE SE HAYA ENVIADO UNA CADENA\n",
        "if len(sys.argv) < 2: \n",
        "  sys.exit(\"Debe ingresar la cadena con la cual generar la contraseña.\")\n",
        "\n",
        "cadena = sys.argv[1]\n",
        "\n",
        "#PASO LA CADENA A MAYUSCULAS\n",
        "cadena = cadena.upper()\n",
        "lista = list(cadena)  \n",
        "\n",
        "#CREO N HILOS   \n",
        "longLista = len(lista)\n",
        "longListaDivDos = int(longLista/2)\n",
        "hilo1 = threading.Thread( target=convertirRango, args=(lista, longListaDivDos,) )\n",
        "hilo2 = threading.Thread( target=convertirRango, args=(lista, longLista-longListaDivDos,) )           \n",
        "\n",
        "#INICIO A LOS N HILOS\n",
        "hilo1.start() \n",
        "hilo2.start() \n",
        "\n",
        "#ESPERO A LOS N HILOS \n",
        "hilo1.join()\n",
        "hilo1.join()\n",
        "\n",
        "#PASO LA CLAVE A STRING\n",
        "clave = \"\".join([str(_) for _ in lista])\n",
        "\n",
        "#MUESTRO LOS RESULTADOS\n",
        "print(\"Cadena recibida: %s\" %cadena)\n",
        "print(\"Clave generada : %s\" %clave)\n"
      ],
      "metadata": {
        "colab": {
          "base_uri": "https://localhost:8080/"
        },
        "id": "zNMMbgkInJM0",
        "outputId": "bf04999c-c71f-42d1-9246-69c31e042ae4"
      },
      "execution_count": 107,
      "outputs": [
        {
          "output_type": "stream",
          "name": "stdout",
          "text": [
            "Overwriting CrearContraseña.py\n"
          ]
        }
      ]
    },
    {
      "cell_type": "code",
      "source": [
        "!python CrearContraseña.py hola1.2.3nahuel-aBcDe"
      ],
      "metadata": {
        "colab": {
          "base_uri": "https://localhost:8080/"
        },
        "id": "4R_l4xYEIC00",
        "outputId": "f56382e3-63c1-4605-e86d-c1de2e8dd20b"
      },
      "execution_count": 110,
      "outputs": [
        {
          "output_type": "stream",
          "name": "stdout",
          "text": [
            "Cadena recibida: HOLA1.2.3NAHUEL-ABCDE\n",
            "Clave generada : 8151211.2.3141821512-12345\n"
          ]
        }
      ]
    }
  ]
}