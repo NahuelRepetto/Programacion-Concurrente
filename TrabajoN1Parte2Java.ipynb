{
  "nbformat": 4,
  "nbformat_minor": 0,
  "metadata": {
    "colab": {
      "provenance": [],
      "authorship_tag": "ABX9TyPwI+W9dewomYZSaUVGxSgm",
      "include_colab_link": true
    },
    "kernelspec": {
      "name": "python3",
      "display_name": "Python 3"
    },
    "language_info": {
      "name": "python"
    }
  },
  "cells": [
    {
      "cell_type": "markdown",
      "metadata": {
        "id": "view-in-github",
        "colab_type": "text"
      },
      "source": [
        "<a href=\"https://colab.research.google.com/github/NahuelRepetto/Programacion-Concurrente/blob/main/TrabajoN1Parte2Java.ipynb\" target=\"_parent\"><img src=\"https://colab.research.google.com/assets/colab-badge.svg\" alt=\"Open In Colab\"/></a>"
      ]
    },
    {
      "cell_type": "code",
      "source": [
        "%%writefile Matrices.java\n",
        "import java.io.IOException;\n",
        "import java.util.ArrayList;\n",
        "\n",
        "public class Matriz\n",
        "{  \n",
        "  private static final int MAX_DIMENSION = 20;\n",
        "  private static final int MIN_DIMENSION = 5;\n",
        "  private static final int MAX_VALOR = 32;\n",
        "  private static final int MIN_VALOR = -32;\n",
        "\n",
        "  public static class Hilo extends Thread\n",
        "  {\n",
        "    private int dimension;\n",
        "    private int fila;\n",
        "    private int[][] matrizA;\n",
        "    private int[][] matrizB;\n",
        "    private int[][] matrizC;\n",
        "    \n",
        "    public Hilo(int dimension, int fila, int[][] matrizA, int[][] matrizB, int[][] matrizC)\n",
        "    {\n",
        "      super();\n",
        "      this.dimension = dimension;\n",
        "      this.fila = fila;\n",
        "      this.matrizA = matrizA;\n",
        "      this.matrizB = matrizB;\n",
        "      this.matrizC = matrizC;\n",
        "    }\n",
        "\n",
        "    public void run()\n",
        "    {      \n",
        "      for(int i=0; i<dimension; i++)\n",
        "        for(int j=0; j<dimension; j++)\n",
        "          matrizC[fila][i] += matrizA[fila][j] * matrizB[j][i];      \n",
        "    }\n",
        "  }\n",
        "\n",
        "  public static int[][] inicializarMatriz(int dimension, int min, int max)\n",
        "  {\n",
        "    int [][] matriz = new int [dimension][dimension];\n",
        "    for(int i=0; i<dimension; i++)\n",
        "    {\n",
        "      for(int j=0; j<dimension; j++)          \n",
        "      matriz[i][j] = (int)(Math.random()*(max-min+1)+min);       \n",
        "    } \n",
        "    return matriz;\n",
        "  }\n",
        "\n",
        "  public static void calcularProducto(int dimension, int fila, int[][] matrizA, int[][] matrizB, int[][] matrizC)\n",
        "  {\n",
        "    for(int i=0; i<dimension; i++)\n",
        "      for(int j=0; j<dimension; j++)\n",
        "        matrizC[fila][i] += matrizA[fila][j] * matrizB[j][i];  \n",
        "  }\n",
        "\n",
        "  public static void mostrarMatriz(int dimension, int[][] matriz, String nombre)\n",
        "  {  \n",
        "    System.out.println();  \n",
        "    System.out.println(\"Matriz \" + nombre);\n",
        "    for(int i = 0; i < dimension; i++) \n",
        "    {\n",
        "      System.out.print(\"| \");\n",
        "      for (int j = 0; j < dimension; j++) \n",
        "      {\n",
        "        if(matriz[i][j] < -999)\n",
        "          System.out.print(matriz[i][j] + \" \");\n",
        "        else if(matriz[i][j] < -99 || matriz[i][j] > 999)\n",
        "          System.out.print(\" \" + matriz[i][j] + \" \");             \n",
        "        else if(matriz[i][j] < -9 || matriz[i][j] > 99)\n",
        "          System.out.print(\"  \" + matriz[i][j] + \" \");          \n",
        "        else if(matriz[i][j] < 0 || matriz[i][j] > 9)\n",
        "          System.out.print(\"   \" + matriz[i][j] + \" \");          \n",
        "        else if(matriz[i][j] < 10)\n",
        "          System.out.print(\"    \" + matriz[i][j] + \" \");            \n",
        "      }\n",
        "      System.out.print(\"  |\");\n",
        "      System.out.println();\n",
        "    }  \n",
        "  }\n",
        "\n",
        "  public static void main(String[] args) throws InterruptedException \n",
        "  {    \n",
        "    //VERIFICO QUE SE HAYA ENVIADO EL NUMERO DE FILAS/COLUMNAS\n",
        "    if( args.length < 1 ) \n",
        "    {\n",
        "      System.out.println(\"Debe ingresar el numero de filas/columnas, dentro del rango de \" + MIN_DIMENSION + \" a \" + MAX_DIMENSION); \n",
        "      System.exit(1);\n",
        "    }\n",
        "\n",
        "    int n = Integer.parseInt(args[0]); //DIMENSIN DE LA MATRIZ     \n",
        "\n",
        "    //VERIFICO QUE SE HAYA ENVIADO EL NUMERO DENTRO DE LOS LIMITES ESTABLECIDOS\n",
        "    if( n < MIN_DIMENSION || n > MAX_DIMENSION ) \n",
        "    {\n",
        "     System.out.println(\"El numero de filas/columnas debe estar dentro del rango de \" + MIN_DIMENSION + \" a \" + MAX_DIMENSION);    \n",
        "     System.exit(1);\n",
        "    }  \n",
        "    \n",
        "    //INICIALIZO LAS MATRICES, A Y B CON VALORES RANDOM, CS Y CH EN 0\n",
        "    int [][] matrizA = inicializarMatriz(n, MIN_VALOR, MAX_VALOR);\n",
        "    int [][] matrizB = inicializarMatriz(n, MIN_VALOR, MAX_VALOR);\n",
        "    int [][] matrizCS = inicializarMatriz(n, 0, 0);\n",
        "    int [][] matrizCH = inicializarMatriz(n, 0, 0);\n",
        "    \n",
        "    //CALCULO VALORES DE CS (SECUENCIAL)\n",
        "    for(int i=0; i<n; i++)    \n",
        "      calcularProducto(n, i, matrizA, matrizB, matrizCS);\n",
        "    \n",
        "    //CALCULO VALORES DE CH (CON CONCURRENCIA)\n",
        "    //CREO UNA ESTRUCTURA PARA ALMACENAR LAS REFERENCIAS A LOS HILOS CREADOS    \n",
        "    ArrayList<Hilo> hilos = new ArrayList<Hilo>();\n",
        "\n",
        "    //CREO N HILOS\n",
        "    for(int i=0; i<n; i++)  \n",
        "      hilos.add(new Hilo(n, i, matrizA, matrizB, matrizCH));     \n",
        "   \n",
        "    //INICIO A LOS N HILOS \n",
        "    for (Hilo h: hilos) \n",
        "      h.start();          \n",
        "           \n",
        "    //ESPERO A LOS N HILOS \n",
        "    for (Hilo h: hilos) \n",
        "      h.join();\n",
        "    \n",
        "    //MUESTRO LOS RESULTADOS\n",
        "    mostrarMatriz(n, matrizA,\"A\");    \n",
        "    mostrarMatriz(n, matrizB,\"B\");\n",
        "    mostrarMatriz(n, matrizCS,\"CS\"); \n",
        "    mostrarMatriz(n, matrizCH,\"CH\");\n",
        "  }\n",
        "}"
      ],
      "metadata": {
        "colab": {
          "base_uri": "https://localhost:8080/"
        },
        "id": "BapUMFh9byoh",
        "outputId": "b16826c1-15f5-4bde-c197-aa069d81fc15"
      },
      "execution_count": 89,
      "outputs": [
        {
          "output_type": "stream",
          "name": "stdout",
          "text": [
            "Overwriting Matrices.java\n"
          ]
        }
      ]
    },
    {
      "cell_type": "code",
      "source": [
        "!java Matrices.java 5"
      ],
      "metadata": {
        "colab": {
          "base_uri": "https://localhost:8080/"
        },
        "id": "gX5c2XXDbdC6",
        "outputId": "6ffd76ba-39d3-4769-caad-f8e7c1b21c75"
      },
      "execution_count": 91,
      "outputs": [
        {
          "output_type": "stream",
          "name": "stdout",
          "text": [
            "\n",
            "Matriz A\n",
            "|    20     2   -23     9    14   |\n",
            "|   -17    30   -30   -20    30   |\n",
            "|   -17     6    32    29    -3   |\n",
            "|    23     0    -7     8    29   |\n",
            "|    25   -24    24    16    14   |\n",
            "\n",
            "Matriz B\n",
            "|    10     5    -7     4    -1   |\n",
            "|    19    31    18   -22    17   |\n",
            "|   -17    24    20     6    17   |\n",
            "|    -5   -29   -24     9   -23   |\n",
            "|    27   -13   -25    27   -16   |\n",
            "\n",
            "Matriz CS\n",
            "|   962  -833 -1130   357  -808   |\n",
            "|  1820   315  -211  -278    -3   |\n",
            "|  -826    67   246   172    44   |\n",
            "|  1092  -662 -1218   905  -790   |\n",
            "|  -316  -689  -861  1294  -617   |\n",
            "\n",
            "Matriz CH\n",
            "|   962  -833 -1130   357  -808   |\n",
            "|  1820   315  -211  -278    -3   |\n",
            "|  -826    67   246   172    44   |\n",
            "|  1092  -662 -1218   905  -790   |\n",
            "|  -316  -689  -861  1294  -617   |\n"
          ]
        }
      ]
    }
  ]
}