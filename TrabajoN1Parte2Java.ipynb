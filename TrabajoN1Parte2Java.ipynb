{
  "nbformat": 4,
  "nbformat_minor": 0,
  "metadata": {
    "colab": {
      "provenance": [],
      "authorship_tag": "ABX9TyNv/YhBhDj39PHBBKEj1lGw",
      "include_colab_link": true
    },
    "kernelspec": {
      "name": "python3",
      "display_name": "Python 3"
    },
    "language_info": {
      "name": "python"
    }
  },
  "cells": [
    {
      "cell_type": "markdown",
      "metadata": {
        "id": "view-in-github",
        "colab_type": "text"
      },
      "source": [
        "<a href=\"https://colab.research.google.com/github/NahuelRepetto/Programacion-Concurrente/blob/main/TrabajoN1Parte2Java.ipynb\" target=\"_parent\"><img src=\"https://colab.research.google.com/assets/colab-badge.svg\" alt=\"Open In Colab\"/></a>"
      ]
    },
    {
      "cell_type": "code",
      "source": [
        "%%writefile Matrices.java\n",
        "import java.io.IOException;\n",
        "import java.util.ArrayList;\n",
        "\n",
        "public class Matriz\n",
        "{  \n",
        "  //DEFINICION DE CONSTANTES\n",
        "  private static final int CANT_MAX_ARGS = 1;\n",
        "  private static final int MAX_DIMENSION = 20;\n",
        "  private static final int MIN_DIMENSION = 5;\n",
        "  private static final int MAX_VALOR = 32;\n",
        "  private static final int MIN_VALOR = -32;\n",
        "  private static final int MAX_LENGTH_VALUE = 5;\n",
        "\n",
        "  public static class Hilo extends Thread\n",
        "  {    \n",
        "    private int fila;\n",
        "    private int[][] matrizA;\n",
        "    private int[][] matrizB;\n",
        "    private int[][] matrizC;\n",
        "    \n",
        "    public Hilo(int fila, int[][] matrizA, int[][] matrizB, int[][] matrizC)\n",
        "    {\n",
        "      super();      \n",
        "      this.fila = fila;\n",
        "      this.matrizA = matrizA;\n",
        "      this.matrizB = matrizB;\n",
        "      this.matrizC = matrizC;\n",
        "    }\n",
        "\n",
        "    public void run()\n",
        "    {      \n",
        "      for(int i=0; i<matrizA.length; i++)\n",
        "        for(int j=0; j<matrizB.length; j++)\n",
        "          matrizC[fila][i] += matrizA[fila][j] * matrizB[j][i];      \n",
        "    }\n",
        "  }\n",
        "\n",
        "  public static int[][] inicializarMatriz(int dimension, int min, int max)\n",
        "  {\n",
        "    int [][] matriz = new int [dimension][dimension];\n",
        "    for(int i=0; i<dimension; i++)\n",
        "    {\n",
        "      for(int j=0; j<dimension; j++)          \n",
        "      matriz[i][j] = (int)(Math.random()*(max-min+1)+min);       \n",
        "    } \n",
        "    return matriz;\n",
        "  }\n",
        "\n",
        "  public static void calcularProducto(int fila, int[][] matrizA, int[][] matrizB, int[][] matrizC)\n",
        "  {\n",
        "    for(int i=0; i<matrizA.length; i++)\n",
        "      for(int j=0; j<matrizB.length; j++)\n",
        "        matrizC[fila][i] += matrizA[fila][j] * matrizB[j][i];  \n",
        "  }\n",
        "\n",
        "  public static void mostrarMatriz(int[][] matriz, String nombre)\n",
        "  {       \n",
        "    System.out.println(\"\\nMatriz \" + nombre);\n",
        "    for(int i = 0; i < matriz.length; i++) \n",
        "    {\n",
        "      System.out.print(\"| \");\n",
        "      for (int j = 0; j < matriz.length; j++)      \n",
        "        System.out.printf(\"%\" + MAX_LENGTH_VALUE + \"d \", matriz[i][j]);              \n",
        "      System.out.print(\"  |\\n\");      \n",
        "    }  \n",
        "  }\n",
        "\n",
        "  public static void main(String[] args) throws InterruptedException \n",
        "  {    \n",
        "    //VERIFICO QUE SE HAYA ENVIADO UN ARGUMENTO PARA EL NUMERO DE FILAS/COLUMNAS\n",
        "    if( args.length != CANT_MAX_ARGS ) \n",
        "    {\n",
        "      System.out.println(\"Debe ingresar SOLO el numero de filas/columnas, dentro del rango de \" + MIN_DIMENSION + \" a \" + MAX_DIMENSION); \n",
        "      System.exit(1);\n",
        "    }    \n",
        "\n",
        "    //VALIDO QUE EL ARGUMANTO PASADO SEA VALIDO  \n",
        "    try\n",
        "    {\n",
        "      Integer.parseInt(args[0]); \n",
        "    }\n",
        "    catch (NumberFormatException nfe)\n",
        "    {\n",
        "      System.out.println(\"Tipo de argumento inválido.\");\n",
        "      System.exit(1);\n",
        "    }\n",
        "   \n",
        "    int n = Integer.parseInt(args[0]); //DIMENSIN DE LA MATRIZ  \n",
        "\n",
        "    //VERIFICO QUE SE HAYA ENVIADO EL NUMERO DENTRO DE LOS LIMITES ESTABLECIDOS\n",
        "    if( n < MIN_DIMENSION || n > MAX_DIMENSION ) \n",
        "    {\n",
        "     System.out.println(\"El numero de filas/columnas debe estar dentro del rango de \" + MIN_DIMENSION + \" a \" + MAX_DIMENSION);    \n",
        "     System.exit(1);\n",
        "    }  \n",
        "    \n",
        "    //INICIALIZO LAS MATRICES, A Y B CON VALORES RANDOM, CS Y CH EN 0\n",
        "    int [][] matrizA = inicializarMatriz(n, MIN_VALOR, MAX_VALOR);\n",
        "    int [][] matrizB = inicializarMatriz(n, MIN_VALOR, MAX_VALOR);\n",
        "    int [][] matrizCS = inicializarMatriz(n, 0, 0);\n",
        "    int [][] matrizCH = inicializarMatriz(n, 0, 0);\n",
        "    \n",
        "    //CALCULO VALORES DE CS (SECUENCIAL)\n",
        "    for(int i=0; i<n; i++)    \n",
        "      calcularProducto(i, matrizA, matrizB, matrizCS);\n",
        "    \n",
        "    //CALCULO VALORES DE CH (CON CONCURRENCIA)\n",
        "    //CREO UNA ESTRUCTURA PARA ALMACENAR LAS REFERENCIAS A LOS HILOS CREADOS    \n",
        "    ArrayList<Hilo> hilos = new ArrayList<Hilo>();\n",
        "\n",
        "    //CREO N HILOS\n",
        "    for(int i=0; i<n; i++)  \n",
        "      hilos.add(new Hilo(i, matrizA, matrizB, matrizCH));     \n",
        "   \n",
        "    //INICIO A LOS N HILOS \n",
        "    for (Hilo h: hilos) \n",
        "      h.start();          \n",
        "           \n",
        "    //ESPERO A LOS N HILOS \n",
        "    for (Hilo h: hilos) \n",
        "      h.join();\n",
        "    \n",
        "    //MUESTRO LOS RESULTADOS\n",
        "    mostrarMatriz(matrizA,\"A\");    \n",
        "    mostrarMatriz(matrizB,\"B\");\n",
        "    mostrarMatriz(matrizCS,\"CS\"); \n",
        "    mostrarMatriz(matrizCH,\"CH\");\n",
        "  }\n",
        "}"
      ],
      "metadata": {
        "colab": {
          "base_uri": "https://localhost:8080/"
        },
        "id": "BapUMFh9byoh",
        "outputId": "33684e07-e00f-4c49-bac2-55d02440b1d5"
      },
      "execution_count": 23,
      "outputs": [
        {
          "output_type": "stream",
          "name": "stdout",
          "text": [
            "Overwriting Matrices.java\n"
          ]
        }
      ]
    },
    {
      "cell_type": "code",
      "source": [
        "!java Matrices.java 5"
      ],
      "metadata": {
        "colab": {
          "base_uri": "https://localhost:8080/"
        },
        "id": "gX5c2XXDbdC6",
        "outputId": "7c1fd76d-3faf-4352-e6b3-9844b5228ec9"
      },
      "execution_count": 22,
      "outputs": [
        {
          "output_type": "stream",
          "name": "stdout",
          "text": [
            "\n",
            "Matriz A\n",
            "|    32   -31    21    31   -14   |\n",
            "|     0    27    14   -23   -14   |\n",
            "|     8    31    16   -21     9   |\n",
            "|   -13     6    24     6     8   |\n",
            "|   -11    10    23    15   -19   |\n",
            "\n",
            "Matriz B\n",
            "|   -23    -3    18     4    -2   |\n",
            "|    23    -6     5    -7   -24   |\n",
            "|    30    15    -6     4   -22   |\n",
            "|   -14   -28   -21   -22    19   |\n",
            "|   -10    13   -12    -9     0   |\n",
            "\n",
            "Matriz CS\n",
            "| -1113  -645  -188  -127   807   |\n",
            "|  1503   510   702   499 -1393   |\n",
            "|  1213   735   536   260 -1511   |\n",
            "|   993   299  -570  -202  -532   |\n",
            "|  1153  -349  -373  -181  -439   |\n",
            "\n",
            "Matriz CH\n",
            "| -1113  -645  -188  -127   807   |\n",
            "|  1503   510   702   499 -1393   |\n",
            "|  1213   735   536   260 -1511   |\n",
            "|   993   299  -570  -202  -532   |\n",
            "|  1153  -349  -373  -181  -439   |\n"
          ]
        }
      ]
    }
  ]
}