{
  "cells": [
    {
      "cell_type": "markdown",
      "metadata": {
        "id": "view-in-github",
        "colab_type": "text"
      },
      "source": [
        "<a href=\"https://colab.research.google.com/github/NahuelRepetto/Programacion-Concurrente/blob/main/TrabajoN1.ipynb\" target=\"_parent\"><img src=\"https://colab.research.google.com/assets/colab-badge.svg\" alt=\"Open In Colab\"/></a>"
      ]
    },
    {
      "cell_type": "markdown",
      "metadata": {
        "id": "4Ds0M50g405t"
      },
      "source": [
        "# **EJERCICIO EN C**"
      ]
    },
    {
      "cell_type": "code",
      "execution_count": null,
      "metadata": {
        "colab": {
          "base_uri": "https://localhost:8080/"
        },
        "id": "Xx7iD0fT8cPv",
        "outputId": "22cf72ed-1731-4d66-a1e2-46d57e9724c1"
      },
      "outputs": [
        {
          "output_type": "stream",
          "name": "stdout",
          "text": [
            "Writing fork.c\n"
          ]
        }
      ],
      "source": [
        "%%writefile fork.c\n",
        "#include <stdlib.h>\n",
        "#include <stdio.h>\n",
        "#include <unistd.h>\n",
        "#include <sys/wait.h>\n",
        "\n",
        "int main(int argc, char *argv[]) \n",
        "{\n",
        "  char identidadDelProceso = 'A';  \n",
        "  int cantHijosA = 3;\n",
        "  int cantHijosB = 2;  \n",
        "  int cantHijosC = 0; \n",
        "  int cantHijosD = 1; \n",
        "  int i,j;\n",
        "  pid_t pid;  \n",
        "\n",
        "  for (i=0; i<cantHijosA; i++)      //CREO TODOS LOS HIJOS DEL PROCESO PRINCIPAL\n",
        "  {    \n",
        "    pid = fork();    \n",
        "\n",
        "    if ( pid < 0 )                  //SI HUBO ERROR DE CREACION TERMINO\n",
        "    {\n",
        "      printf(\"Error al crear el nuevo proceso !!!\\n\");\n",
        "\t    return EXIT_FAILURE;\n",
        "    }\t\t\t  \n",
        "\n",
        "    if( !pid )                    //SI ESTOY EN EL HIJO\n",
        "    {\n",
        "      identidadDelProceso = identidadDelProceso + i + 1;  \n",
        "      printf(\"Soy el proceso %c con PID: %d. Mi padre es el proceso con PID: %d.\\n\",identidadDelProceso, getpid(), getppid());\t    \n",
        "\n",
        "      int cantNietos;\n",
        "      \n",
        "      if( identidadDelProceso == 'B')\n",
        "      { \n",
        "        cantNietos = cantHijosB;\n",
        "        identidadDelProceso = 'A' + cantHijosA + 1;\n",
        "      }\n",
        "      else if( identidadDelProceso == 'C')\n",
        "      { \n",
        "        cantNietos = cantHijosC;\n",
        "        identidadDelProceso = 'A' + cantHijosA + cantHijosB+ 1;\n",
        "      }\n",
        "      else if( identidadDelProceso == 'D')\n",
        "      { \n",
        "        cantNietos = cantHijosD;\n",
        "        identidadDelProceso = 'A' + cantHijosA + cantHijosB + cantHijosC + 1;\n",
        "      }\n",
        "\n",
        "      for (j=0; j<cantNietos; j++)  //CREO LA CANTIDAD DE NIETOS CORRESPONDIENTE A CADA HIJO\n",
        "      {                    \n",
        "        pid = fork(); \n",
        "\n",
        "        if ( pid < 0 )\n",
        "        {\n",
        "          printf(\"Error al crear el nuevo proceso !!!\\n\");\n",
        "          return EXIT_FAILURE;\n",
        "        }\t\t\n",
        "\n",
        "        if( !pid )\n",
        "        {\n",
        "          identidadDelProceso = identidadDelProceso + j;\n",
        "          printf(\"Soy el proceso %c con PID: %d. Mi padre es el proceso con PID: %d.\\n\",identidadDelProceso, getpid(), getppid());\n",
        "          sleep(1000);\n",
        "          return EXIT_SUCCESS;\n",
        "        }\n",
        "      }       \n",
        "      \n",
        "      sleep(1000);\n",
        "  \t  return EXIT_SUCCESS;\n",
        "    }\n",
        "  }\n",
        "  \n",
        "  //SI LLEGO A ESTE PUNTO SOY EL PROCESO PADRE, LOS HIJOS FINALIZAN ANTES \n",
        "\n",
        "  printf(\"Soy el proceso %c con PID: %d. Mi padre es el proceso con PID: %d.\\n\", identidadDelProceso, getpid(), getppid());\n",
        "  \n",
        "  for (i=0; i<cantHijosA; i++)\n",
        "  {\n",
        "    wait(NULL);\n",
        "  } \n",
        "    \t\n",
        "  return EXIT_SUCCESS;\n",
        "}"
      ]
    },
    {
      "cell_type": "code",
      "execution_count": null,
      "metadata": {
        "id": "6qS5l12LHBVO"
      },
      "outputs": [],
      "source": [
        "!gcc -o fork.bin fork.c"
      ]
    },
    {
      "cell_type": "code",
      "execution_count": null,
      "metadata": {
        "id": "tySr1D1lerFQ"
      },
      "outputs": [],
      "source": [
        "!./fork.bin"
      ]
    },
    {
      "cell_type": "code",
      "execution_count": null,
      "metadata": {
        "id": "Vc5rHLDXIDae"
      },
      "outputs": [],
      "source": [
        "!nohup ./fork.bin 1>salida 2>/dev/null &"
      ]
    },
    {
      "cell_type": "code",
      "execution_count": null,
      "metadata": {
        "id": "FOm-bhUeIP49"
      },
      "outputs": [],
      "source": [
        "!ps -ef | grep fork.bin"
      ]
    },
    {
      "cell_type": "code",
      "execution_count": null,
      "metadata": {
        "id": "07m02RRu6c8E"
      },
      "outputs": [],
      "source": [
        "!kill 493               "
      ]
    },
    {
      "cell_type": "code",
      "execution_count": null,
      "metadata": {
        "id": "0rWwi_OoIlCs",
        "colab": {
          "base_uri": "https://localhost:8080/"
        },
        "outputId": "59798d08-2643-4329-9c3f-6b63360fa1bf"
      },
      "outputs": [
        {
          "output_type": "stream",
          "name": "stdout",
          "text": [
            "fork.bin(567)─┬─fork.bin(568)─┬─fork.bin(571)\n",
            "              │               └─fork.bin(572)\n",
            "              ├─fork.bin(569)\n",
            "              └─fork.bin(570)───fork.bin(573)\n"
          ]
        }
      ],
      "source": [
        "!pstree -pc 567                      "
      ]
    },
    {
      "cell_type": "markdown",
      "metadata": {
        "id": "NKqCTofP70Ub"
      },
      "source": [
        "# **EJERCICIO EN JAVA**"
      ]
    },
    {
      "cell_type": "code",
      "execution_count": null,
      "metadata": {
        "colab": {
          "base_uri": "https://localhost:8080/"
        },
        "id": "WPlbhBYN7-o7",
        "outputId": "873b4474-3a70-4ad7-8124-70570da042ba"
      },
      "outputs": [
        {
          "output_type": "stream",
          "name": "stdout",
          "text": [
            "Writing CreacionDeProcesos.java\n"
          ]
        }
      ],
      "source": [
        "%%writefile CreacionDeProcesos.java\n",
        "import java.io.IOException;\n",
        "\n",
        "public class CreacionDeProcesos\n",
        "{\n",
        "  public static void mostrarInfo(char identidadDelProceso) throws InterruptedException  //OBTENER Y MOSTRAR PID Y PPID\n",
        "  {\n",
        "    ProcessHandle yo = ProcessHandle.current();\n",
        "    long pid = yo.pid();\n",
        "    long ppid = yo.parent().get().pid();\n",
        "    System.out.println(\"Soy el proceso \" + identidadDelProceso + \" con PID: \" + pid + \". Mi padre es el proceso con PID: \" + ppid);\n",
        "  }   \n",
        "\n",
        "  public static void main(String[] args) throws IOException, InterruptedException\n",
        "  {    \n",
        "    char identidadDelProceso = 'A';\n",
        "    int cantHijos = 3;                              //DETERMINA LA DURACION DEL CICLO FOR DE CREACION Y ESPERA DE PROCESOS\n",
        "    ProcessBuilder pb;    \n",
        "    int error;    \n",
        "\n",
        "    Process [] procesos = new Process[cantHijos];   //CREO UN ARRAY PARA CONTENER TODOS LOS PROCESOS HIJOS\n",
        "\n",
        "    try\n",
        "    {\n",
        "      for(int i=0; i<cantHijos; i++)                //CREO UNO POR UNO\n",
        "      {      \n",
        "        pb = new ProcessBuilder(\"java\", \"Hijo.java\", Character.toString(identidadDelProceso+1+i)); \n",
        "        pb.redirectErrorStream(true);\n",
        "        pb.inheritIO();  \n",
        "        procesos [i] = pb.start();\n",
        "      }     \n",
        "\n",
        "      mostrarInfo(identidadDelProceso);            //LLAMO AL METODO PARA MOSTRAR LA INFO DEL PADRE\n",
        "\n",
        "      for(int i=0; i<cantHijos; i++)               //RECORRO EL ARRAY DE PROCESOS HIJOS PARA ESPERAR A TODOS\n",
        "      {\n",
        "        error = procesos[i].waitFor(); \n",
        "        if( error != 0)\n",
        "        {\n",
        "          System.out.println(\"Error al ejecuar el programa\");\n",
        "          System.exit(0);\n",
        "        }      \n",
        "      }\n",
        "    } \n",
        "    catch (IOException e)\n",
        "    {\n",
        "      System.err.println(\"Problema con el start\");\n",
        "    }   \n",
        "    catch (InterruptedException e)\n",
        "    {\n",
        "      System.err.println(\"Problema con el waitfor\");\n",
        "    }      \n",
        "  }\n",
        "}"
      ]
    },
    {
      "cell_type": "code",
      "execution_count": null,
      "metadata": {
        "colab": {
          "base_uri": "https://localhost:8080/"
        },
        "id": "kSb0--eSKi8x",
        "outputId": "7ccbf1af-0f55-4aca-9177-3deed7b7e0cf"
      },
      "outputs": [
        {
          "output_type": "stream",
          "name": "stdout",
          "text": [
            "Writing Hijo.java\n"
          ]
        }
      ],
      "source": [
        "%%writefile Hijo.java\n",
        "import java.io.IOException;\n",
        "public class Hijo\n",
        "{\n",
        "  public static void mostrarInfo(char identidadDelProceso) throws InterruptedException  //OBTENER Y MOSTRAR PID Y PPID\n",
        "  {\n",
        "    ProcessHandle yo = ProcessHandle.current();\n",
        "    long pid = yo.pid();\n",
        "    long ppid = yo.parent().get().pid();\n",
        "    System.out.println(\"Soy el proceso \" + identidadDelProceso + \" con PID: \" + pid + \". Mi padre es el proceso con PID: \" + ppid);    \n",
        "    Thread.sleep(100000);\n",
        "  }\n",
        "\n",
        "  public static void main(String[] args) throws IOException, InterruptedException \n",
        "  {        \n",
        "    char identidadDelProceso = args[0].toCharArray()[0];\n",
        "    char nuevaIdentidad = 'A';\n",
        "    int cantHijosB = 2;                            //DETERMINAN LA DURACION DEL CICLO FOR DE CREACION Y ESPERA DE PROCESOS\n",
        "    int cantHijosC = 0; \n",
        "    int cantHijosD = 1;\n",
        "    int cantHermanos = 3;\n",
        "    int cantHijos = 0;        \n",
        "                                                  //LOS CICLOS VARIAN SEGUN CADA HIJO\n",
        "    if( identidadDelProceso == 'B' )\n",
        "    { \n",
        "      cantHijos = cantHijosB;     \n",
        "      nuevaIdentidad = (char) (nuevaIdentidad + cantHermanos);     \n",
        "    }   \n",
        "    else if( identidadDelProceso == 'D' )\n",
        "    { \n",
        "      cantHijos = cantHijosD;    \n",
        "      nuevaIdentidad = (char) (nuevaIdentidad + cantHermanos + cantHijosB + cantHijosC);    \n",
        "    }   \n",
        "    else\n",
        "    {\n",
        "      cantHijos = 0;   \n",
        "    }  \n",
        "\n",
        "    ProcessBuilder pb;    \n",
        "    int error;    \n",
        "\n",
        "    Process [] procesos = new Process[cantHijos];  //ARRAY PARA CONTENER TODOS LOS PROCESOS HIJOS (NIETOS)\n",
        "\n",
        "    try\n",
        "    {\n",
        "      for(int i=0; i<cantHijos; i++)               //CREO UNO POR UNO LOS HIJOS (NIETOS)\n",
        "      {      \n",
        "        pb = new ProcessBuilder(\"java\", \"Hijo.java\", Character.toString(nuevaIdentidad+1+i)); \n",
        "        pb.redirectErrorStream(true);\n",
        "        pb.inheritIO();  \n",
        "        procesos [i] = pb.start();\n",
        "      }     \n",
        "\n",
        "      mostrarInfo(identidadDelProceso);           //LLAMO AL METODO PARA MOSTRAR LA INFO DEL PADRE\n",
        "\n",
        "      for(int i=0; i<cantHijos; i++)              //RECORRO EL ARRAY DE PROCESOS HIJOS (NIETOS) PARA ESPERAR A TODOS\n",
        "      {\n",
        "        error = procesos[i].waitFor(); \n",
        "        if( error != 0)\n",
        "        {\n",
        "          System.out.println(\"Error al ejecuar el programa\");\n",
        "          System.exit(0);\n",
        "        }      \n",
        "      }\n",
        "    } \n",
        "    catch (IOException e)\n",
        "    {\n",
        "      System.err.println(\"Problema con el start\");\n",
        "    }   \n",
        "    catch (InterruptedException e)\n",
        "    {\n",
        "      System.err.println(\"Problema con el waitfor\");\n",
        "    }\n",
        "  }\n",
        "}"
      ]
    },
    {
      "cell_type": "code",
      "source": [
        "!chmod 700 ./CreacionDeProcesos.java"
      ],
      "metadata": {
        "id": "yGGTx1bzGLKM"
      },
      "execution_count": null,
      "outputs": []
    },
    {
      "cell_type": "code",
      "execution_count": null,
      "metadata": {
        "id": "eomAsN95L76X"
      },
      "outputs": [],
      "source": [
        "!java ./CreacionDeProcesos.java"
      ]
    },
    {
      "cell_type": "code",
      "execution_count": null,
      "metadata": {
        "id": "XwnCfQ2fKtc3"
      },
      "outputs": [],
      "source": [
        "!nohup java ./CreacionDeProcesos.java 1>salida 2>/dev/null &"
      ]
    },
    {
      "cell_type": "code",
      "execution_count": null,
      "metadata": {
        "id": "QqX6ZEmerR5g"
      },
      "outputs": [],
      "source": [
        "!ps -ef | grep CreacionDeProcesos.java"
      ]
    },
    {
      "cell_type": "code",
      "execution_count": null,
      "metadata": {
        "id": "OHdfpPRCCDgD"
      },
      "outputs": [],
      "source": [
        "!kill 152459       "
      ]
    },
    {
      "cell_type": "code",
      "execution_count": null,
      "metadata": {
        "id": "FXiBrG6jLKA3",
        "colab": {
          "base_uri": "https://localhost:8080/"
        },
        "outputId": "d1e0c134-1a14-40ab-f3b1-cdb4274def9f"
      },
      "outputs": [
        {
          "output_type": "stream",
          "name": "stdout",
          "text": [
            "java(753)─┬─java(797)─┬─java(932)\n",
            "          │           └─java(936)\n",
            "          ├─java(800)\n",
            "          └─java(804)───java(954)\n"
          ]
        }
      ],
      "source": [
        "!pstree -pT  753                                                          "
      ]
    },
    {
      "cell_type": "markdown",
      "metadata": {
        "id": "jGJuNt_O5E4C"
      },
      "source": [
        "# **EJERCICIO EN PYTHON**"
      ]
    },
    {
      "cell_type": "code",
      "execution_count": 35,
      "metadata": {
        "id": "UzwqpkOlqbBG",
        "colab": {
          "base_uri": "https://localhost:8080/"
        },
        "outputId": "b97f0666-8c56-42d8-cfd4-e68960f21fe5"
      },
      "outputs": [
        {
          "output_type": "stream",
          "name": "stdout",
          "text": [
            "Overwriting fork.py\n"
          ]
        }
      ],
      "source": [
        "%%writefile fork.py\n",
        "import os\n",
        "import time\n",
        "\n",
        "print(f\"Soy el proceso padre A con PID {os.getpid()} y mi padre es el proceso con PID {os.getppid()}\\n\")\n",
        "# Crea 3 procesos hijos\n",
        "for i in range(3):\n",
        "  pid = os.fork()\n",
        "    \n",
        "  if pid < 0:\n",
        "    print(\"Error al crear el nuevo proceso\\n\")\n",
        "    os._exit(0)\n",
        "\n",
        "  if pid == 0:\n",
        "    # Este es el proceso hijo\n",
        "    letra = chr(ord('B')+i)\n",
        "    print(f'Soy el proceso hijo {letra} con PID {os.getpid()} y mi padre es el proceso con PID {os.getppid()}\\n')\n",
        "    if i == 0:\n",
        "      # Este proceso hijo crea dos hijos más\n",
        "      for j in range(2):\n",
        "        pid2 = os.fork()\n",
        "\n",
        "        if pid2 < 0:\n",
        "          print(\"Error al crear el nuevo proceso\\n\")\n",
        "          os._exit(0)\n",
        "\n",
        "        if pid2 == 0:\n",
        "          # Este es el proceso hijo de segundo nivel\n",
        "          letra2 = chr(ord('E')+j)\n",
        "          print(f'Soy el proceso hijo de segundo nivel {letra2} con PID {os.getpid()} y mi padre es el proceso con PID {os.getppid()}\\n')\n",
        "          os._exit(0)\n",
        "    elif i == 2:\n",
        "      # Este proceso hijo crea un hijo más\n",
        "      pid3 = os.fork()\n",
        "      if pid3 == 0:\n",
        "        # Este es el proceso hijo de segundo nivel\n",
        "        print(f\"Soy el proceso hijo de segundo nivel G con PID {os.getpid()} y mi padre es el proceso con PID {os.getppid()}\\n\")\n",
        "        os._exit(0)\n",
        "    time.sleep(30)\n",
        "    os._exit(0)\n",
        "\n",
        "# Espera a que todos los procesos hijos terminen\n",
        "for i in range(3):\n",
        "  print( os.wait())"
      ]
    },
    {
      "cell_type": "code",
      "execution_count": 36,
      "metadata": {
        "id": "GBvtsV-UrTm8"
      },
      "outputs": [],
      "source": [
        "!chmod 700 ./fork.py"
      ]
    },
    {
      "cell_type": "code",
      "source": [
        "!python ./fork.py"
      ],
      "metadata": {
        "id": "kD0ho9DbGSmk"
      },
      "execution_count": null,
      "outputs": []
    },
    {
      "cell_type": "code",
      "execution_count": 37,
      "metadata": {
        "id": "2RbI1HjHrtI9"
      },
      "outputs": [],
      "source": [
        "!nohup python ./fork.py 1>salida 2>/dev/null &"
      ]
    },
    {
      "cell_type": "code",
      "execution_count": null,
      "metadata": {
        "id": "piBGBcB_rzy9"
      },
      "outputs": [],
      "source": [
        "!ps -ef | grep fork.py"
      ]
    },
    {
      "cell_type": "code",
      "source": [
        "!kill 3360              "
      ],
      "metadata": {
        "id": "SLNFDyYjF58U"
      },
      "execution_count": null,
      "outputs": []
    },
    {
      "cell_type": "code",
      "execution_count": 39,
      "metadata": {
        "id": "NiFyucper7Tl",
        "colab": {
          "base_uri": "https://localhost:8080/"
        },
        "outputId": "2bb8773f-436f-48a1-dd6e-32e8c92c9b6a"
      },
      "outputs": [
        {
          "output_type": "stream",
          "name": "stdout",
          "text": [
            "python3(5227)─┬─python3(5229)─┬─python3(5232)\n",
            "              │               └─python3(5233)\n",
            "              ├─python3(5230)\n",
            "              └─python3(5231)───python3(5234)\n"
          ]
        }
      ],
      "source": [
        "!pstree -pc 5227                                                                 "
      ]
    }
  ],
  "metadata": {
    "colab": {
      "provenance": [],
      "include_colab_link": true
    },
    "kernelspec": {
      "display_name": "Python 3",
      "name": "python3"
    },
    "language_info": {
      "name": "python"
    }
  },
  "nbformat": 4,
  "nbformat_minor": 0
}