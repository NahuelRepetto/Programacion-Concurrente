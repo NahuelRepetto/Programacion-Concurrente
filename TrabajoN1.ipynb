{
  "cells": [
    {
      "cell_type": "markdown",
      "metadata": {
        "id": "view-in-github",
        "colab_type": "text"
      },
      "source": [
        "<a href=\"https://colab.research.google.com/github/NahuelRepetto/Programacion-Concurrente/blob/main/TrabajoN1.ipynb\" target=\"_parent\"><img src=\"https://colab.research.google.com/assets/colab-badge.svg\" alt=\"Open In Colab\"/></a>"
      ]
    },
    {
      "cell_type": "markdown",
      "metadata": {
        "id": "4Ds0M50g405t"
      },
      "source": [
        "# **EJERCICIO EN C**"
      ]
    },
    {
      "cell_type": "code",
      "execution_count": null,
      "metadata": {
        "colab": {
          "base_uri": "https://localhost:8080/"
        },
        "id": "Xx7iD0fT8cPv",
        "outputId": "fceca727-d213-4c72-c26a-ffeda5c50d7d"
      },
      "outputs": [
        {
          "output_type": "stream",
          "name": "stdout",
          "text": [
            "Writing fork.c\n"
          ]
        }
      ],
      "source": [
        "%%writefile fork.c\n",
        "#include <stdlib.h>\n",
        "#include <stdio.h>\n",
        "#include <unistd.h>\n",
        "#include <sys/wait.h>\n",
        "\n",
        "int main(int argc, char *argv[]) \n",
        "{\n",
        "  char identidadDelProceso = 'A';  \n",
        "  int cantHijosA = 3;\n",
        "  int cantHijosB = 2;  \n",
        "  int cantHijosC = 0; \n",
        "  int cantHijosD = 1; \n",
        "  int i,j;\n",
        "  pid_t pid;  \n",
        "\n",
        "  for (i=0; i<cantHijosA; i++)      //CREO TODOS LOS HIJOS DEL PROCESO PRINCIPAL\n",
        "  {    \n",
        "    pid = fork();    \n",
        "\n",
        "    if ( pid < 0 )                  //SI HUBO ERROR DE CREACION TERMINO\n",
        "    {\n",
        "      printf(\"Error al crear el nuevo proceso !!!\\n\");\n",
        "\t    return EXIT_FAILURE;\n",
        "    }\t\t\t  \n",
        "\n",
        "    if( !pid )                    //SI ESTOY EN EL HIJO\n",
        "    {\n",
        "      identidadDelProceso = identidadDelProceso + i + 1;  \n",
        "      printf(\"Soy el proceso %c con PID: %d. Mi padre es el proceso con PID: %d.\\n\",identidadDelProceso, getpid(), getppid());\t    \n",
        "\n",
        "      int cantNietos;\n",
        "      \n",
        "      if( identidadDelProceso == 'B')\n",
        "      { \n",
        "        cantNietos = cantHijosB;\n",
        "        identidadDelProceso = 'A' + cantHijosA + 1;\n",
        "      }\n",
        "      else if( identidadDelProceso == 'C')\n",
        "      { \n",
        "        cantNietos = cantHijosC;\n",
        "        identidadDelProceso = 'A' + cantHijosA + cantHijosB+ 1;\n",
        "      }\n",
        "      else if( identidadDelProceso == 'D')\n",
        "      { \n",
        "        cantNietos = cantHijosD;\n",
        "        identidadDelProceso = 'A' + cantHijosA + cantHijosB + cantHijosC + 1;\n",
        "      }\n",
        "\n",
        "      for (j=0; j<cantNietos; j++)  //CREO LA CANTIDAD DE NIETOS CORRESPONDIENTE A CADA HIJO\n",
        "      {                    \n",
        "        pid = fork(); \n",
        "\n",
        "        if ( pid < 0 )\n",
        "        {\n",
        "          printf(\"Error al crear el nuevo proceso !!!\\n\");\n",
        "          return EXIT_FAILURE;\n",
        "        }\t\t\n",
        "\n",
        "        if( !pid )\n",
        "        {\n",
        "          identidadDelProceso = identidadDelProceso + j;\n",
        "          printf(\"Soy el proceso %c con PID: %d. Mi padre es el proceso con PID: %d.\\n\",identidadDelProceso, getpid(), getppid());\n",
        "          sleep(1000);\n",
        "          return EXIT_SUCCESS;\n",
        "        }\n",
        "      }       \n",
        "      \n",
        "      sleep(1000);\n",
        "  \t  return EXIT_SUCCESS;\n",
        "    }\n",
        "  }\n",
        "  \n",
        "  //SI LLEGO A ESTE PUNTO SOY EL PROCESO PADRE, LOS HIJOS FINALIZAN ANTES \n",
        "\n",
        "  printf(\"Soy el proceso %c con PID: %d. Mi padre es el proceso con PID: %d.\\n\", identidadDelProceso, getpid(), getppid());\n",
        "  \n",
        "  for (i=0; i<cantHijosA; i++)\n",
        "  {\n",
        "    wait(NULL);\n",
        "  } \n",
        "    \t\n",
        "  return EXIT_SUCCESS;\n",
        "}"
      ]
    },
    {
      "cell_type": "code",
      "execution_count": null,
      "metadata": {
        "id": "6qS5l12LHBVO"
      },
      "outputs": [],
      "source": [
        "!gcc -o fork.bin fork.c"
      ]
    },
    {
      "cell_type": "code",
      "execution_count": null,
      "metadata": {
        "id": "tySr1D1lerFQ"
      },
      "outputs": [],
      "source": [
        "!./fork.bin"
      ]
    },
    {
      "cell_type": "code",
      "execution_count": null,
      "metadata": {
        "id": "Vc5rHLDXIDae"
      },
      "outputs": [],
      "source": [
        "!nohup ./fork.bin 1>salida 2>/dev/null &"
      ]
    },
    {
      "cell_type": "code",
      "execution_count": null,
      "metadata": {
        "id": "FOm-bhUeIP49"
      },
      "outputs": [],
      "source": [
        "!ps -ef | grep fork.bin"
      ]
    },
    {
      "cell_type": "code",
      "execution_count": null,
      "metadata": {
        "id": "07m02RRu6c8E"
      },
      "outputs": [],
      "source": [
        "!kill 493               "
      ]
    },
    {
      "cell_type": "code",
      "execution_count": null,
      "metadata": {
        "id": "0rWwi_OoIlCs",
        "colab": {
          "base_uri": "https://localhost:8080/"
        },
        "outputId": "3400c961-4144-4409-9d82-2ece866824cd"
      },
      "outputs": [
        {
          "output_type": "stream",
          "name": "stdout",
          "text": [
            "fork.bin(493)─┬─fork.bin(494)─┬─fork.bin(497)\n",
            "              │               └─fork.bin(499)\n",
            "              ├─fork.bin(495)\n",
            "              └─fork.bin(496)───fork.bin(498)\n"
          ]
        }
      ],
      "source": [
        "!pstree -pc 493               "
      ]
    },
    {
      "cell_type": "markdown",
      "metadata": {
        "id": "NKqCTofP70Ub"
      },
      "source": [
        "# **EJERCICIO EN JAVA**"
      ]
    },
    {
      "cell_type": "code",
      "execution_count": null,
      "metadata": {
        "colab": {
          "base_uri": "https://localhost:8080/"
        },
        "id": "WPlbhBYN7-o7",
        "outputId": "7c140a24-8300-46d3-bb23-ac2c54560729"
      },
      "outputs": [
        {
          "output_type": "stream",
          "name": "stdout",
          "text": [
            "Overwriting CreacionDeProcesos.java\n"
          ]
        }
      ],
      "source": [
        "%%writefile CreacionDeProcesos.java\n",
        "import java.io.IOException;\n",
        "\n",
        "public class CreacionDeProcesos\n",
        "{\n",
        "  public static void mostrarInfo(char identidadDelProceso) throws InterruptedException\n",
        "  {\n",
        "    ProcessHandle yo = ProcessHandle.current();\n",
        "    long pid = yo.pid();\n",
        "    long ppid = yo.parent().get().pid();\n",
        "    System.out.println(\"Soy el proceso \" + identidadDelProceso + \" con PID: \" + pid + \". Mi padre es el proceso con PID: \" + ppid);\n",
        "  }   \n",
        "\n",
        "  public static void main(String[] args) throws IOException, InterruptedException\n",
        "  {    \n",
        "    char identidadDelProceso = 'A';\n",
        "    int cantHijos = 3;\n",
        "    ProcessBuilder pb;    \n",
        "    int error;    \n",
        "\n",
        "    Process [] procesos = new Process[cantHijos];  \n",
        "\n",
        "    try\n",
        "    {\n",
        "      for(int i=0; i<cantHijos; i++)\n",
        "      {      \n",
        "        pb = new ProcessBuilder(\"java\", \"Hijo.java\", Character.toString(identidadDelProceso+1+i)); \n",
        "        pb.redirectErrorStream(true);\n",
        "        pb.inheritIO();  \n",
        "        procesos [i] = pb.start();\n",
        "      }     \n",
        "\n",
        "      mostrarInfo(identidadDelProceso);\n",
        "\n",
        "      for(int i=0; i<cantHijos; i++)\n",
        "      {\n",
        "        error = procesos[i].waitFor(); \n",
        "        if( error != 0)\n",
        "        {\n",
        "          System.out.println(\"Error al ejecuar el programa\");\n",
        "          System.exit(0);\n",
        "        }      \n",
        "      }\n",
        "    } \n",
        "    catch (IOException e)\n",
        "    {\n",
        "      System.err.println(\"Problema con el start\");\n",
        "    }   \n",
        "    catch (InterruptedException e)\n",
        "    {\n",
        "      System.err.println(\"Problema con el waitfor\");\n",
        "    }      \n",
        "  }\n",
        "}"
      ]
    },
    {
      "cell_type": "code",
      "execution_count": null,
      "metadata": {
        "colab": {
          "base_uri": "https://localhost:8080/"
        },
        "id": "kSb0--eSKi8x",
        "outputId": "3cb36d3c-9636-4267-ca55-7bd56e2d27c1"
      },
      "outputs": [
        {
          "output_type": "stream",
          "name": "stdout",
          "text": [
            "Overwriting Hijo.java\n"
          ]
        }
      ],
      "source": [
        "%%writefile Hijo.java\n",
        "import java.io.IOException;\n",
        "public class Hijo\n",
        "{\n",
        "  public static void mostrarInfo(char identidadDelProceso) throws InterruptedException  \n",
        "  {\n",
        "    ProcessHandle yo = ProcessHandle.current();\n",
        "    long pid = yo.pid();\n",
        "    long ppid = yo.parent().get().pid();\n",
        "    System.out.println(\"Soy el proceso \" + identidadDelProceso + \" con PID: \" + pid + \". Mi padre es el proceso con PID: \" + ppid);    \n",
        "    Thread.sleep(100000);\n",
        "  }\n",
        "\n",
        "  public static void main(String[] args) throws IOException, InterruptedException \n",
        "  {        \n",
        "    char identidadDelProceso = args[0].toCharArray()[0];\n",
        "    char nuevaIdentidad = 'A';\n",
        "    int cantHijosB = 2;  \n",
        "    int cantHijosC = 0; \n",
        "    int cantHijosD = 1;\n",
        "    int cantHermanos = 3;\n",
        "    int cantHijos = 0;        \n",
        "    \n",
        "    if( identidadDelProceso == 'B' )\n",
        "    { \n",
        "      cantHijos = cantHijosB;     \n",
        "      nuevaIdentidad = (char) (nuevaIdentidad + cantHermanos);     \n",
        "    }   \n",
        "    else if( identidadDelProceso == 'D' )\n",
        "    { \n",
        "      cantHijos = cantHijosD;    \n",
        "      nuevaIdentidad = (char) (nuevaIdentidad + cantHermanos + cantHijosB + cantHijosC);    \n",
        "    }   \n",
        "    else\n",
        "    {\n",
        "      cantHijos = 0;   \n",
        "    }  \n",
        "\n",
        "    ProcessBuilder pb;    \n",
        "    int error;    \n",
        "\n",
        "    Process [] procesos = new Process[cantHijos];  \n",
        "\n",
        "    try\n",
        "    {\n",
        "      for(int i=0; i<cantHijos; i++)\n",
        "      {      \n",
        "        pb = new ProcessBuilder(\"java\", \"Hijo.java\", Character.toString(nuevaIdentidad+1+i)); \n",
        "        pb.redirectErrorStream(true);\n",
        "        pb.inheritIO();  \n",
        "        procesos [i] = pb.start();\n",
        "      }     \n",
        "\n",
        "      mostrarInfo(identidadDelProceso);\n",
        "\n",
        "      for(int i=0; i<cantHijos; i++)\n",
        "      {\n",
        "        error = procesos[i].waitFor(); \n",
        "        if( error != 0)\n",
        "        {\n",
        "          System.out.println(\"Error al ejecuar el programa\");\n",
        "          System.exit(0);\n",
        "        }      \n",
        "      }\n",
        "    } \n",
        "    catch (IOException e)\n",
        "    {\n",
        "      System.err.println(\"Problema con el start\");\n",
        "    }   \n",
        "    catch (InterruptedException e)\n",
        "    {\n",
        "      System.err.println(\"Problema con el waitfor\");\n",
        "    }\n",
        "  }\n",
        "}"
      ]
    },
    {
      "cell_type": "code",
      "source": [
        "!chmod 700 ./CreacionDeProcesos.java"
      ],
      "metadata": {
        "id": "yGGTx1bzGLKM"
      },
      "execution_count": null,
      "outputs": []
    },
    {
      "cell_type": "code",
      "execution_count": null,
      "metadata": {
        "id": "eomAsN95L76X"
      },
      "outputs": [],
      "source": [
        "!java ./CreacionDeProcesos.java"
      ]
    },
    {
      "cell_type": "code",
      "execution_count": 36,
      "metadata": {
        "id": "XwnCfQ2fKtc3"
      },
      "outputs": [],
      "source": [
        "!nohup java ./CreacionDeProcesos.java 1>salida 2>/dev/null &"
      ]
    },
    {
      "cell_type": "code",
      "execution_count": null,
      "metadata": {
        "id": "QqX6ZEmerR5g"
      },
      "outputs": [],
      "source": [
        "!ps -ef | grep CreacionDeProcesos.java"
      ]
    },
    {
      "cell_type": "code",
      "execution_count": null,
      "metadata": {
        "id": "OHdfpPRCCDgD"
      },
      "outputs": [],
      "source": [
        "!kill 152459       "
      ]
    },
    {
      "cell_type": "code",
      "execution_count": 38,
      "metadata": {
        "id": "FXiBrG6jLKA3",
        "colab": {
          "base_uri": "https://localhost:8080/"
        },
        "outputId": "3bd484ea-d3e2-4a2f-c267-23892b090e27"
      },
      "outputs": [
        {
          "output_type": "stream",
          "name": "stdout",
          "text": [
            "java(33797)─┬─java(33820)─┬─java(33901)\n",
            "            │             └─java(33904)\n",
            "            ├─java(33823)\n",
            "            └─java(33827)───java(33927)\n"
          ]
        }
      ],
      "source": [
        "!pstree -pT  33797                                            "
      ]
    },
    {
      "cell_type": "markdown",
      "metadata": {
        "id": "jGJuNt_O5E4C"
      },
      "source": [
        "# **EJERCICIO EN PYTHON**"
      ]
    },
    {
      "cell_type": "code",
      "execution_count": null,
      "metadata": {
        "colab": {
          "base_uri": "https://localhost:8080/"
        },
        "id": "UzwqpkOlqbBG",
        "outputId": "d27e5557-8ae3-49f9-fcf4-572e57c2c8da"
      },
      "outputs": [
        {
          "output_type": "stream",
          "name": "stdout",
          "text": [
            "Overwriting fork.py\n"
          ]
        }
      ],
      "source": [
        "%%writefile fork.py\n",
        "import os\n",
        "import time\n",
        "\n",
        "# Crea 3 procesos hijos\n",
        "for i in range(3):\n",
        "    pid = os.fork()\n",
        "    if pid == 0:\n",
        "        # Este es el proceso hijo\n",
        "        letra = chr(ord('B')+i)\n",
        "        print(f'Soy el proceso hijo {letra} con PID {os.getpid()} y mi padre es el proceso con PID {os.getppid()}')\n",
        "        if i == 0:\n",
        "            # Este proceso hijo crea dos hijos más\n",
        "            for j in range(2):\n",
        "                pid2 = os.fork()\n",
        "                if pid2 == 0:\n",
        "                    # Este es el proceso hijo de segundo nivel\n",
        "                    letra2 = chr(ord('E')+j)\n",
        "                    print(f'Soy el proceso hijo de segundo nivel {letra2} con PID {os.getpid()} y mi padre es el proceso con PID {os.getppid()}')\n",
        "                    os._exit(0)\n",
        "        elif i == 2:\n",
        "          # Este proceso hijo crea un hijo más\n",
        "            pid3 = os.fork()\n",
        "            if pid3 == 0:\n",
        "              # Este es el proceso hijo de segundo nivel\n",
        "              print(f\"Soy el proceso hijo de segundo nivel G con PID {os.getpid()} y mi padre es el proceso con PID {os.getppid()}\")\n",
        "              os._exit(0)\n",
        "        time.sleep(30)\n",
        "        os._exit(0)\n",
        "\n",
        "# Espera a que todos los procesos hijos terminen\n",
        "print(f\"Soy el proceso padre con PID {os.getpid()} y mi padre es el proceso con PID {os.getppid()}\")\n",
        "for i in range(3):\n",
        "    print( os.wait())"
      ]
    },
    {
      "cell_type": "code",
      "execution_count": null,
      "metadata": {
        "id": "GBvtsV-UrTm8"
      },
      "outputs": [],
      "source": [
        "!chmod 700 ./fork.py"
      ]
    },
    {
      "cell_type": "code",
      "source": [
        "!python ./fork.py"
      ],
      "metadata": {
        "id": "kD0ho9DbGSmk"
      },
      "execution_count": null,
      "outputs": []
    },
    {
      "cell_type": "code",
      "execution_count": 39,
      "metadata": {
        "id": "2RbI1HjHrtI9"
      },
      "outputs": [],
      "source": [
        "!nohup python ./fork.py 1>salida 2>/dev/null &"
      ]
    },
    {
      "cell_type": "code",
      "execution_count": null,
      "metadata": {
        "id": "piBGBcB_rzy9"
      },
      "outputs": [],
      "source": [
        "!ps -ef | grep fork.py"
      ]
    },
    {
      "cell_type": "code",
      "source": [
        "!kill 1937       "
      ],
      "metadata": {
        "id": "SLNFDyYjF58U"
      },
      "execution_count": null,
      "outputs": []
    },
    {
      "cell_type": "code",
      "execution_count": 41,
      "metadata": {
        "id": "NiFyucper7Tl",
        "colab": {
          "base_uri": "https://localhost:8080/"
        },
        "outputId": "e016a839-1e21-4159-f5de-c964e01d224a"
      },
      "outputs": [
        {
          "output_type": "stream",
          "name": "stdout",
          "text": [
            "python3(34009)─┬─python3(34011)─┬─python3(34014)\n",
            "               │                └─python3(34015)\n",
            "               ├─python3(34012)\n",
            "               └─python3(34013)───python3(34016)\n"
          ]
        }
      ],
      "source": [
        "!pstree -pc 34009              "
      ]
    }
  ],
  "metadata": {
    "colab": {
      "provenance": [],
      "collapsed_sections": [
        "4Ds0M50g405t",
        "NKqCTofP70Ub",
        "jGJuNt_O5E4C"
      ],
      "include_colab_link": true
    },
    "kernelspec": {
      "display_name": "Python 3",
      "name": "python3"
    },
    "language_info": {
      "name": "python"
    }
  },
  "nbformat": 4,
  "nbformat_minor": 0
}