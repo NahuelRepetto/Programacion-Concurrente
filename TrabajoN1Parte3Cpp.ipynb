{
  "nbformat": 4,
  "nbformat_minor": 0,
  "metadata": {
    "colab": {
      "provenance": [],
      "authorship_tag": "ABX9TyMXsKU0j8r2MzdUQWUFgEve",
      "include_colab_link": true
    },
    "kernelspec": {
      "name": "python3",
      "display_name": "Python 3"
    },
    "language_info": {
      "name": "python"
    }
  },
  "cells": [
    {
      "cell_type": "markdown",
      "metadata": {
        "id": "view-in-github",
        "colab_type": "text"
      },
      "source": [
        "<a href=\"https://colab.research.google.com/github/NahuelRepetto/Programacion-Concurrente/blob/main/TrabajoN1Parte3Cpp.ipynb\" target=\"_parent\"><img src=\"https://colab.research.google.com/assets/colab-badge.svg\" alt=\"Open In Colab\"/></a>"
      ]
    },
    {
      "cell_type": "code",
      "execution_count": 9,
      "metadata": {
        "colab": {
          "base_uri": "https://localhost:8080/"
        },
        "id": "PMSX-vdyouCf",
        "outputId": "d87a7ce9-c869-44d2-e2d5-79a2335fdf66"
      },
      "outputs": [
        {
          "output_type": "stream",
          "name": "stdout",
          "text": [
            "Overwriting Servidor.cpp\n"
          ]
        }
      ],
      "source": [
        "%%writefile Servidor.cpp\n",
        "#include<stdlib.h>\n",
        "#include<stdio.h>\n",
        "#include<string.h>\n",
        "#include<iostream>\n",
        "#include<fcntl.h>\n",
        "#include<unistd.h>\n",
        "#include<sys/stat.h>\n",
        "\n",
        "using namespace std;\n",
        "\n",
        "#define CANT_ELEMENTOS 4  \n",
        "\n",
        "int calcularMaximo(int vec[])\n",
        "{\n",
        "  int max = vec[0];\n",
        "\tint comparacion;\n",
        "\tfor(int i=0; i<CANT_ELEMENTOS; i++)\n",
        "\t{\n",
        "\t\tcomparacion = vec[i];\n",
        "\t\tif(comparacion > max)\n",
        "\t\t\tmax = vec[i];\n",
        "\t}\n",
        "\treturn max;\n",
        "}\n",
        "\n",
        "int calcularMinimo(int vec[])\n",
        "{\n",
        "  int min = vec[0];\n",
        "\tint comparacion;\n",
        "\tfor(int i=0; i<CANT_ELEMENTOS; i++)\n",
        "\t{\n",
        "\t\tcomparacion = vec[i];\n",
        "\t\tif(comparacion < min)\n",
        "\t\t\tmin = vec[i];\n",
        "\t}\n",
        "\treturn min;\n",
        "}\n",
        "\n",
        "int calcularSuma(int vec[])\n",
        "{\n",
        "  int sum = 0;\n",
        "\tfor(int i=0; i<CANT_ELEMENTOS; i++)\n",
        "\t\tsum += vec[i];\n",
        "\treturn sum;\n",
        "}\n",
        "\n",
        "float calcularPromedio(int vec[])\n",
        "{  \n",
        "\treturn (float)calcularSuma(vec)/CANT_ELEMENTOS;\n",
        "}\n",
        "\n",
        "int main (int argc, char *argv[])\n",
        "{\n",
        "\tint num[4];\n",
        "\tfloat retorno[4];\n",
        "\n",
        "  //CREO TUBERIAS\n",
        "\tif( mkfifo(\"./fifoA\",0666) == -1 )\n",
        "\t{\n",
        "\t\tperror(\"Error al crear en mkfifo\");\n",
        "\t\treturn EXIT_FAILURE;\t\n",
        "\t}\n",
        "\n",
        "  //ABRO LA TUBERIA EN MODO LECTURA\n",
        "\tint r = open(\"./fifoA\", O_RDONLY);  \n",
        "  \n",
        "\t//RECIBO DATOS\n",
        "  if( read( r, num, sizeof( num ) ) == -1 )\n",
        "\t{\n",
        "\t\tperror(\"Error en read()\");\n",
        "\t\treturn EXIT_FAILURE;\n",
        "\t}\t\n",
        "\n",
        "  //CIERRO LA TUBERIA EN MODO LECTURA\n",
        "  close(r); \n",
        "\n",
        "\t//PROCESO LOS DATOS\n",
        "\tretorno[0] = (float)calcularMinimo(num);\n",
        "\tretorno[1] = (float)calcularMaximo(num);\n",
        "\tretorno[2] = (float)calcularSuma(num);\n",
        "\tretorno[3] = calcularPromedio(num);\n",
        "  \n",
        "\t//ABRO LA TUBERIA EN MODO ESCRITURA  \t\n",
        "\tint w = open(\"./fifoA\", O_WRONLY);\n",
        "\t\n",
        "\t//ENVIO DATOS  \n",
        "\tif( write( w, retorno, sizeof( retorno ) ) == -1 )\n",
        "\t{\n",
        "\t\tperror(\"Error en write()\");\n",
        "\t\treturn EXIT_FAILURE;\n",
        "\t}\t \n",
        "\n",
        "  //CIERRO LA TUBERIA EN MODO ESCRITURA Y DESCONECTO LA TUBERIA    \n",
        "\tclose(w);\t\n",
        "\tunlink(\"./fifoA\");\n",
        "\treturn EXIT_SUCCESS;\n",
        "}"
      ]
    },
    {
      "cell_type": "code",
      "source": [
        "%%writefile Cliente.cpp\n",
        "#include<stdlib.h>\n",
        "#include<stdio.h>\n",
        "#include<string.h>\n",
        "#include<sstream>\n",
        "#include<iostream>\n",
        "#include<fcntl.h>\n",
        "#include<unistd.h>\n",
        "#include<sys/stat.h>\n",
        "#include<boost/lexical_cast.hpp>\n",
        "\n",
        "using namespace std;\n",
        "\n",
        "#define CANT_ELEMENTOS 4  \n",
        "\n",
        "int main (int argc, char *argv[])\n",
        "{\t\t\n",
        "\tint num[4]; \n",
        "\tfloat retorno[4];\t\n",
        "\n",
        "\t//VERIFICO QUE SE HAYA ENVIADO LA CADENA CON LOS NUMEROS\n",
        "  if( argc < 2 ) \n",
        "  {\n",
        "    cout<<\"Debe ingresar una cadena con una serie de cuatro números enteros no negativos separados con guión medio (-)\"<<endl;\n",
        "    exit(1);\n",
        "  }\n",
        "\n",
        "\t//RECUPERO LOS NUMEROS DE LA CADENA ENVIADA\t\n",
        "\tint ingreso = 0;\n",
        "\tstring lectura;\n",
        "\tstring cadena = argv[1];                  \n",
        "  stringstream input_stringstream(cadena);                    \n",
        "  while (getline(input_stringstream, lectura, '-'))\n",
        "  {\n",
        "\t\tif(ingreso >= CANT_ELEMENTOS)\t//PARA NO INGERSAR MAS DE LO PERMITIDO\n",
        "\t\t{\n",
        "\t\t\tcout << \"Se enviaron mas valores de los esperados, ingrese maximo 4.\" << endl;\n",
        "\t\t\texit(1);\n",
        "\t\t}\n",
        "\n",
        "\t  //PASO DE STRING A ENTERO  \n",
        "\t\tint i;   \n",
        "    try \n",
        "\t\t{\t\t\t\n",
        "      i = boost::lexical_cast<int>(lectura);        \t\t\t\t\n",
        "    }\n",
        "    catch (boost::bad_lexical_cast const &e) //SI LA ENTRADA ES INCORRECTA (NO NUMERICA) O AL CONVERTIRLA EXCEDE EL RANGO DE INT\n",
        "\t\t{        \n",
        "      cout << \"Entrada invalida '\" << lectura <<\"', deben ingresarse solo numeros separados por guion medio (-).\" << endl;\n",
        "\t\t\texit(1);\n",
        "    }\n",
        "\t\tnum[ingreso] = i;\t\t\n",
        "\t\tingreso++;\n",
        "  }\n",
        "\n",
        "\t//ABRO LA TUBERIA EN MODO ESCRITURA\n",
        "\tint w = open(\"./fifoA\", O_WRONLY);\t\n",
        "\t\n",
        "\t//ENVIO DATOS \n",
        "\tif( write( w, num, sizeof( num ) ) == -1 )\n",
        "\t{\n",
        "\t\tperror(\"Error en write()\");\n",
        "\t\treturn EXIT_FAILURE;\n",
        "\t}\t\n",
        "  \n",
        "  //CIERRO LA TUBERIA EN MODO ESCRITURA\n",
        "  close(w);\t\n",
        "\n",
        "\t//ABRO LA TUBERIA EN MODO LECTURA\n",
        "\tint r = open(\"./fifoA\", O_RDONLY);   \n",
        "\t\n",
        "\t//RECIBO DATOS\n",
        "  if( read( r, retorno, sizeof( retorno ) ) == -1 )\n",
        "\t{\n",
        "\t\tperror(\"Error en read()\");\n",
        "\t\treturn EXIT_FAILURE;\n",
        "\t}\n",
        "\t\n",
        "\t//MUESTRO LOS RESULTADOS\n",
        "\tcout << \"Numeros recibidos: \";\n",
        "\tfor(int i = 0; i < CANT_ELEMENTOS; i++)\n",
        "\t\tcout << num[i] << \"   \";\n",
        "\t\t\n",
        "\tcout << endl << \"Minimo: \" << retorno[0];\n",
        "\tcout << endl << \"Maximo: \" << retorno[1];\n",
        "\tcout << endl << \"Suma: \" << retorno[2];\n",
        "\tcout << endl << \"Promedio: \" << retorno[3];\t\n",
        "\tcout << endl << \"Cantiad de numeros: \" << CANT_ELEMENTOS;\t\n",
        "\t\n",
        "  //CIERRO LA TUBERIA EN MODO LECTURA\n",
        "\tclose(r);\t\t\t\n",
        "\treturn EXIT_SUCCESS;\n",
        "}"
      ],
      "metadata": {
        "colab": {
          "base_uri": "https://localhost:8080/"
        },
        "id": "TLF5-efGowj8",
        "outputId": "56823c7e-4bf2-495a-d3df-bdc167932e0d"
      },
      "execution_count": 10,
      "outputs": [
        {
          "output_type": "stream",
          "name": "stdout",
          "text": [
            "Overwriting Cliente.cpp\n"
          ]
        }
      ]
    },
    {
      "cell_type": "code",
      "source": [
        "!g++ -o Servidor Servidor.cpp"
      ],
      "metadata": {
        "id": "Vcd8flrGo6bv"
      },
      "execution_count": 11,
      "outputs": []
    },
    {
      "cell_type": "code",
      "source": [
        "!g++ -o Cliente Cliente.cpp"
      ],
      "metadata": {
        "id": "_acn8LNlo7uG"
      },
      "execution_count": 12,
      "outputs": []
    },
    {
      "cell_type": "code",
      "source": [
        "!nohup ./Servidor 1>salida 2>/dev/null &"
      ],
      "metadata": {
        "id": "CJg6JNQWpBQE"
      },
      "execution_count": 13,
      "outputs": []
    },
    {
      "cell_type": "code",
      "source": [
        "!./Cliente 55-5-3-4"
      ],
      "metadata": {
        "colab": {
          "base_uri": "https://localhost:8080/"
        },
        "id": "oyFS0lRCpCf0",
        "outputId": "e9725f53-dfa4-43fa-8d3b-1bdc15644baa"
      },
      "execution_count": 14,
      "outputs": [
        {
          "output_type": "stream",
          "name": "stdout",
          "text": [
            "Numeros recibidos: 55   5   3   4   \n",
            "Minimo: 3\n",
            "Maximo: 55\n",
            "Suma: 67\n",
            "Promedio: 16.75\n",
            "Cantiad de numeros: 4"
          ]
        }
      ]
    },
    {
      "cell_type": "code",
      "source": [
        "%%writefile cerrar.cpp\n",
        "#include<stdlib.h>\n",
        "#include<unistd.h>\n",
        "\n",
        "int main (int argc, char *argv[])\n",
        "{\t\t\n",
        "\tunlink(\"./fifoA\");  \t\t\n",
        "\treturn EXIT_SUCCESS;\n",
        "}"
      ],
      "metadata": {
        "colab": {
          "base_uri": "https://localhost:8080/"
        },
        "id": "FZHDXGaJFLLv",
        "outputId": "71fcb5ab-1f69-4a55-eeb4-981baec33613"
      },
      "execution_count": 15,
      "outputs": [
        {
          "output_type": "stream",
          "name": "stdout",
          "text": [
            "Writing cerrar.cpp\n"
          ]
        }
      ]
    },
    {
      "cell_type": "code",
      "source": [
        "!g++ -o cerrar cerrar.cpp"
      ],
      "metadata": {
        "id": "UqYMVklAE6JQ"
      },
      "execution_count": null,
      "outputs": []
    },
    {
      "cell_type": "code",
      "source": [
        "!./cerrar"
      ],
      "metadata": {
        "id": "PbBIGoVEE9lH"
      },
      "execution_count": null,
      "outputs": []
    },
    {
      "cell_type": "code",
      "source": [
        "!ls"
      ],
      "metadata": {
        "id": "YXqsVwq5EmQn"
      },
      "execution_count": null,
      "outputs": []
    }
  ]
}