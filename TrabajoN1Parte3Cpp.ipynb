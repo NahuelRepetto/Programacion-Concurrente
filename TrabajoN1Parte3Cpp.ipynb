{
  "nbformat": 4,
  "nbformat_minor": 0,
  "metadata": {
    "colab": {
      "provenance": [],
      "authorship_tag": "ABX9TyMfPpAM5YKCcUEPbgqhr/HE",
      "include_colab_link": true
    },
    "kernelspec": {
      "name": "python3",
      "display_name": "Python 3"
    },
    "language_info": {
      "name": "python"
    }
  },
  "cells": [
    {
      "cell_type": "markdown",
      "metadata": {
        "id": "view-in-github",
        "colab_type": "text"
      },
      "source": [
        "<a href=\"https://colab.research.google.com/github/NahuelRepetto/Programacion-Concurrente/blob/main/TrabajoN1Parte3Cpp.ipynb\" target=\"_parent\"><img src=\"https://colab.research.google.com/assets/colab-badge.svg\" alt=\"Open In Colab\"/></a>"
      ]
    },
    {
      "cell_type": "code",
      "execution_count": 196,
      "metadata": {
        "colab": {
          "base_uri": "https://localhost:8080/"
        },
        "id": "PMSX-vdyouCf",
        "outputId": "4fa806a1-b8ca-4778-c4ad-e8903508f72b"
      },
      "outputs": [
        {
          "output_type": "stream",
          "name": "stdout",
          "text": [
            "Overwriting Servidor.cpp\n"
          ]
        }
      ],
      "source": [
        "%%writefile Servidor.cpp\n",
        "#include<stdlib.h>\n",
        "#include<stdio.h>\n",
        "#include<string.h>\n",
        "#include<iostream>\n",
        "#include<fcntl.h>\n",
        "#include<unistd.h>\n",
        "#include<sys/stat.h>\n",
        "\n",
        "using namespace std;\n",
        "\n",
        "#define CANT_ELEMENTOS 4  \n",
        "\n",
        "int calcularMaximo(int vec[])\n",
        "{\n",
        "  int max = vec[0];\n",
        "\tint comparacion;\n",
        "\tfor(int i=0; i<CANT_ELEMENTOS; i++)\n",
        "\t{\n",
        "\t\tcomparacion = vec[i];\n",
        "\t\tif(comparacion > max)\n",
        "\t\t\tmax = vec[i];\n",
        "\t}\n",
        "\treturn max;\n",
        "}\n",
        "\n",
        "int calcularMinimo(int vec[])\n",
        "{\n",
        "  int min = vec[0];\n",
        "\tint comparacion;\n",
        "\tfor(int i=0; i<CANT_ELEMENTOS; i++)\n",
        "\t{\n",
        "\t\tcomparacion = vec[i];\n",
        "\t\tif(comparacion < min)\n",
        "\t\t\tmin = vec[i];\n",
        "\t}\n",
        "\treturn min;\n",
        "}\n",
        "\n",
        "int calcularSuma(int vec[])\n",
        "{\n",
        "  int sum = 0;\n",
        "\tfor(int i=0; i<CANT_ELEMENTOS; i++)\n",
        "\t\tsum += vec[i];\n",
        "\treturn sum;\n",
        "}\n",
        "\n",
        "float calcularPromedio(int vec[])\n",
        "{  \n",
        "\treturn (float)calcularSuma(vec)/CANT_ELEMENTOS;\n",
        "}\n",
        "\n",
        "\n",
        "int main (int argc, char *argv[])\n",
        "{\n",
        "\tint num[4];\n",
        "\tfloat retorno[4];\n",
        "\n",
        "  //CREO TUBERIAS PARA RECIBIR DATOS\n",
        "\tif( mkfifo(\"./fifoA\",0666) == -1 )\n",
        "\t{\n",
        "\t\tperror(\"Error al crear en mkfifo\");\n",
        "\t\treturn EXIT_FAILURE;\t\n",
        "\t}\n",
        "\n",
        "  //ABRO UNA TUBERIA EN MODO LECTURA\n",
        "\tint r = open(\"./fifoA\", O_RDONLY);  \n",
        "  \n",
        "\t//RECIBO DATOS\n",
        "  if( read( r, num, sizeof( num ) ) == -1 )\n",
        "\t{\n",
        "\t\tperror(\"Error en read()\");\n",
        "\t\treturn EXIT_FAILURE;\n",
        "\t}\t\n",
        "\n",
        "\t//PROCESO LOS DATOS\n",
        "\tretorno[0] = (float)calcularMinimo(num);\n",
        "\tretorno[1] = (float)calcularMaximo(num);\n",
        "\tretorno[2] = (float)calcularSuma(num);\n",
        "\tretorno[3] = calcularPromedio(num);\n",
        "\n",
        "\t//CREO TUBERIAS PARA ENVIAR DATOS\n",
        "  if( mkfifo(\"./fifoB\",0666) == -1 )\n",
        "\t{\n",
        "\t\tperror(\"Error al crear en mkfifo\");\n",
        "\t\treturn EXIT_FAILURE;\t\n",
        "\t}\n",
        "\t\n",
        "\t//ABRO UNA TUBERIA EN MODO ESCRITURA\n",
        "\tint w = open(\"./fifoB\", O_WRONLY);\n",
        "\t\n",
        "\t//ENVIO DATOS  \n",
        "\tif( write( w, retorno, sizeof( retorno ) ) == -1 )\n",
        "\t{\n",
        "\t\tperror(\"Error en write()\");\n",
        "\t\treturn EXIT_FAILURE;\n",
        "\t}\t \n",
        "\t\n",
        "  close(r);  \n",
        "\tclose(w);\t\n",
        "\tunlink(\"./fifoA\");\n",
        "\tunlink(\"./fifoB\");\n",
        "\treturn EXIT_SUCCESS;\n",
        "}"
      ]
    },
    {
      "cell_type": "code",
      "source": [
        "%%writefile Cliente.cpp\n",
        "#include<stdlib.h>\n",
        "#include<stdio.h>\n",
        "#include<string.h>\n",
        "#include<sstream>\n",
        "#include<iostream>\n",
        "#include<fcntl.h>\n",
        "#include<unistd.h>\n",
        "#include<sys/stat.h>\n",
        "#include<boost/lexical_cast.hpp>\n",
        "\n",
        "using namespace std;\n",
        "\n",
        "#define CANT_ELEMENTOS 4  \n",
        "\n",
        "int main (int argc, char *argv[])\n",
        "{\t\t\n",
        "\tint num[4]; \n",
        "\tfloat retorno[4];\t\n",
        "\n",
        "\t//VERIFICO QUE SE HAYA ENVIADO LA CADENA CON LOS NUMEROS\n",
        "  if( argc < 2 ) \n",
        "  {\n",
        "    cout<<\"Debe ingresar una cadena con una serie de cuatro números enteros no negativos separados con guión medio (-)\"<<endl;\n",
        "    exit(1);\n",
        "  }\n",
        "\n",
        "\t//RECUPERO LOS NUMEROS DE LA CADENA ENVIADA\t\n",
        "\tint ingreso = 0;\n",
        "\tstring lectura;\n",
        "\tstring cadena = argv[1];                  \n",
        "  stringstream input_stringstream(cadena);                    \n",
        "  while (getline(input_stringstream, lectura, '-'))\n",
        "  {\n",
        "\t\tif(ingreso >= CANT_ELEMENTOS)\t//PARA NO INGERSAR MAS DE LO PERMITIDO\n",
        "\t\t{\n",
        "\t\t\tcout << \"Se enviaron mas valores de los esperados, ingrese maximo 4.\" << endl;\n",
        "\t\t\texit(1);\n",
        "\t\t}\n",
        "\n",
        "\t  //PASO DE STRING A ENTERO  \n",
        "\t\tint i;   \n",
        "    try \n",
        "\t\t{\t\t\t\n",
        "      i = boost::lexical_cast<int>(lectura);        \t\t\t\t\n",
        "    }\n",
        "    catch (boost::bad_lexical_cast const &e) //SI LA ENTRADA ES INCORRECTA (NO NUMERICA) O AL CONVERTIRLA EXCEDE EL RANGO DE INT\n",
        "\t\t{        \n",
        "      cout << \"Entrada invalida '\" << lectura <<\"', deben ingresarse solo numeros separados por guion medio (-).\" << endl;\n",
        "\t\t\texit(1);\n",
        "    }\n",
        "\t\tnum[ingreso] = i;\t\t\n",
        "\t\tingreso++;\n",
        "  }\n",
        "\n",
        "\t//LA ABRO UNA EN MODO ESCRITURA\n",
        "\tint w = open(\"./fifoA\", O_WRONLY);\t\n",
        "\t\n",
        "\t//ENVIO DATOS \n",
        "\tif( write( w, num, sizeof( num ) ) == -1 )\n",
        "\t{\n",
        "\t\tperror(\"Error en write()\");\n",
        "\t\treturn EXIT_FAILURE;\n",
        "\t}\t\n",
        "\n",
        "\t//LA ABRO EN MODO LECTURA\n",
        "\tint r = open(\"./fifoB\", O_RDONLY);   \n",
        "\t\n",
        "\t//RECIBO DATOS\n",
        "  if( read( r, retorno, sizeof( retorno ) ) == -1 )\n",
        "\t{\n",
        "\t\tperror(\"Error en read()\");\n",
        "\t\treturn EXIT_FAILURE;\n",
        "\t}\n",
        "\t\n",
        "\t//MUESTRO LOS RESULTADOS\n",
        "\tcout << \"Numeros recibidos: \";\n",
        "\tfor(int i = 0; i < CANT_ELEMENTOS; i++)\n",
        "\t\tcout << num[i] << \"   \";\n",
        "\t\t\n",
        "\tcout << endl << \"Minimo: \" << retorno[0];\n",
        "\tcout << endl << \"Maximo: \" << retorno[1];\n",
        "\tcout << endl << \"Suma: \" << retorno[2];\n",
        "\tcout << endl << \"Promedio: \" << retorno[3];\t\n",
        "\tcout << endl << \"Cantiad de numeros: \" << CANT_ELEMENTOS;\t\n",
        "\t\t\t\n",
        "\tclose(w);\t\n",
        "\tclose(r);\t\t\t\n",
        "\treturn EXIT_SUCCESS;\n",
        "}"
      ],
      "metadata": {
        "colab": {
          "base_uri": "https://localhost:8080/"
        },
        "id": "TLF5-efGowj8",
        "outputId": "3f1f2538-63f8-4e2b-c993-d43a9706a6a8"
      },
      "execution_count": 321,
      "outputs": [
        {
          "output_type": "stream",
          "name": "stdout",
          "text": [
            "Overwriting Cliente.cpp\n"
          ]
        }
      ]
    },
    {
      "cell_type": "code",
      "source": [
        "!g++ -o Servidor Servidor.cpp"
      ],
      "metadata": {
        "id": "Vcd8flrGo6bv"
      },
      "execution_count": 197,
      "outputs": []
    },
    {
      "cell_type": "code",
      "source": [
        "!g++ -o Cliente Cliente.cpp"
      ],
      "metadata": {
        "id": "_acn8LNlo7uG"
      },
      "execution_count": 322,
      "outputs": []
    },
    {
      "cell_type": "code",
      "source": [
        "!nohup ./Servidor 1>salida 2>/dev/null &"
      ],
      "metadata": {
        "id": "CJg6JNQWpBQE"
      },
      "execution_count": 323,
      "outputs": []
    },
    {
      "cell_type": "code",
      "source": [
        "!./Cliente 45-5-3-4"
      ],
      "metadata": {
        "colab": {
          "base_uri": "https://localhost:8080/"
        },
        "id": "oyFS0lRCpCf0",
        "outputId": "f58d1c34-8138-4e0f-95c7-ea926c633b4b"
      },
      "execution_count": 325,
      "outputs": [
        {
          "output_type": "stream",
          "name": "stdout",
          "text": [
            "Numeros recibidos: 45   5   3   4   \n",
            "Minimo: 3\n",
            "Maximo: 45\n",
            "Suma: 57\n",
            "Promedio: 14.25\n",
            "Cantiad de numeros: 4"
          ]
        }
      ]
    },
    {
      "cell_type": "code",
      "source": [
        "%%writefile cerrar.cpp\n",
        "#include<stdlib.h>\n",
        "#include<unistd.h>\n",
        "\n",
        "int main (int argc, char *argv[])\n",
        "{\t\t\n",
        "\tunlink(\"./fifoA\");\n",
        "  unlink(\"./fifoB\");\t\t\n",
        "\treturn EXIT_SUCCESS;\n",
        "}"
      ],
      "metadata": {
        "colab": {
          "base_uri": "https://localhost:8080/"
        },
        "id": "FZHDXGaJFLLv",
        "outputId": "1bf2f1e0-579f-4d3c-aa31-faee7c4fd059"
      },
      "execution_count": 192,
      "outputs": [
        {
          "output_type": "stream",
          "name": "stdout",
          "text": [
            "Overwriting cerrar.cpp\n"
          ]
        }
      ]
    },
    {
      "cell_type": "code",
      "source": [
        "!g++ -o cerrar cerrar.cpp"
      ],
      "metadata": {
        "id": "UqYMVklAE6JQ"
      },
      "execution_count": 193,
      "outputs": []
    },
    {
      "cell_type": "code",
      "source": [
        "!./cerrar"
      ],
      "metadata": {
        "id": "PbBIGoVEE9lH"
      },
      "execution_count": 201,
      "outputs": []
    },
    {
      "cell_type": "code",
      "source": [
        "!ls"
      ],
      "metadata": {
        "id": "YXqsVwq5EmQn"
      },
      "execution_count": null,
      "outputs": []
    }
  ]
}