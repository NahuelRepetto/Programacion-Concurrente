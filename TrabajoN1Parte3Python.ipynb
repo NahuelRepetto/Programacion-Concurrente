{
  "nbformat": 4,
  "nbformat_minor": 0,
  "metadata": {
    "colab": {
      "provenance": [],
      "authorship_tag": "ABX9TyP3jby35cpBZf4qv+olNarO",
      "include_colab_link": true
    },
    "kernelspec": {
      "name": "python3",
      "display_name": "Python 3"
    },
    "language_info": {
      "name": "python"
    }
  },
  "cells": [
    {
      "cell_type": "markdown",
      "metadata": {
        "id": "view-in-github",
        "colab_type": "text"
      },
      "source": [
        "<a href=\"https://colab.research.google.com/github/NahuelRepetto/Programacion-Concurrente/blob/main/TrabajoN1Parte3Python.ipynb\" target=\"_parent\"><img src=\"https://colab.research.google.com/assets/colab-badge.svg\" alt=\"Open In Colab\"/></a>"
      ]
    },
    {
      "cell_type": "code",
      "execution_count": 128,
      "metadata": {
        "colab": {
          "base_uri": "https://localhost:8080/"
        },
        "id": "NpYAIJgl1oa6",
        "outputId": "73b5bf84-618e-4a75-a52b-853177fca7c0"
      },
      "outputs": [
        {
          "output_type": "stream",
          "name": "stdout",
          "text": [
            "Writing crearArchivo.py\n"
          ]
        }
      ],
      "source": [
        "%%writefile crearArchivo.py\n",
        "nuevo_archivo = open(\"archivo\",\"w\")\n",
        "for i in range(100):\n",
        "  nuevo_archivo.write(str(i+1) + \" Hola, como estan todos?\\n\")"
      ]
    },
    {
      "cell_type": "code",
      "source": [
        "!python crearArchivo.py "
      ],
      "metadata": {
        "id": "qWIKQKQq1qVg"
      },
      "execution_count": 129,
      "outputs": []
    },
    {
      "cell_type": "code",
      "source": [
        "%%writefile copiarArchivo.py\n",
        "from multiprocessing import Pipe\n",
        "import os\n",
        "import sys\n",
        "\n",
        "#COMIENZA EL MAIN\n",
        "#VERIFICO QUE SE HAYA ENVIADO EL NOMBRE DEL ARCHIVO Y OPCIONALMENTE LA CANT BYTES A TRANSFERIR POR CADA ENVIO\n",
        "if len(sys.argv) < 2 or len(sys.argv) > 3: \n",
        "  sys.exit(\"Paramatros invalidos. Debe ingresar: \\nComo minimo, el nombre del archivo a copiar. \\nComo maximo, el nombe del archivo a copiar y luego la cantidad de bytes a transferir en cada envío.\")\n",
        "\n",
        "#GUARDO EL NOMBRE DEL ARCHIVO A COPIAR\n",
        "path = sys.argv[1]\n",
        "\n",
        "#VERIFICO QUE EL ARCHIVO EXISTE\n",
        "if not os.path.isfile(path):\n",
        "   sys.exit(\"El archivo no existe!\")  \n",
        "\n",
        "#CANT BYTES A TRANSFERIR POR DEFECTO\n",
        "chunk = 512\n",
        "   \n",
        "#SI SE ENVIO UN SEGUNDO PARAMETRO LO VALIDA   \n",
        "if len(sys.argv) == 3:\n",
        "  if sys.argv[2].isnumeric():\n",
        "    chunk = int(sys.argv[2])\n",
        "  else:\n",
        "    sys.exit(\"Paramatro invalido: \\nEl segundo parametro, correspondiente a la cantidad de bytes a transferir en cada envío, debe ser numerico.\")\n",
        "\n",
        "#CREO LA TUBERIA\n",
        "recepcion, envio = Pipe( False )\n",
        "\n",
        "#CREO PROCESO HIJO\n",
        "pid = os.fork()\n",
        "\n",
        "#SI HUBO UN ERROR EN LA CREACION\n",
        "if pid < 0:\n",
        "  print(\"Error al crear nuevo proceso\")\n",
        "  sys.exit(1)\n",
        "\n",
        "#SI ESTOY EN EL PADRE CIERRO RECEPCION Y LLAMO A ENVIA ARCHIVO\n",
        "if pid:  \n",
        "  recepcion.close()\n",
        "  with open(path,\"r\") as f:\n",
        "    while True:\n",
        "      datos_bytes = (bytes(f.read(chunk), 'utf-8'))\n",
        "      if not datos_bytes:\n",
        "        break      \n",
        "      envio.send_bytes(datos_bytes)       \n",
        "  envio.close()\n",
        "  os.wait()\n",
        "  \n",
        "#SI ESTOY EN EL HIJO CIERRO ENVIO Y LLAMO A LEER ARCHIVO\n",
        "else:  \n",
        "  envio.close()\n",
        "  new_path = path + \"_copia\"\n",
        "  with open(new_path,\"w\") as f:\n",
        "    continuar = True\n",
        "    while continuar:\n",
        "      try:\n",
        "        f.write(recepcion.recv_bytes(chunk).decode())            \n",
        "      except EOFError as e:\n",
        "        continuar = False       \n",
        "  recepcion.close()\n",
        "  os._exit(0)"
      ],
      "metadata": {
        "colab": {
          "base_uri": "https://localhost:8080/"
        },
        "id": "JX4hV_1wAej4",
        "outputId": "8a7c8b66-b39c-48c6-e196-4d6c31f4e9b8"
      },
      "execution_count": 206,
      "outputs": [
        {
          "output_type": "stream",
          "name": "stdout",
          "text": [
            "Overwriting copiarArchivo.py\n"
          ]
        }
      ]
    },
    {
      "cell_type": "code",
      "source": [
        "!python copiarArchivo.py archivo 1024"
      ],
      "metadata": {
        "id": "k-Yib_wMBNod"
      },
      "execution_count": 199,
      "outputs": []
    },
    {
      "cell_type": "code",
      "source": [
        "!python copiarArchivo.py archivo 512"
      ],
      "metadata": {
        "id": "f7mhR7jmWt7s"
      },
      "execution_count": 200,
      "outputs": []
    },
    {
      "cell_type": "code",
      "source": [
        "!python copiarArchivo.py archivo "
      ],
      "metadata": {
        "id": "oBixRp0vWrtU"
      },
      "execution_count": 209,
      "outputs": []
    },
    {
      "cell_type": "code",
      "source": [
        "!python copiarArchivo.py archivo 1024 extra"
      ],
      "metadata": {
        "colab": {
          "base_uri": "https://localhost:8080/"
        },
        "id": "b62klrszXNWk",
        "outputId": "46b6fa25-1358-47a9-c568-18044f6ad53e"
      },
      "execution_count": 211,
      "outputs": [
        {
          "output_type": "stream",
          "name": "stdout",
          "text": [
            "Paramatros invalidos. Debe ingresar: \n",
            "Como minimo, el nombre del archivo a copiar. \n",
            "Como maximo, el nombe del archivo a copiar y luego la cantidad de bytes a transferir en cada envío.\n"
          ]
        }
      ]
    },
    {
      "cell_type": "code",
      "source": [
        "!python copiarArchivo.py archivo gdsg"
      ],
      "metadata": {
        "colab": {
          "base_uri": "https://localhost:8080/"
        },
        "id": "jcDTrkbiWvdU",
        "outputId": "52b46218-44f6-4ee2-a138-415a0bae083e"
      },
      "execution_count": 207,
      "outputs": [
        {
          "output_type": "stream",
          "name": "stdout",
          "text": [
            "Paramatro invalido: \n",
            "El segundo parametro, correspondiente a la cantidad de bytes a transferir en cada envío, debe ser numerico.\n"
          ]
        }
      ]
    },
    {
      "cell_type": "code",
      "source": [
        "!diff archivo archivo_copia"
      ],
      "metadata": {
        "id": "4ifxo17RQrQs"
      },
      "execution_count": 210,
      "outputs": []
    }
  ]
}