{
  "nbformat": 4,
  "nbformat_minor": 0,
  "metadata": {
    "colab": {
      "provenance": [],
      "include_colab_link": true
    },
    "kernelspec": {
      "name": "python3",
      "display_name": "Python 3"
    },
    "language_info": {
      "name": "python"
    }
  },
  "cells": [
    {
      "cell_type": "markdown",
      "metadata": {
        "id": "view-in-github",
        "colab_type": "text"
      },
      "source": [
        "<a href=\"https://colab.research.google.com/github/NahuelRepetto/Programacion-Concurrente/blob/main/BingoV2.ipynb\" target=\"_parent\"><img src=\"https://colab.research.google.com/assets/colab-badge.svg\" alt=\"Open In Colab\"/></a>"
      ]
    },
    {
      "cell_type": "markdown",
      "source": [
        "### SERVIDOR"
      ],
      "metadata": {
        "id": "35pxw3-P7TUL"
      }
    },
    {
      "cell_type": "code",
      "execution_count": null,
      "metadata": {
        "colab": {
          "base_uri": "https://localhost:8080/"
        },
        "id": "3eOtIYzt6mWA",
        "outputId": "b5582bad-64fb-4fa1-ebfc-ba4dfbac379c"
      },
      "outputs": [
        {
          "output_type": "stream",
          "name": "stdout",
          "text": [
            "Overwriting Servidor.py\n"
          ]
        }
      ],
      "source": [
        "%%writefile Servidor.py\n",
        "import random\n",
        "import sys\n",
        "import multiprocessing.shared_memory\n",
        "import time\n",
        "import threading\n",
        "import socket\n",
        "import os\n",
        "\n",
        "nuevoNumero = 0  # Esta variable se usa para guardar los numertos producidos\n",
        "mtxProductor = threading.Semaphore(1);\n",
        "mtxConsumidor = threading.Semaphore(0);\n",
        "producir = True\n",
        "maximos_jugadores = 5\n",
        "\n",
        "try:\n",
        "  # Para compartir los numeros salientes intento crear una MEMORIA COMPARTIDA\n",
        "  mc = multiprocessing.shared_memory.SharedMemory(name=\"mi_mem\", create=True, size=2)\n",
        "  mc.buf[0]= 0\n",
        "  mc.buf[1]= 0\n",
        "except FileExistsError as e:\n",
        "  print(\"Error al crear la memoria compartida, la misma ya existe.\")\n",
        "  sys.exit(1)  \n",
        "\n",
        "# Función que produce números\n",
        "def productor():\n",
        "  global nuevoNumero\n",
        "  global producir\n",
        "\n",
        "  # Creo una lista con todos los posibles numeros, para luego ir sacandolos y asi no se repitan\n",
        "  numeros = list(range(1, 91))   \n",
        "  \n",
        "  while producir:\n",
        "    mtxProductor.acquire()        \n",
        "\n",
        "    if not producir:\n",
        "      break\n",
        "\n",
        "    # Tomo un numero aletatorio de la lista y lo remuevo\n",
        "    nuevoNumero = random.sample(numeros, 1)      \n",
        "    numeros.remove(nuevoNumero[0])      \n",
        "      \n",
        "    # Si la lista esta vacia\n",
        "    if not numeros:      \n",
        "      producir = False\n",
        "              \n",
        "    mtxConsumidor.release();\n",
        "\n",
        "# Función que consume números\n",
        "def consumidor():\n",
        "  global nuevoNumero\n",
        "  global mc  \n",
        "  global cola_mensajes\n",
        "  global producir\n",
        "  global maximos_jugadores\n",
        "  consumir = True\n",
        "  bola = 1  \n",
        "    \n",
        "  # Para confirmar la recepcion de los datos por parte de los jugadores uso FIFO\n",
        "  fifo_path = \"./fifo\"\n",
        "\n",
        "  # Crear el FIFO si no existe\n",
        "  if not os.path.exists(fifo_path):\n",
        "    os.mkfifo(fifo_path, 0o600)\n",
        "\n",
        "  # Abrir el FIFO en modo lectura\n",
        "  fifo = os.open(fifo_path, os.O_RDONLY)\n",
        "  \n",
        "  while consumir:\n",
        "    mtxConsumidor.acquire();       \n",
        "             \n",
        "    # Tomo el numero producido         \n",
        "    print(\"Bola numero %i: %i\" %(bola, nuevoNumero[0])) \n",
        "    bola += 1  \n",
        "\n",
        "    # Guardo en mc el nuevo numero\n",
        "    mc.buf[0] = nuevoNumero[0]  \n",
        "              \n",
        "    # Espero la confirmacion de recepcion de todos los jugadores\n",
        "    recibidos = 0     \n",
        "      \n",
        "    while recibidos < maximos_jugadores:   \n",
        "      mensaje = os.read(fifo, 1).decode()\n",
        "      if mensaje == \"\":\n",
        "        pass\n",
        "      else:   \n",
        "        recibidos += 1   \n",
        "          \n",
        "    # Este sleep es para que la produccion de numeros pueda verse mientras va sucediendo\n",
        "    time.sleep(2)\n",
        "\n",
        "    # Si el productor termino tambien termina el consumidor\n",
        "    if not producir:\n",
        "      consumir = False  \n",
        "\n",
        "    # verifico si ya hay un ganador, si es asi finalizo produccion y consumo\n",
        "    if mc.buf[1] != 0:\n",
        "      print(\"\\nJuego finalizado.\")  \n",
        "      consumir = False\n",
        "      producir = False   \n",
        "          \n",
        "    mtxProductor.release();  \n",
        "\n",
        "  # Atrapar errores al cerrar la memoria compartida\n",
        "  try:    \n",
        "    mc.close()  \n",
        "  except OSError as e:\n",
        "    print(\"Error al cerrar la memoria compartida:\", str(e))   \n",
        "    sys.exit(1)   \n",
        "\n",
        "  # Atrapar errores al eliminar el archivo de memoria compartida\n",
        "  try:    \n",
        "    mc.unlink()\n",
        "  except OSError as e:\n",
        "    print(\"Error al eliminar el archivo de memoria compartida:\", str(e)) \n",
        "    sys.exit(1)  \n",
        "\n",
        "  # Atrapar errores al cerrar el FIFO\n",
        "  try:    \n",
        "    os.close(fifo)  \n",
        "  except OSError as e:\n",
        "    print(\"Error al cerrar el FIFO:\", str(e))\n",
        "    sys.exit(1)  \n",
        "    \n",
        "  # Atrapar errores al eliminar el archivo FIFO\n",
        "  try:\n",
        "    os.unlink(fifo_path)\n",
        "  except OSError as e:\n",
        "    print(\"Error al eliminar el archivo FIFO:\", str(e))  \n",
        "    sys.exit(1)      \n",
        "\n",
        "#INICIO DEL MAIN\n",
        "# Esperar a que se conecten los jugadores, uso sockets para notificar su conexion\n",
        "jugadores_actuales = 0\n",
        "\n",
        "try:\n",
        "  # Crea un socket\n",
        "  ss = socket.socket()\n",
        "  ss.bind((\"127.0.0.1\", 2209))\n",
        "    \n",
        "except socket.error as e:\n",
        "  print(\"Error al crear o conectar el socket.\")\n",
        "  sys.exit(1) \n",
        "\n",
        "# Escuchar conexiones entrantes\n",
        "ss.listen(maximos_jugadores)\n",
        "\n",
        "# Esperar a los jugadores\n",
        "while jugadores_actuales < maximos_jugadores:\n",
        "  # Aceptar una conexión entrante\n",
        "  (cs, dir) = ss.accept()  \n",
        "\n",
        "  # Incrementar el contador de conexiones\n",
        "  jugadores_actuales += 1\n",
        "  print(\"Se conceto el cliente numero: \", jugadores_actuales)\n",
        "\n",
        "  # Enviar mensaje al Cliente\n",
        "  mensaje = str(jugadores_actuales)\n",
        "  cs.send(mensaje.encode())\n",
        "  \n",
        "# Cerrar el socket del servidor\n",
        "cs.close()\n",
        "ss.close()\n",
        "\n",
        "print(\"\\nInicia el bolillero:\")\n",
        "\n",
        "# Crear los hilos\n",
        "hilo_productor = threading.Thread(target=productor)\n",
        "hilo_consumidor = threading.Thread(target=consumidor)\n",
        "\n",
        "# Iniciar los hilos\n",
        "hilo_productor.start()\n",
        "hilo_consumidor.start()\n",
        "\n",
        "# Esperar a que ambos hilos terminen\n",
        "hilo_productor.join()\n",
        "hilo_consumidor.join()\n",
        "\n",
        "sys.exit(0)"
      ]
    },
    {
      "cell_type": "markdown",
      "source": [
        "### JUGADOR"
      ],
      "metadata": {
        "id": "ly9BEGHE7XXK"
      }
    },
    {
      "cell_type": "code",
      "source": [
        "%%writefile Jugador.py\n",
        "import random\n",
        "import sys\n",
        "import multiprocessing.shared_memory\n",
        "from multiprocessing.resource_tracker import unregister\n",
        "import socket\n",
        "import time\n",
        "import os\n",
        "\n",
        "def crear_carton():\n",
        "  # Inicializar el cartón vacío\n",
        "  carton = [[0,0,0,0,0,0,0,0,0],[0,0,0,0,0,0,0,0,0],[0,0,0,0,0,0,0,0,0]]\n",
        "  \n",
        "  # Elegir 3 números aleatorios para cada columna del cartón\n",
        "  for columna in range(9):\n",
        "    if columna == 0:\n",
        "      # Primer columna, números del 1 al 9\n",
        "      numeros = list(range(1, 10))          \n",
        "    elif columna == 8:       \n",
        "      # Ultima columna, números del 80 al 90\n",
        "      numeros = list(range(80, 91))\n",
        "    else:\n",
        "      # Resto de columnas, números del (columna * 10) al (columna * 10 + 9)\n",
        "      numeros = list(range(columna * 10, columna * 10 + 10))\n",
        "    \n",
        "    # De los posibles numeros toma solo tres (uno por fila)\n",
        "    seleccion = random.sample(numeros, 3)  \n",
        "\n",
        "    # Los coloca en la columna de menor a mayor\n",
        "    for i in range(3):\n",
        "      carton[i][columna] = min(seleccion)\n",
        "      seleccion.remove(min(seleccion)) \n",
        "\n",
        "  # Una vez completado el carton, elimina aleatoriamente 4 numeros por fila, para dejar un total de 15 numeros por carton  \n",
        "  for i in range(3):    \n",
        "    numeros = list(range(0, 9))           # De las nueve posibles colunas de cada fila\n",
        "    descarte = random.sample(numeros, 4)  # Toma 4 aleatorias para eliminar su valor (lo pone en 0)\n",
        "    for num in descarte:\n",
        "      carton[i][num] = 0                 \n",
        "  return carton\n",
        "\n",
        "def imprimir_carton(carton):\n",
        "  print(\"Cartón de Bingo:\")\n",
        "  for fila in carton:\n",
        "    print(fila)\n",
        "\n",
        "#INICIO DEL MAIN\n",
        "try:\n",
        "  # Intenta conectarte al servidor, usando un socket\n",
        "  cs = socket.socket()\n",
        "  cs.connect((\"127.0.0.1\", 2209))  \n",
        "\n",
        "  # Recibir mensaje del Servidor (numero de jugador)\n",
        "  mensaje = cs.recv(1024)\n",
        "  jugador = mensaje.decode()\n",
        "  print(\"Bienvenido, eres el jugador numero \", jugador)\n",
        "  print(\"\")\n",
        "\n",
        "except ConnectionRefusedError:\n",
        "  print(\"No se pudo establecer una conexión. El socket no está abierto o no está disponible.\")\n",
        "  sys.exit(1)\n",
        "\n",
        "except socket.error as e:\n",
        "  print(\"Ocurrió un error inesperado en el socket:\", str(e))  \n",
        "  sys.exit(1)\n",
        "\n",
        "finally:\n",
        "  # Cerrar el socket del cliente\n",
        "  cs.close()\n",
        "\n",
        "# Crear un cartón de bingo\n",
        "carton = crear_carton()\n",
        "\n",
        "# Imprimir el cartón\n",
        "imprimir_carton(carton)\n",
        "\n",
        "# Paso valores del carton a una lista\n",
        "lista_numeros = [i for fila in carton for i in fila]\n",
        "\n",
        "# Elimino los ceros de la lista para dejar solo los posibles valores de bolas\n",
        "valor = 0\n",
        "while valor in lista_numeros:\n",
        "    lista_numeros.remove(valor)\n",
        "\n",
        "try:\n",
        "  # Para ver numeros que van saliendo intento acceder a la memoria compartida\n",
        "  mc = multiprocessing.shared_memory.SharedMemory(name=\"mi_mem\")\n",
        "  unregister(mc._name, \"shared_memory\")\n",
        "\n",
        "except FileNotFoundError as e:\n",
        "    print(\"Error al conectarse a la memoria compartida, la misma no existe.\")\n",
        "    sys.exit(1)\n",
        "\n",
        "# Para notificarle al servidor la recepcion de cada valor uso FIFO\n",
        "fifo_path = \"./fifo\"\n",
        "\n",
        "# Crear el FIFO si no existe\n",
        "if not os.path.exists(fifo_path):\n",
        "  os.mkfifo(fifo_path, 0o600)\n",
        "\n",
        "# Abrir el FIFO en modo escritura\n",
        "fifo = os.open(fifo_path, os.O_WRONLY)\n",
        "\n",
        "mensaje = str(jugador)\n",
        "\n",
        "numero = 0  # Lo uso para comparar con el valor leido y saber si es un valor nuevo o uno ya leido anteriromente\n",
        "bola = 1\n",
        "consumir = True\n",
        "\n",
        "print(\"\\nEsperando a los demas jugadores.\", end=\"\")\n",
        "\n",
        "while (mc.buf[0] == 0):\n",
        "  pass\n",
        "\n",
        "print(\"\\nEstamos listo!!!\\n\\nSalio:\")\n",
        "\n",
        "while consumir:\n",
        "  if mc.buf[1] != 0:\n",
        "    print(\"\\nFin del juego.\")  \n",
        "    print(\"Lo sentimos, el ganador fue el jugador \" + str(mc.buf[1]) + \" .\")      \n",
        "    consumir = False\n",
        "  else:\n",
        "    nuevoNumero = mc.buf[0]  \n",
        "    if nuevoNumero != numero:    \n",
        "      numero = nuevoNumero\n",
        "      print(\"Bola numero %i: %i\" %(bola, numero))\n",
        "      os.write(fifo, mensaje.encode()) # Notificar recepcion        \n",
        "      bola += 1       \n",
        "      if numero in lista_numeros:\n",
        "        lista_numeros.remove(numero)    \n",
        "      if not lista_numeros:\n",
        "        print(\"\\nFelicitaciones, ha ganado !!!\")\n",
        "        mc.buf[1] = int(jugador)\n",
        "        consumir = False   \n",
        "\n",
        "# Atrapar errores al cerrar la memoria compartida\n",
        "try:    \n",
        "  mc.close()  \n",
        "except OSError as e:\n",
        "  print(\"Error al cerrar la memoria compartida:\", str(e))    \n",
        "\n",
        "# Atrapar errores al cerrar el FIFO\n",
        "try:    \n",
        "  os.close(fifo)  \n",
        "except OSError as e:\n",
        "  print(\"Error al cerrar el FIFO:\", str(e))\n",
        "\n",
        "sys.exit(0)"
      ],
      "metadata": {
        "colab": {
          "base_uri": "https://localhost:8080/"
        },
        "id": "cU8IF0ia7ZTa",
        "outputId": "c9f4b406-7287-470f-e77d-ed3b71cd5052"
      },
      "execution_count": null,
      "outputs": [
        {
          "output_type": "stream",
          "name": "stdout",
          "text": [
            "Overwriting Jugador.py\n"
          ]
        }
      ]
    },
    {
      "cell_type": "markdown",
      "source": [
        "### EJECUTAR (inicia al conectarse 5 jugadores)"
      ],
      "metadata": {
        "id": "_SYJFCYj7bHS"
      }
    },
    {
      "cell_type": "markdown",
      "source": [
        "Ejecutar una vez el servidor:"
      ],
      "metadata": {
        "id": "RW4HgyPn54nQ"
      }
    },
    {
      "cell_type": "code",
      "source": [
        "!python Servidor.py 1>Servidor 2>errorSv &"
      ],
      "metadata": {
        "id": "1HLNfne17ara"
      },
      "execution_count": null,
      "outputs": []
    },
    {
      "cell_type": "markdown",
      "source": [
        "Ejecutar 4 jugadores en segundo plano:"
      ],
      "metadata": {
        "id": "ljbzAGXM5-u3"
      }
    },
    {
      "cell_type": "code",
      "source": [
        "!python Jugador.py 1>Jugador1 2>/dev/null &"
      ],
      "metadata": {
        "id": "zCKOFWWC7d_S"
      },
      "execution_count": null,
      "outputs": []
    },
    {
      "cell_type": "code",
      "source": [
        "!python Jugador.py 1>Jugador2 2>/dev/null &"
      ],
      "metadata": {
        "id": "nWZtr4pg7ejy"
      },
      "execution_count": null,
      "outputs": []
    },
    {
      "cell_type": "code",
      "source": [
        "!python Jugador.py 1>Jugador3 2>/dev/null &"
      ],
      "metadata": {
        "id": "jzNgC8A07e4K"
      },
      "execution_count": null,
      "outputs": []
    },
    {
      "cell_type": "code",
      "source": [
        "!python Jugador.py 1>Jugador4 2>/dev/null &"
      ],
      "metadata": {
        "id": "qG393JYx7fK6"
      },
      "execution_count": null,
      "outputs": []
    },
    {
      "cell_type": "markdown",
      "source": [
        "Ejecutar 1 jugador tomando la terminal:"
      ],
      "metadata": {
        "id": "DEIlWlgE6HTn"
      }
    },
    {
      "cell_type": "code",
      "source": [
        "! python Jugador.py"
      ],
      "metadata": {
        "id": "BWs6qAoo7md6"
      },
      "execution_count": null,
      "outputs": []
    },
    {
      "cell_type": "markdown",
      "source": [
        "### EMERGENCIA PARA CUANDO ALGO SE CERRO MAL"
      ],
      "metadata": {
        "id": "6Iqv4Lfz7oB6"
      }
    },
    {
      "cell_type": "code",
      "source": [
        "import sys\n",
        "import multiprocessing.shared_memory\n",
        "\n",
        "mc = multiprocessing.shared_memory.SharedMemory(name=\"mi_mem\")\n",
        "mc.close()\n",
        "mc.unlink()"
      ],
      "metadata": {
        "id": "kcsxRE0i7pOi"
      },
      "execution_count": null,
      "outputs": []
    },
    {
      "cell_type": "code",
      "source": [
        "import os\n",
        "fifo_path = \"./fifo\"\n",
        "os.unlink(fifo_path)"
      ],
      "metadata": {
        "id": "m4-FzFgM7qq6"
      },
      "execution_count": null,
      "outputs": []
    }
  ]
}