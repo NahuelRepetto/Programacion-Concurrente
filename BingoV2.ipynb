{
  "nbformat": 4,
  "nbformat_minor": 0,
  "metadata": {
    "colab": {
      "provenance": [],
      "include_colab_link": true
    },
    "kernelspec": {
      "name": "python3",
      "display_name": "Python 3"
    },
    "language_info": {
      "name": "python"
    }
  },
  "cells": [
    {
      "cell_type": "markdown",
      "metadata": {
        "id": "view-in-github",
        "colab_type": "text"
      },
      "source": [
        "<a href=\"https://colab.research.google.com/github/NahuelRepetto/Programacion-Concurrente/blob/main/BingoV2.ipynb\" target=\"_parent\"><img src=\"https://colab.research.google.com/assets/colab-badge.svg\" alt=\"Open In Colab\"/></a>"
      ]
    },
    {
      "cell_type": "markdown",
      "source": [
        "SERVIDOR"
      ],
      "metadata": {
        "id": "35pxw3-P7TUL"
      }
    },
    {
      "cell_type": "code",
      "execution_count": 1,
      "metadata": {
        "colab": {
          "base_uri": "https://localhost:8080/"
        },
        "id": "3eOtIYzt6mWA",
        "outputId": "2b02a4e6-9356-4e0b-e793-9287fe742969"
      },
      "outputs": [
        {
          "output_type": "stream",
          "name": "stdout",
          "text": [
            "Writing Servidor.py\n"
          ]
        }
      ],
      "source": [
        "%%writefile Servidor.py\n",
        "import random\n",
        "import sys\n",
        "import multiprocessing.shared_memory\n",
        "import time\n",
        "import threading\n",
        "import socket\n",
        "import os\n",
        "\n",
        "nuevoNumero = None  # Esta variable se usa para guardar los numertos producidos y para sincronizar al productor y al consumidor\n",
        "producir = True\n",
        "maximos_jugadores = 5\n",
        "\n",
        "# Objeto Condition para sincronizar la producción y el consumo de los numeros\n",
        "condicion = threading.Condition()\n",
        "\n",
        "# Para compartir los numeros salientes uso MEMORIA COMPARTIDA\n",
        "mc = multiprocessing.shared_memory.SharedMemory(name=\"mi_mem\", create=True, size=2)\n",
        "mc.buf[0]= 0\n",
        "mc.buf[1]= 0\n",
        "\n",
        "# Función que produce números\n",
        "def productor():\n",
        "  global nuevoNumero\n",
        "  global producir\n",
        "\n",
        "  # Creo una lista con todos los posibles numeros, para luego ir sacandolos y asi no se repitan\n",
        "  numeros = list(range(1, 91))   \n",
        "  \n",
        "  while producir:\n",
        "    with condicion:\n",
        "      # Esperar si hay un número disponible\n",
        "      while nuevoNumero is not None:\n",
        "        condicion.wait()    \n",
        "\n",
        "      # Tomo un numero aletatorio de la lista y lo remuevo\n",
        "      nuevoNumero = random.sample(numeros, 1)      \n",
        "      numeros.remove(nuevoNumero[0])      \n",
        "      \n",
        "      # Si la lista esta vacia\n",
        "      if not numeros:      \n",
        "        producir = False\n",
        "            \n",
        "      # Notificar al consumidor que hay un número disponible\n",
        "      condicion.notify()\n",
        "\n",
        "# Función que consume números\n",
        "def consumidor():\n",
        "  global nuevoNumero\n",
        "  global mc  \n",
        "  global cola_mensajes\n",
        "  global producir\n",
        "  global maximos_jugadores\n",
        "  consumir = True\n",
        "  bola = 1  \n",
        "    \n",
        "  # Para confirmar la recepcion de los datos por parte de los jugadores uso FIFO\n",
        "  fifo_path = \"./fifo\"\n",
        "\n",
        "  # Crear el FIFO si no existe\n",
        "  if not os.path.exists(fifo_path):\n",
        "    os.mkfifo(fifo_path, 0o600)\n",
        "\n",
        "  # Abrir el FIFO en modo lectura\n",
        "  fifo = os.open(fifo_path, os.O_RDONLY)\n",
        "  \n",
        "  while consumir:\n",
        "    with condicion:\n",
        "    # Esperar si no hay un número disponible\n",
        "      while nuevoNumero is None:\n",
        "        condicion.wait()         \n",
        "             \n",
        "      print(\"Bola numero %i: %i\" %(bola, nuevoNumero[0])) \n",
        "      bola += 1  \n",
        "\n",
        "      # Guardo en mc el nuevo valor\n",
        "      mc.buf[0] = nuevoNumero[0]  \n",
        "              \n",
        "      # Espero la confirmacion de recepcion de todos los jugadores\n",
        "      recibidos = 0     \n",
        "      \n",
        "      while recibidos < maximos_jugadores:   \n",
        "        mensaje = os.read(fifo, 1).decode()\n",
        "        if mensaje == \"\":\n",
        "          pass\n",
        "        else:   \n",
        "          recibidos += 1   \n",
        "          \n",
        "      # Este sleep es para que la produccion de numeros pueda verse mientras va sucediendo\n",
        "      time.sleep(0.5)\n",
        "  \n",
        "      nuevoNumero = None\n",
        "\n",
        "      # Si el productor termino tambien termina el consumidor\n",
        "      if not producir:\n",
        "        consumir = False  \n",
        "\n",
        "      # verifico si ya hay un ganador, si es asi finalizo produccion y consumo\n",
        "      if mc.buf[1] == 1:\n",
        "        print(\"\\nYa hay un ganador.\")  \n",
        "        consumir = False\n",
        "        producir = False   \n",
        "          \n",
        "      # Notificar al productor que el número ha sido consumido\n",
        "      condicion.notify()      \n",
        "\n",
        "  mc.close()   \n",
        "  os.close(fifo)  \n",
        "  os.unlink(fifo_path)\n",
        "\n",
        "#INICIO DEL MAIN\n",
        "# Esperar a que se conecten los jugadores, uso sockets para notificar su conexion\n",
        "jugadores_actuales = 0\n",
        "\n",
        "# Crear un socket\n",
        "ss = socket.socket()\n",
        "ss.bind((\"127.0.0.1\", 2209))\n",
        "\n",
        "# Escuchar conexiones entrantes\n",
        "ss.listen(maximos_jugadores)\n",
        "\n",
        "# Esperar a los jugadores\n",
        "while jugadores_actuales < maximos_jugadores:\n",
        "  # Aceptar una conexión entrante\n",
        "  (cs, dir) = ss.accept()  \n",
        "\n",
        "  # Incrementar el contador de conexiones\n",
        "  jugadores_actuales += 1\n",
        "  print(\"Se conceto el cliente numero: \", jugadores_actuales)\n",
        "\n",
        "  # Enviar mensaje al Cliente\n",
        "  mensaje = str(jugadores_actuales)\n",
        "  cs.send(mensaje.encode())\n",
        "  \n",
        "# Cerrar el socket del servidor\n",
        "cs.close()\n",
        "ss.close()\n",
        "\n",
        "print(\"\\nInicia el bolillero:\")\n",
        "\n",
        "# Crear los hilos\n",
        "hilo_productor = threading.Thread(target=productor)\n",
        "hilo_consumidor = threading.Thread(target=consumidor)\n",
        "\n",
        "# Iniciar los hilos\n",
        "hilo_productor.start()\n",
        "hilo_consumidor.start()\n",
        "\n",
        "# Esperar a que ambos hilos terminen\n",
        "hilo_productor.join()\n",
        "hilo_consumidor.join()\n",
        "\n",
        "# Desvinculo la memoria compartida\n",
        "mc.unlink()"
      ]
    },
    {
      "cell_type": "markdown",
      "source": [
        "JUGADOR"
      ],
      "metadata": {
        "id": "ly9BEGHE7XXK"
      }
    },
    {
      "cell_type": "code",
      "source": [
        "%%writefile Jugador.py\n",
        "import random\n",
        "import sys\n",
        "import multiprocessing.shared_memory\n",
        "from multiprocessing.resource_tracker import unregister\n",
        "import socket\n",
        "import time\n",
        "import os\n",
        "\n",
        "def crear_carton():\n",
        "  # Inicializar el cartón vacío\n",
        "  carton = [[0,0,0,0,0,0,0,0,0],[0,0,0,0,0,0,0,0,0],[0,0,0,0,0,0,0,0,0]]\n",
        "  \n",
        "  # Elegir 3 números aleatorios para cada columna del cartón\n",
        "  for columna in range(9):\n",
        "    if columna == 0:\n",
        "      # Primer columna, números del 1 al 9\n",
        "      numeros = list(range(1, 10))          \n",
        "    elif columna == 8:       \n",
        "      # Ultima columna, números del 80 al 90\n",
        "      numeros = list(range(80, 91))\n",
        "    else:\n",
        "      # Resto de columnas, números del (columna * 10) al (columna * 10 + 9)\n",
        "      numeros = list(range(columna * 10, columna * 10 + 10))\n",
        "    \n",
        "    # De los posibles numeros toma solo tres (uno por fila)\n",
        "    seleccion = random.sample(numeros, 3)  \n",
        "\n",
        "    # Los coloca en la columna de menor a mayor\n",
        "    for i in range(3):\n",
        "      carton[i][columna] = min(seleccion)\n",
        "      seleccion.remove(min(seleccion)) \n",
        "\n",
        "  # Una vez completado el carton, elimina aleatoriamente 4 numeros por fila, para dejar un total de 15 numeros por carton  \n",
        "  for i in range(3):    \n",
        "    numeros = list(range(0, 9))           # De las nueve posibles colunas de cada fila\n",
        "    descarte = random.sample(numeros, 4)  # Toma 4 aleatorias para eliminar su valor (lo pone en 0)\n",
        "    for num in descarte:\n",
        "      carton[i][num] = 0                 \n",
        "  return carton\n",
        "\n",
        "def imprimir_carton(carton):\n",
        "  print(\"Cartón de Bingo:\")\n",
        "  for fila in carton:\n",
        "    print(fila)\n",
        "\n",
        "#INICIO DEL MAIN\n",
        "# conectarse al servidor, uso de sockets\n",
        "cs = socket.socket()\n",
        "cs.connect((\"127.0.0.1\", 2209))\n",
        "\n",
        "# Recibir mensaje del Servidor (numero de jugador)\n",
        "mensaje = cs.recv(1024)\n",
        "jugador = mensaje.decode()\n",
        "print(\"Bienvenido, eres el jugador numero \", jugador)\n",
        "print(\"\")\n",
        "\n",
        "# Cerrar el socket del cliente\n",
        "cs.close()\n",
        "\n",
        "# Crear un cartón de bingo\n",
        "carton = crear_carton()\n",
        "\n",
        "# Imprimir el cartón\n",
        "imprimir_carton(carton)\n",
        "\n",
        "# Paso valores del carton a una lista\n",
        "lista_numeros = [i for fila in carton for i in fila]\n",
        "\n",
        "# Elimino los ceros de la lista para dejar solo los posibles valores de bolas\n",
        "valor = 0\n",
        "while valor in lista_numeros:\n",
        "    lista_numeros.remove(valor)\n",
        "\n",
        "# Para ver numeros que van saliendo accedo a la memoria compartida\n",
        "mc = multiprocessing.shared_memory.SharedMemory(name=\"mi_mem\")\n",
        "unregister(mc._name, \"shared_memory\")\n",
        "\n",
        "# Para notificarle al servidor la recepcion de cada valor uso FIFO\n",
        "fifo_path = \"./fifo\"\n",
        "\n",
        "# Crear el FIFO si no existe\n",
        "if not os.path.exists(fifo_path):\n",
        "  os.mkfifo(fifo_path, 0o600)\n",
        "\n",
        "# Abrir el FIFO en modo escritura\n",
        "fifo = os.open(fifo_path, os.O_WRONLY)\n",
        "\n",
        "mensaje = str(jugador)\n",
        "\n",
        "numero = 0  # Lo uso para comparar con el valor leido y saber si es un valor nuevo o uno ya leido anteriromente\n",
        "bola = 1\n",
        "consumir = True\n",
        "\n",
        "print(\"\\nEsperando a los demas jugadores.\", end=\"\")\n",
        "\n",
        "while (mc.buf[0] == 0):\n",
        "  pass\n",
        "\n",
        "print(\"\\nEstamos listo!!!\\n\\nSalio:\")\n",
        "\n",
        "while consumir:\n",
        "  if mc.buf[1] == 1:\n",
        "    print(\"\\nFin del juego.\")  \n",
        "    print(\"Lo sentimos, ya hay un ganador.\")      \n",
        "    consumir = False\n",
        "  else:\n",
        "    nuevoNumero = mc.buf[0]  \n",
        "    if nuevoNumero != numero:    \n",
        "      numero = nuevoNumero\n",
        "      print(\"Bola numero %i: %i\" %(bola, numero))\n",
        "      os.write(fifo, mensaje.encode()) # Notificar recepcion        \n",
        "      bola += 1       \n",
        "      if numero in lista_numeros:\n",
        "        lista_numeros.remove(numero)    \n",
        "      if not lista_numeros:\n",
        "        print(\"\\nFelicitaciones, ha ganado !!!\")\n",
        "        mc.buf[1] = 1\n",
        "        consumir = False   \n",
        "\n",
        "# Cierro la mc y fifo\n",
        "mc.close()\n",
        "os.close(fifo)"
      ],
      "metadata": {
        "colab": {
          "base_uri": "https://localhost:8080/"
        },
        "id": "cU8IF0ia7ZTa",
        "outputId": "366063b9-8b40-4b17-99ac-033e30601588"
      },
      "execution_count": 2,
      "outputs": [
        {
          "output_type": "stream",
          "name": "stdout",
          "text": [
            "Writing Jugador.py\n"
          ]
        }
      ]
    },
    {
      "cell_type": "markdown",
      "source": [
        "EJECUTAR (inicia al conectarse 5 jugadores)"
      ],
      "metadata": {
        "id": "_SYJFCYj7bHS"
      }
    },
    {
      "cell_type": "code",
      "source": [
        "!nohup python Servidor.py 1>Servidor 2>errorSv &"
      ],
      "metadata": {
        "id": "1HLNfne17ara"
      },
      "execution_count": 3,
      "outputs": []
    },
    {
      "cell_type": "code",
      "source": [
        "!nohup python Jugador.py 1>Jugador1 2>/dev/null &"
      ],
      "metadata": {
        "id": "zCKOFWWC7d_S"
      },
      "execution_count": 7,
      "outputs": []
    },
    {
      "cell_type": "code",
      "source": [
        "!nohup python Jugador.py 1>Jugador2 2>/dev/null &"
      ],
      "metadata": {
        "id": "nWZtr4pg7ejy"
      },
      "execution_count": 6,
      "outputs": []
    },
    {
      "cell_type": "code",
      "source": [
        "!nohup python Jugador.py 1>Jugador3 2>/dev/null &"
      ],
      "metadata": {
        "id": "jzNgC8A07e4K"
      },
      "execution_count": 5,
      "outputs": []
    },
    {
      "cell_type": "code",
      "source": [
        "!nohup python Jugador.py 1>Jugador4 2>/dev/null &"
      ],
      "metadata": {
        "id": "qG393JYx7fK6"
      },
      "execution_count": 4,
      "outputs": []
    },
    {
      "cell_type": "code",
      "source": [
        "! python Jugador.py"
      ],
      "metadata": {
        "colab": {
          "base_uri": "https://localhost:8080/"
        },
        "id": "BWs6qAoo7md6",
        "outputId": "525fb52a-078d-4609-8b6d-6f3a1dfff3bb"
      },
      "execution_count": 8,
      "outputs": [
        {
          "output_type": "stream",
          "name": "stdout",
          "text": [
            "Bienvenido, eres el jugador numero  5\n",
            "\n",
            "Cartón de Bingo:\n",
            "[0, 11, 0, 33, 43, 55, 0, 72, 0]\n",
            "[0, 0, 21, 0, 44, 0, 67, 76, 81]\n",
            "[7, 0, 0, 35, 45, 0, 68, 78, 0]\n",
            "\n",
            "Esperando a los demas jugadores.\n",
            "Estamos listo!!!\n",
            "\n",
            "Salio:\n",
            "Bola numero 1: 30\n",
            "Bola numero 2: 84\n",
            "Bola numero 3: 85\n",
            "Bola numero 4: 82\n",
            "Bola numero 5: 83\n",
            "Bola numero 6: 2\n",
            "Bola numero 7: 21\n",
            "Bola numero 8: 10\n",
            "Bola numero 9: 55\n",
            "Bola numero 10: 71\n",
            "Bola numero 11: 46\n",
            "Bola numero 12: 36\n",
            "Bola numero 13: 56\n",
            "Bola numero 14: 13\n",
            "Bola numero 15: 22\n",
            "Bola numero 16: 87\n",
            "Bola numero 17: 28\n",
            "Bola numero 18: 45\n",
            "Bola numero 19: 19\n",
            "Bola numero 20: 65\n",
            "Bola numero 21: 64\n",
            "Bola numero 22: 62\n",
            "Bola numero 23: 88\n",
            "Bola numero 24: 52\n",
            "Bola numero 25: 5\n",
            "Bola numero 26: 80\n",
            "Bola numero 27: 49\n",
            "Bola numero 28: 6\n",
            "Bola numero 29: 35\n",
            "Bola numero 30: 40\n",
            "Bola numero 31: 1\n",
            "Bola numero 32: 54\n",
            "Bola numero 33: 16\n",
            "Bola numero 34: 27\n",
            "Bola numero 35: 32\n",
            "Bola numero 36: 29\n",
            "Bola numero 37: 67\n",
            "Bola numero 38: 3\n",
            "Bola numero 39: 33\n",
            "Bola numero 40: 11\n",
            "Bola numero 41: 48\n",
            "Bola numero 42: 25\n",
            "Bola numero 43: 47\n",
            "Bola numero 44: 9\n",
            "Bola numero 45: 77\n",
            "Bola numero 46: 15\n",
            "Bola numero 47: 23\n",
            "Bola numero 48: 68\n",
            "Bola numero 49: 58\n",
            "Bola numero 50: 50\n",
            "Bola numero 51: 74\n",
            "Bola numero 52: 81\n",
            "Bola numero 53: 66\n",
            "Bola numero 54: 26\n",
            "Bola numero 55: 12\n",
            "Bola numero 56: 7\n",
            "Bola numero 57: 20\n",
            "Bola numero 58: 41\n",
            "Bola numero 59: 73\n",
            "Bola numero 60: 63\n",
            "Bola numero 61: 89\n",
            "Bola numero 62: 86\n",
            "Bola numero 63: 61\n",
            "Bola numero 64: 42\n",
            "Bola numero 65: 69\n",
            "Bola numero 66: 57\n",
            "Bola numero 67: 60\n",
            "Bola numero 68: 14\n",
            "Bola numero 69: 53\n",
            "Bola numero 70: 38\n",
            "Bola numero 71: 43\n",
            "Bola numero 72: 70\n",
            "Bola numero 73: 17\n",
            "Bola numero 74: 39\n",
            "Bola numero 75: 78\n",
            "Bola numero 76: 59\n",
            "Bola numero 77: 8\n",
            "Bola numero 78: 90\n",
            "Bola numero 79: 76\n",
            "Bola numero 80: 51\n",
            "Bola numero 81: 72\n",
            "Bola numero 82: 44\n",
            "\n",
            "Felicitaciones, ha ganado !!!\n"
          ]
        }
      ]
    },
    {
      "cell_type": "markdown",
      "source": [
        "EMERGENCIA PARA CUANDO ALGO SE CERRO MAL"
      ],
      "metadata": {
        "id": "6Iqv4Lfz7oB6"
      }
    },
    {
      "cell_type": "code",
      "source": [
        "import random\n",
        "import sys\n",
        "import multiprocessing.shared_memory\n",
        "import time\n",
        "\n",
        "mc = multiprocessing.shared_memory.SharedMemory(name=\"mi_mem\")\n",
        "mc.close()\n",
        "mc.unlink()"
      ],
      "metadata": {
        "id": "kcsxRE0i7pOi"
      },
      "execution_count": null,
      "outputs": []
    },
    {
      "cell_type": "code",
      "source": [
        "import os\n",
        "fifo_path = \"./fifo\"\n",
        "os.unlink(fifo_path)"
      ],
      "metadata": {
        "id": "m4-FzFgM7qq6"
      },
      "execution_count": null,
      "outputs": []
    }
  ]
}