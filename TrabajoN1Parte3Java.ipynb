{
  "nbformat": 4,
  "nbformat_minor": 0,
  "metadata": {
    "colab": {
      "provenance": [],
      "authorship_tag": "ABX9TyOxiDZ1nOJbac9p6+2Varw8",
      "include_colab_link": true
    },
    "kernelspec": {
      "name": "python3",
      "display_name": "Python 3"
    },
    "language_info": {
      "name": "python"
    }
  },
  "cells": [
    {
      "cell_type": "markdown",
      "metadata": {
        "id": "view-in-github",
        "colab_type": "text"
      },
      "source": [
        "<a href=\"https://colab.research.google.com/github/NahuelRepetto/Programacion-Concurrente/blob/main/TrabajoN1Parte3Java.ipynb\" target=\"_parent\"><img src=\"https://colab.research.google.com/assets/colab-badge.svg\" alt=\"Open In Colab\"/></a>"
      ]
    },
    {
      "cell_type": "code",
      "source": [
        "%%writefile Servidor.java\n",
        "import java.net.Socket;\n",
        "import java.net.ServerSocket;\n",
        "import java.io.DataOutputStream;\n",
        "import java.io.DataInputStream;\n",
        "import java.io.IOException;\n",
        "\n",
        "public class Servidor\n",
        "{    \n",
        "  //DEFINICION DE CONSTANTES  \n",
        "  private static final int PUERTO = 5000;\n",
        "\n",
        "  public static void main(String[] args) throws IOException\n",
        "  {         \n",
        "    try\n",
        "    {     \n",
        "      //SE CREA EL SOCKET\n",
        "      ServerSocket ss = new ServerSocket(PUERTO);      \n",
        "\n",
        "      //SE ESPERA A QUE EL CLIENTE SE CONECTE\n",
        "      Socket cs = ss.accept(); \n",
        "\n",
        "      //SE OBTIENE UN FLUJO ENTRANTE DESDE EL CLIENTE\n",
        "      DataInputStream entrada = new DataInputStream(cs.getInputStream());\n",
        " \n",
        "      //RECIBO LA CADENA\n",
        "      String cadena = (String)entrada.readUTF();  \n",
        "      \n",
        "      //ANALIZO LA CADENA        \n",
        "      int caracteresTotales = cadena.length();\n",
        "      int digitos = 0;\n",
        "      int letras = 0;\n",
        "      int especiales = 0;\n",
        "\n",
        "      for (int i = 0; i < caracteresTotales; i++) \n",
        "      {\n",
        "        if(cadena.substring(i, i+1).matches(\"[A-Z]*\") || cadena.substring(i, i+1).matches(\"[a-z]*\"))\n",
        "         letras++;\n",
        "        else if(cadena.substring(i, i+1).matches(\"[0-9]*\"))       \n",
        "          digitos++;               \n",
        "        else      \n",
        "          especiales++;               \n",
        "      }\n",
        "\n",
        "      //SE OBTIENE UN FLUJO SALIENTE HACIA EL CLIENTE\n",
        "      DataOutputStream salida = new DataOutputStream(cs.getOutputStream());  \n",
        "\n",
        "      //ENVIO LOS DATOS     \n",
        "      salida.writeUTF(caracteresTotales+\"\");\n",
        "      salida.writeUTF(digitos+\"\");\n",
        "      salida.writeUTF(letras+\"\");\n",
        "      salida.writeUTF(especiales+\"\");   \n",
        "      \n",
        "      //FINALIZO LA CONEXION\n",
        "      ss.close();\n",
        "      cs.close();      \n",
        "    }\n",
        "    catch (Exception e)\n",
        "    {\n",
        "      System.out.println(e.getMessage());\n",
        "    }\n",
        "  }\n",
        "}"
      ],
      "metadata": {
        "colab": {
          "base_uri": "https://localhost:8080/"
        },
        "id": "SCuNkcfACwu_",
        "outputId": "63ea013e-d9b2-409d-fb4a-50f989c1a8d2"
      },
      "execution_count": 59,
      "outputs": [
        {
          "output_type": "stream",
          "name": "stdout",
          "text": [
            "Overwriting Servidor.java\n"
          ]
        }
      ]
    },
    {
      "cell_type": "code",
      "source": [
        "%%writefile Cliente.java\n",
        "import java.net.Socket;\n",
        "import java.io.DataOutputStream;\n",
        "import java.io.DataInputStream;\n",
        "import java.io.IOException;\n",
        "\n",
        "public class Cliente\n",
        "{      \n",
        "  //DEFINICION DE CONSTANTES \n",
        "  private static final int CANT_MAX_ARGS = 1;\n",
        "  private static final int PUERTO = 5000; //Puerto para la conexión\n",
        "  private static final String HOST = \"127.0.0.1\";\n",
        "\n",
        "  public static void main(String[] args) throws IOException\n",
        "  {        \n",
        "    //VERIFICO QUE SE HAYA ENVIADO UN ARGUMENTO PARA TRABAJAR\n",
        "    if( args.length != CANT_MAX_ARGS ) \n",
        "    {\n",
        "      System.out.println(\"Debe ingresar una y solo una cadena para poder trabajar.\"); \n",
        "      System.exit(1);\n",
        "    }  \n",
        "\n",
        "    //OBTENGO LA CADENA\n",
        "    String cadena = args[0];  \n",
        "    System.out.println(\"Cadena recibida: \" + cadena);   \n",
        "\n",
        "    //ENVIO LA CADENA AL SERVIDOR\n",
        "    try\n",
        "    {\n",
        "      //INICIALIZO EL SOCKET\n",
        "      Socket cs = new Socket(HOST, PUERTO); \n",
        "      \n",
        "      //SE OBTIENE UN FLUJO SALIENTE HACIA EL SERVIDOR\n",
        "      DataOutputStream salida = new DataOutputStream(cs.getOutputStream());      \n",
        "      \n",
        "      //ENVIO LA CADENA\n",
        "      salida.writeUTF(cadena);      \n",
        "\n",
        "      //SE OBTIENE UN FLUJO ENTRANTE DESDE EL SERVIDOR\n",
        "      DataInputStream entrada = new DataInputStream(cs.getInputStream());\n",
        "\n",
        "      //RECIBO LOS DATOS Y LOS IMPRIMO EN PANTALLA\n",
        "      System.out.println(\"Caracteres totales: \" + entrada.readUTF()); \n",
        "      System.out.println(\"Cantidad de digitos: \" + entrada.readUTF());\n",
        "      System.out.println(\"Cantidad de letras: \" + entrada.readUTF());\n",
        "      System.out.println(\"Cantidad de especiales: \" + entrada.readUTF());    \n",
        "      \n",
        "      //FINALIZO LA CONEXION\n",
        "      cs.close();\n",
        "      \n",
        "    }\n",
        "    catch (Exception e)\n",
        "    {\n",
        "      System.out.println(e.getMessage());\n",
        "    }    \n",
        "  }\n",
        "}"
      ],
      "metadata": {
        "colab": {
          "base_uri": "https://localhost:8080/"
        },
        "id": "flzWeaPbKx3O",
        "outputId": "cad1fb1e-37c0-4a25-a040-4277be2d8bcf"
      },
      "execution_count": 58,
      "outputs": [
        {
          "output_type": "stream",
          "name": "stdout",
          "text": [
            "Overwriting Cliente.java\n"
          ]
        }
      ]
    },
    {
      "cell_type": "code",
      "source": [
        "!nohup java Servidor.java 1>salida 2>/dev/null &"
      ],
      "metadata": {
        "id": "LJmPn_7bPuaF"
      },
      "execution_count": 60,
      "outputs": []
    },
    {
      "cell_type": "code",
      "source": [
        "!java Cliente.java nahuelrepetto1999@gmail.com"
      ],
      "metadata": {
        "colab": {
          "base_uri": "https://localhost:8080/"
        },
        "id": "KZPQrXwwPySO",
        "outputId": "51f94b11-eb74-4ea2-f4e4-15ec9ec91486"
      },
      "execution_count": 61,
      "outputs": [
        {
          "output_type": "stream",
          "name": "stdout",
          "text": [
            "Cadena recibida: nahuelrepetto1999@gmail.com\n",
            "Caracteres totales: 27\n",
            "Cantidad de digitos: 4\n",
            "Cantidad de letras: 21\n",
            "Cantidad de especiales: 2\n"
          ]
        }
      ]
    }
  ]
}