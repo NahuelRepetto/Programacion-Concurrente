{
  "nbformat": 4,
  "nbformat_minor": 0,
  "metadata": {
    "colab": {
      "provenance": [],
      "authorship_tag": "ABX9TyMgWcOTRkeLy43wf3u3AXJp",
      "include_colab_link": true
    },
    "kernelspec": {
      "name": "python3",
      "display_name": "Python 3"
    },
    "language_info": {
      "name": "python"
    }
  },
  "cells": [
    {
      "cell_type": "markdown",
      "metadata": {
        "id": "view-in-github",
        "colab_type": "text"
      },
      "source": [
        "<a href=\"https://colab.research.google.com/github/NahuelRepetto/Programacion-Concurrente/blob/main/TrabajoN1Parte2Python.ipynb\" target=\"_parent\"><img src=\"https://colab.research.google.com/assets/colab-badge.svg\" alt=\"Open In Colab\"/></a>"
      ]
    },
    {
      "cell_type": "code",
      "source": [
        "%%writefile Matrices.py\n",
        "import sys\n",
        "import random\n",
        "import numpy\n",
        "import threading\n",
        "\n",
        "MAX_DIMENSION = 20\n",
        "MIN_DIMENSION = 5\n",
        "MAX_VALOR = 32\n",
        "MIN_VALOR = -32\n",
        "\n",
        "def inicializarMatriz(dimension, min, max):\n",
        "  valores = []\n",
        "  for i in range(dimension*dimension):\n",
        "    valores.append(random.randint(min, max))\n",
        "  return numpy.array(valores).reshape(dimension,dimension)\n",
        "\n",
        "def calcularProducto(dimension, fila, matrizA, matrizB, matrizC):\n",
        "  for i in range(dimension):\n",
        "    for j in range(dimension):    \n",
        "      matrizC[fila][i] += matrizA[fila][j] * matrizB[j][i]       \n",
        "\n",
        "def mostrarMatriz(matriz, nombre):\n",
        "  print(\"\\nMatriz %s:\" %nombre)\n",
        "  print(matriz)\n",
        "\n",
        "def compararMatricesCuadradas(dimension, matrizA, matrizB):      \n",
        "  for i in range(dimension):\n",
        "    for j in range(dimension):    \n",
        "      if matrizA[i][j] != matrizB[i][j]:       \n",
        "        print(\"\\nLas matrices no son iguales, se encontro una diferencia en la posicion [%d][%d]:\" %(i,j))          \n",
        "        return               \n",
        "  print(\"\\nLas matrices son iguales !!!\") \n",
        "\n",
        "#VERIFICO QUE SE HAYA ENVIADO EL NUMERO DE FILAS/COLUMNAS\n",
        "if len(sys.argv) < 2: \n",
        "  sys.exit(\"Debe ingresar el numero de filas/columnas, dentro del rango de %i a %i.\" %(MIN_DIMENSION, MAX_DIMENSION))\n",
        "\n",
        "n = int(sys.argv[1]); #DIMENSIN DE LA MATRIZ \n",
        "\n",
        "#VERIFICO QUE SE HAYA ENVIADO EL NUMERO DENTRO DE LOS LIMITES ESTABLECIDOS\n",
        "if n < MIN_DIMENSION or n > MAX_DIMENSION:\n",
        "  sys.exit(\"El numero de filas/columnas debe estar dentro del rango de %i a %i.\" %(MIN_DIMENSION, MAX_DIMENSION)) \n",
        "\n",
        "#INICIALIZO LAS MATRICES, A Y B CON VALORES RANDOM, CS Y CH EN 0\n",
        "A = inicializarMatriz(n, MIN_VALOR, MAX_VALOR)\n",
        "B = inicializarMatriz(n, MIN_VALOR, MAX_VALOR)\n",
        "CS = inicializarMatriz(n, 0, 0)\n",
        "CH = inicializarMatriz(n, 0, 0)\n",
        "\n",
        "#CALCULO VALORES DE CS (SECUENCIAL)\n",
        "for i in range(n):\n",
        "  calcularProducto(n, i, A, B, CS)  \n",
        "\n",
        "#CALCULO VALORES DE CH (CON CONCURRENCIA)\n",
        "#CREO UN VECTOR PARA ALMACENAR LAS REFERENCIAS A LOS HILOS CREADOS\n",
        "hilos = []\n",
        "\n",
        "#CREO N HILOS\n",
        "for i in range(n):   \n",
        "  hilos.append(threading.Thread( target=calcularProducto, args=(n, i, A, B, CH,) ))                 \n",
        "\n",
        "#INICIO A LOS N HILOS\n",
        "for i in range(n):   \n",
        "  hilos[i].start() \n",
        "\n",
        "#ESPERO A LOS N HILOS \n",
        "for i in range(n): \n",
        "  hilos[i].join();\n",
        "\n",
        "#MUESTRO LOS RESULTADOS\n",
        "mostrarMatriz(A, \"A\");  \n",
        "mostrarMatriz(B, \"B\");  \n",
        "mostrarMatriz(CS, \"CS\");  \n",
        "mostrarMatriz(CH, \"CH\"); \n",
        "\n",
        "#COMPARO CS Y CH\n",
        "compararMatricesCuadradas(n, CS, CH);"
      ],
      "metadata": {
        "colab": {
          "base_uri": "https://localhost:8080/"
        },
        "id": "zNMMbgkInJM0",
        "outputId": "4ed81eb3-6a46-4caa-c4fb-06d687abd628"
      },
      "execution_count": 9,
      "outputs": [
        {
          "output_type": "stream",
          "name": "stdout",
          "text": [
            "Overwriting Matrices.py\n"
          ]
        }
      ]
    },
    {
      "cell_type": "code",
      "source": [
        "!python Matrices.py 5"
      ],
      "metadata": {
        "id": "kD0ho9DbGSmk",
        "colab": {
          "base_uri": "https://localhost:8080/"
        },
        "outputId": "ca435669-e501-48ab-ce72-7ec67f21c465"
      },
      "execution_count": 10,
      "outputs": [
        {
          "output_type": "stream",
          "name": "stdout",
          "text": [
            "\n",
            "Matriz A:\n",
            "[[-15 -11  32  31 -23]\n",
            " [  5  27  21 -17 -15]\n",
            " [-27 -21  -5  24 -16]\n",
            " [ 15   4 -12 -20   4]\n",
            " [ -3  15  25   7  -5]]\n",
            "\n",
            "Matriz B:\n",
            "[[ 20 -29 -18  10  30]\n",
            " [-15 -10 -22   8   4]\n",
            " [ -4  21 -32  20 -22]\n",
            " [  5 -18 -29 -26  -3]\n",
            " [-19  23 -32   1   0]]\n",
            "\n",
            "Matriz CS:\n",
            "[[  329   130  -675  -427 -1291]\n",
            " [ -189   -13  -383  1113  -153]\n",
            " [  219    88   924 -1178  -856]\n",
            " [  112  -275   478   466   790]\n",
            " [ -255   221 -1119   403  -601]]\n",
            "\n",
            "Matriz CH:\n",
            "[[  329   130  -675  -427 -1291]\n",
            " [ -189   -13  -383  1113  -153]\n",
            " [  219    88   924 -1178  -856]\n",
            " [  112  -275   478   466   790]\n",
            " [ -255   221 -1119   403  -601]]\n",
            "\n",
            "Las matrices son iguales !!!\n"
          ]
        }
      ]
    }
  ]
}