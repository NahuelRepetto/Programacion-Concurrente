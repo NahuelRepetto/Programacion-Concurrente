{
  "nbformat": 4,
  "nbformat_minor": 0,
  "metadata": {
    "colab": {
      "provenance": [],
      "authorship_tag": "ABX9TyMEIe7AmA9jO3hQbWj9H8jo",
      "include_colab_link": true
    },
    "kernelspec": {
      "name": "python3",
      "display_name": "Python 3"
    },
    "language_info": {
      "name": "python"
    }
  },
  "cells": [
    {
      "cell_type": "markdown",
      "metadata": {
        "id": "view-in-github",
        "colab_type": "text"
      },
      "source": [
        "<a href=\"https://colab.research.google.com/github/NahuelRepetto/Programacion-Concurrente/blob/main/TrabajoN1Parte2Python.ipynb\" target=\"_parent\"><img src=\"https://colab.research.google.com/assets/colab-badge.svg\" alt=\"Open In Colab\"/></a>"
      ]
    },
    {
      "cell_type": "code",
      "source": [
        "%%writefile Matrices.py\n",
        "import sys\n",
        "import random\n",
        "import numpy\n",
        "import threading\n",
        "\n",
        "MAX_DIMENSION = 20\n",
        "MIN_DIMENSION = 5\n",
        "MAX_VALOR = 32\n",
        "MIN_VALOR = -32\n",
        "\n",
        "def inicializarMatriz(dimension, min, max):\n",
        "  valores = []\n",
        "  for i in range(dimension*dimension):\n",
        "    valores.append(random.randint(min, max))\n",
        "  return numpy.array(valores).reshape(dimension,dimension)\n",
        "\n",
        "def calcularProducto(dimension, fila, matrizA, matrizB, matrizC):\n",
        "  for i in range(dimension):\n",
        "    for j in range(dimension):    \n",
        "      matrizC[fila][i] += matrizA[fila][j] * matrizB[j][i]       \n",
        "\n",
        "def mostrarMatriz(matriz, nombre):\n",
        "  print(\"\\nMatriz %s:\" %nombre)\n",
        "  print(matriz)\n",
        "\n",
        "def compararMatricesCuadradas(dimension, matrizA, matrizB):      \n",
        "  for i in range(dimension):\n",
        "    for j in range(dimension):    \n",
        "      if matrizA[i][j] != matrizB[i][j]:       \n",
        "        print(\"\\nLas matrices no son iguales, se encontro una diferencia en la posicion [%d][%d]\" %(i,j))          \n",
        "        return               \n",
        "  print(\"\\nLas matrices son iguales !!!\") \n",
        "\n",
        "#VERIFICO QUE SE HAYA ENVIADO EL NUMERO DE FILAS/COLUMNAS\n",
        "if len(sys.argv) < 2: \n",
        "  sys.exit(\"Debe ingresar el numero de filas/columnas, dentro del rango de %i a %i.\" %(MIN_DIMENSION, MAX_DIMENSION))\n",
        "\n",
        "n = int(sys.argv[1]); #DIMENSIN DE LA MATRIZ \n",
        "\n",
        "#VERIFICO QUE SE HAYA ENVIADO EL NUMERO DENTRO DE LOS LIMITES ESTABLECIDOS\n",
        "if n < MIN_DIMENSION or n > MAX_DIMENSION:\n",
        "  sys.exit(\"El numero de filas/columnas debe estar dentro del rango de %i a %i.\" %(MIN_DIMENSION, MAX_DIMENSION)) \n",
        "\n",
        "#INICIALIZO LAS MATRICES, A Y B CON VALORES RANDOM, CS Y CH EN 0\n",
        "A = inicializarMatriz(n, MIN_VALOR, MAX_VALOR)\n",
        "B = inicializarMatriz(n, MIN_VALOR, MAX_VALOR)\n",
        "CS = inicializarMatriz(n, 0, 0)\n",
        "CH = inicializarMatriz(n, 0, 0)\n",
        "\n",
        "#CALCULO VALORES DE CS (SECUENCIAL)\n",
        "for i in range(n):\n",
        "  calcularProducto(n, i, A, B, CS)  \n",
        "\n",
        "#CALCULO VALORES DE CH (CON CONCURRENCIA)\n",
        "#CREO UN VECTOR PARA ALMACENAR LAS REFERENCIAS A LOS HILOS CREADOS\n",
        "hilos = []\n",
        "\n",
        "#CREO N HILOS\n",
        "for i in range(n):   \n",
        "  hilos.append(threading.Thread( target=calcularProducto, args=(n, i, A, B, CH,) ))                 \n",
        "\n",
        "#INICIO A LOS N HILOS\n",
        "for i in range(n):   \n",
        "  hilos[i].start() \n",
        "\n",
        "#ESPERO A LOS N HILOS \n",
        "for i in range(n): \n",
        "  hilos[i].join();\n",
        "\n",
        "#MUESTRO LOS RESULTADOS\n",
        "mostrarMatriz(A, \"A\");  \n",
        "mostrarMatriz(B, \"B\");  \n",
        "mostrarMatriz(CS, \"CS\");  \n",
        "mostrarMatriz(CH, \"CH\"); \n",
        "\n",
        "#COMPARO CS Y CH\n",
        "compararMatricesCuadradas(n, CS, CH);"
      ],
      "metadata": {
        "colab": {
          "base_uri": "https://localhost:8080/"
        },
        "id": "zNMMbgkInJM0",
        "outputId": "c3447c25-43df-4765-974f-5fe5550797c0"
      },
      "execution_count": 14,
      "outputs": [
        {
          "output_type": "stream",
          "name": "stdout",
          "text": [
            "Overwriting Matrices.py\n"
          ]
        }
      ]
    },
    {
      "cell_type": "code",
      "source": [
        "!python Matrices.py 5"
      ],
      "metadata": {
        "id": "kD0ho9DbGSmk",
        "colab": {
          "base_uri": "https://localhost:8080/"
        },
        "outputId": "d582298d-c2f3-4a83-9448-891f03d4085f"
      },
      "execution_count": 15,
      "outputs": [
        {
          "output_type": "stream",
          "name": "stdout",
          "text": [
            "\n",
            "Matriz A:\n",
            "[[ 17 -24 -22  22 -30]\n",
            " [-22  10 -11 -12   5]\n",
            " [-15   5  25  27  29]\n",
            " [ 20  26  28   5  12]\n",
            " [  5  -1 -32  10  31]]\n",
            "\n",
            "Matriz B:\n",
            "[[ 28 -17  30 -12 -18]\n",
            " [ 23  32  25  -4  29]\n",
            " [-12  18  17 -23  17]\n",
            " [-30  -5 -14  22 -14]\n",
            " [ 17  22   3   6   2]]\n",
            "\n",
            "Matriz CS:\n",
            "[[ -982 -2223  -862   702 -1744]\n",
            " [  191   666  -414   243   677]\n",
            " [ -922  1368  -191   353   520]\n",
            " [  876  1235  1692  -806   824]\n",
            " [  728   -61  -466  1086  -741]]\n",
            "\n",
            "Matriz CH:\n",
            "[[ -982 -2223  -862   702 -1744]\n",
            " [  191   666  -414   243   677]\n",
            " [ -922  1368  -191   353   520]\n",
            " [  876  1235  1692  -806   824]\n",
            " [  728   -61  -466  1086  -741]]\n",
            "\n",
            "Las matrices son iguales !!!\n"
          ]
        }
      ]
    }
  ]
}