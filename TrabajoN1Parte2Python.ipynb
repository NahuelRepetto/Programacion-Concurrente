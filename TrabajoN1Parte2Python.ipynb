{
  "nbformat": 4,
  "nbformat_minor": 0,
  "metadata": {
    "colab": {
      "provenance": [],
      "authorship_tag": "ABX9TyNHVMzl3Ey7PiPXIjbZ2krV",
      "include_colab_link": true
    },
    "kernelspec": {
      "name": "python3",
      "display_name": "Python 3"
    },
    "language_info": {
      "name": "python"
    }
  },
  "cells": [
    {
      "cell_type": "markdown",
      "metadata": {
        "id": "view-in-github",
        "colab_type": "text"
      },
      "source": [
        "<a href=\"https://colab.research.google.com/github/NahuelRepetto/Programacion-Concurrente/blob/main/TrabajoN1Parte2Python.ipynb\" target=\"_parent\"><img src=\"https://colab.research.google.com/assets/colab-badge.svg\" alt=\"Open In Colab\"/></a>"
      ]
    },
    {
      "cell_type": "code",
      "source": [
        "%%writefile Matrices.py\n",
        "import sys\n",
        "import random\n",
        "import numpy\n",
        "import threading\n",
        "\n",
        "MAX_DIMENSION = 20\n",
        "MIN_DIMENSION = 5\n",
        "MAX_VALOR = 32\n",
        "MIN_VALOR = -32\n",
        "\n",
        "def inicializarMatriz(dimension, min, max):\n",
        "  valores = []\n",
        "  for i in range(dimension*dimension):\n",
        "    valores.append(random.randint(min, max))\n",
        "  return numpy.array(valores).reshape(dimension,dimension)\n",
        "\n",
        "def calcularProducto(dimension, fila, matrizA, matrizB, matrizC):\n",
        "  for i in range(dimension):\n",
        "    for j in range(dimension):    \n",
        "      matrizC[fila][i] += matrizA[fila][j] * matrizB[j][i]       \n",
        "\n",
        "def mostrarMatriz(matriz, nombre):\n",
        "  print(\"\\nMatriz %s:\" %nombre)\n",
        "  print(matriz)\n",
        "\n",
        "#VERIFICO QUE SE HAYA ENVIADO EL NUMERO DE FILAS/COLUMNAS\n",
        "if len(sys.argv) < 2: \n",
        "  sys.exit(\"Debe ingresar el numero de filas/columnas, dentro del rango de %i a %i.\" %(MIN_DIMENSION, MAX_DIMENSION))\n",
        "\n",
        "n = int(sys.argv[1]); #DIMENSIN DE LA MATRIZ \n",
        "\n",
        "#VERIFICO QUE SE HAYA ENVIADO EL NUMERO DENTRO DE LOS LIMITES ESTABLECIDOS\n",
        "if n < MIN_DIMENSION or n > MAX_DIMENSION:\n",
        "  sys.exit(\"El numero de filas/columnas debe estar dentro del rango de %i a %i.\" %(MIN_DIMENSION, MAX_DIMENSION)) \n",
        "\n",
        "#INICIALIZO LAS MATRICES, A Y B CON VALORES RANDOM, CS Y CH EN 0\n",
        "A = inicializarMatriz(n, MIN_VALOR, MAX_VALOR)\n",
        "B = inicializarMatriz(n, MIN_VALOR, MAX_VALOR)\n",
        "CS = inicializarMatriz(n, 0, 0)\n",
        "CH = inicializarMatriz(n, 0, 0)\n",
        "\n",
        "#CALCULO VALORES DE CS (SECUENCIAL)\n",
        "for i in range(n):\n",
        "  calcularProducto(n, i, A, B, CS)  \n",
        "\n",
        "#CALCULO VALORES DE CH (CON CONCURRENCIA)\n",
        "#CREO UN VECTOR PARA ALMACENAR LAS REFERENCIAS A LOS HILOS CREADOS\n",
        "hilos = []\n",
        "\n",
        "#CREO N HILOS\n",
        "for i in range(n):   \n",
        "  hilos.append(threading.Thread( target=calcularProducto, args=(n, i, A, B, CH,) ))                 \n",
        "\n",
        "#INICIO A LOS N HILOS\n",
        "for i in range(n):   \n",
        "  hilos[i].start() \n",
        "\n",
        "#ESPERO A LOS N HILOS \n",
        "for i in range(n): \n",
        "  hilos[i].join();\n",
        "\n",
        "#MUESTRO LOS RESULTADOS\n",
        "mostrarMatriz(A, \"A\");  \n",
        "mostrarMatriz(B, \"B\");  \n",
        "mostrarMatriz(CS, \"CS\");  \n",
        "mostrarMatriz(CH, \"CH\"); "
      ],
      "metadata": {
        "colab": {
          "base_uri": "https://localhost:8080/"
        },
        "id": "zNMMbgkInJM0",
        "outputId": "4d2c677e-d42f-4c36-d2de-b02a195766ee"
      },
      "execution_count": 122,
      "outputs": [
        {
          "output_type": "stream",
          "name": "stdout",
          "text": [
            "Overwriting Matrices.py\n"
          ]
        }
      ]
    },
    {
      "cell_type": "code",
      "source": [
        "!python Matrices.py 5"
      ],
      "metadata": {
        "id": "kD0ho9DbGSmk",
        "colab": {
          "base_uri": "https://localhost:8080/"
        },
        "outputId": "3c95025d-d39e-4ba7-d5a5-0bd951f4c93e"
      },
      "execution_count": 129,
      "outputs": [
        {
          "output_type": "stream",
          "name": "stdout",
          "text": [
            "\n",
            "Matriz A:\n",
            "[[-26 -29  -8  16  -8]\n",
            " [ 27  14 -27  -9   3]\n",
            " [ 31 -18  22  17 -31]\n",
            " [-11 -12 -23 -26  28]\n",
            " [  0  -3  30  -4 -16]]\n",
            "\n",
            "Matriz B:\n",
            "[[  1 -32 -21  10  20]\n",
            " [-13  19  25  30 -30]\n",
            " [-19  -5  26   8   3]\n",
            " [ -2  21  29  11  23]\n",
            " [-19   5 -21   6  30]]\n",
            "\n",
            "Matriz CS:\n",
            "[[  623   617   245 -1066   454]\n",
            " [  319  -637 -1243   393   -78]\n",
            " [  402 -1242   615   -53   687]\n",
            " [  102  -167 -2009  -772   313]\n",
            " [ -219  -371   925    10  -392]]\n",
            "\n",
            "Matriz CH:\n",
            "[[  623   617   245 -1066   454]\n",
            " [  319  -637 -1243   393   -78]\n",
            " [  402 -1242   615   -53   687]\n",
            " [  102  -167 -2009  -772   313]\n",
            " [ -219  -371   925    10  -392]]\n"
          ]
        }
      ]
    }
  ]
}