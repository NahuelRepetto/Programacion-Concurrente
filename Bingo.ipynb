{
  "nbformat": 4,
  "nbformat_minor": 0,
  "metadata": {
    "colab": {
      "provenance": [],
      "authorship_tag": "ABX9TyOywTCwEY5u7hJAOndKCBDY",
      "include_colab_link": true
    },
    "kernelspec": {
      "name": "python3",
      "display_name": "Python 3"
    },
    "language_info": {
      "name": "python"
    }
  },
  "cells": [
    {
      "cell_type": "markdown",
      "metadata": {
        "id": "view-in-github",
        "colab_type": "text"
      },
      "source": [
        "<a href=\"https://colab.research.google.com/github/NahuelRepetto/Programacion-Concurrente/blob/main/Bingo.ipynb\" target=\"_parent\"><img src=\"https://colab.research.google.com/assets/colab-badge.svg\" alt=\"Open In Colab\"/></a>"
      ]
    },
    {
      "cell_type": "markdown",
      "source": [
        "SERVIDOR"
      ],
      "metadata": {
        "id": "35pxw3-P7TUL"
      }
    },
    {
      "cell_type": "code",
      "execution_count": null,
      "metadata": {
        "colab": {
          "base_uri": "https://localhost:8080/"
        },
        "id": "3eOtIYzt6mWA",
        "outputId": "c9c8b419-4521-4be6-e6b2-be4e6ddf1c3e"
      },
      "outputs": [
        {
          "output_type": "stream",
          "name": "stdout",
          "text": [
            "Overwriting Servidor.py\n"
          ]
        }
      ],
      "source": [
        "%%writefile Servidor.py\n",
        "import random\n",
        "import sys\n",
        "import multiprocessing.shared_memory\n",
        "import time\n",
        "import threading\n",
        "import socket\n",
        "import os\n",
        "\n",
        "nuevoNumero = None\n",
        "producir = True\n",
        "maximos_jugadores = 5\n",
        "\n",
        "# Objeto Condition para sincronizar la producción y el consumo\n",
        "condicion = threading.Condition()\n",
        "\n",
        "# Para compartir los numeros salientes uso MEMORIA COMPARTIDA\n",
        "mc = multiprocessing.shared_memory.SharedMemory(name=\"mi_mem\", create=True, size=2)\n",
        "mc.buf[0]= 0\n",
        "mc.buf[1]= 0\n",
        "\n",
        "# Función que produce números\n",
        "def productor():\n",
        "  global nuevoNumero\n",
        "  global producir\n",
        "  numeros = list(range(1, 91))   \n",
        "  \n",
        "  while producir:\n",
        "    with condicion:\n",
        "      # Esperar si hay un número disponible\n",
        "      while nuevoNumero is not None:\n",
        "        condicion.wait()    \n",
        "\n",
        "      nuevoNumero = random.sample(numeros, 1)      \n",
        "      numeros.remove(nuevoNumero[0])      \n",
        "      \n",
        "      if not numeros:      \n",
        "        producir = False\n",
        "            \n",
        "      # Notificar al consumidor que hay un número disponible\n",
        "      condicion.notify()\n",
        "\n",
        "# Función que consume números\n",
        "def consumidor():\n",
        "  global nuevoNumero\n",
        "  global mc  \n",
        "  global cola_mensajes\n",
        "  global producir\n",
        "  global maximos_jugadores\n",
        "  consumir = True\n",
        "  bola = 1  \n",
        "    \n",
        "  # Para confirmar la recepcion de los datos por parte de los jugadores uso FIFO\n",
        "  fifo_path = \"./fifo\"\n",
        "\n",
        "  # Crear el FIFO si no existe\n",
        "  if not os.path.exists(fifo_path):\n",
        "    os.mkfifo(fifo_path, 0o600)\n",
        "\n",
        "  # Abrir el FIFO en modo lectura\n",
        "  fifo = os.open(fifo_path, os.O_RDONLY)\n",
        "  \n",
        "  while consumir:\n",
        "    with condicion:\n",
        "    # Esperar si no hay un número disponible\n",
        "      while nuevoNumero is None:\n",
        "        condicion.wait()         \n",
        "             \n",
        "      print(\"Bola numero %i: %i\" %(bola, nuevoNumero[0])) \n",
        "      bola += 1  \n",
        "      mc.buf[0] = nuevoNumero[0]  \n",
        "              \n",
        "      # Espero la recepcion de todos los jugadores\n",
        "      recibidos = 0     \n",
        "      \n",
        "      while recibidos < maximos_jugadores:   \n",
        "        mensaje = os.read(fifo, 1).decode()\n",
        "        if mensaje == \"\":\n",
        "          pass\n",
        "        else:   \n",
        "          recibidos += 1   \n",
        "          \n",
        "      time.sleep(0.5)\n",
        "  \n",
        "      nuevoNumero = None\n",
        "\n",
        "      if not producir:\n",
        "        consumir = False  \n",
        "\n",
        "      if mc.buf[1] == 1:\n",
        "        print(\"\\nYa hay un ganador.\")  \n",
        "        consumir = False\n",
        "        producir = False   \n",
        "          \n",
        "      # Notificar al productor que el número ha sido consumido\n",
        "      condicion.notify()      \n",
        "\n",
        "  mc.close()   \n",
        "  os.close(fifo)  \n",
        "  os.unlink(fifo_path)\n",
        "\n",
        "#INICIO DEL MAIN\n",
        "# Esperar a que se conecten los jugadores, uso sockets para notificar su conexion\n",
        "jugadores_actuales = 0\n",
        "\n",
        "# Crear un socket\n",
        "ss = socket.socket()\n",
        "ss.bind((\"127.0.0.1\", 2209))\n",
        "\n",
        "# Escuchar conexiones entrantes\n",
        "ss.listen(maximos_jugadores)\n",
        "\n",
        "# Esperar a los jugadores\n",
        "while jugadores_actuales < maximos_jugadores:\n",
        "  # Aceptar una conexión entrante\n",
        "  (cs, dir) = ss.accept()  \n",
        "\n",
        "  # Incrementar el contador de conexiones\n",
        "  jugadores_actuales += 1\n",
        "  print(\"Se conceto el cliente numero: \", jugadores_actuales)\n",
        "\n",
        "  # Enviar mensaje al Cliente\n",
        "  mensaje = str(jugadores_actuales)\n",
        "  cs.send(mensaje.encode())\n",
        "  \n",
        "# Cerrar el socket del servidor\n",
        "cs.close()\n",
        "ss.close()\n",
        "\n",
        "print(\"\\nInicia el bolillero:\")\n",
        "\n",
        "# Crear los hilos\n",
        "hilo_productor = threading.Thread(target=productor)\n",
        "hilo_consumidor = threading.Thread(target=consumidor)\n",
        "\n",
        "# Iniciar los hilos\n",
        "hilo_productor.start()\n",
        "hilo_consumidor.start()\n",
        "\n",
        "# Esperar a que ambos hilos terminen\n",
        "hilo_productor.join()\n",
        "hilo_consumidor.join()\n",
        "\n",
        "mc.unlink()"
      ]
    },
    {
      "cell_type": "markdown",
      "source": [
        "JUGADOR"
      ],
      "metadata": {
        "id": "ly9BEGHE7XXK"
      }
    },
    {
      "cell_type": "code",
      "source": [
        "%%writefile Jugador.py\n",
        "import random\n",
        "import sys\n",
        "import multiprocessing.shared_memory\n",
        "from multiprocessing.resource_tracker import unregister\n",
        "import socket\n",
        "import time\n",
        "import os\n",
        "\n",
        "def crear_carton():\n",
        "  # Inicializar el cartón vacío\n",
        "  carton = [[0,0,0,0,0,0,0,0,0],[0,0,0,0,0,0,0,0,0],[0,0,0,0,0,0,0,0,0]]\n",
        "  \n",
        "  # Elegir 3 números aleatorios para cada columna del cartón\n",
        "  for columna in range(9):\n",
        "    if columna == 0:\n",
        "      # Primer columna, números del 1 al 9\n",
        "      numeros = list(range(1, 10))          \n",
        "    elif columna == 8:       \n",
        "      # Siguientes columnas, números del 80 al 90\n",
        "      numeros = list(range(80, 91))\n",
        "    else:\n",
        "      # Resto de columnas, números del (columna * 10) al (columna * 10 + 9)\n",
        "      numeros = list(range(columna * 10, columna * 10 + 10))\n",
        "    \n",
        "    seleccion = random.sample(numeros, 3)  \n",
        "    for i in range(3):\n",
        "      carton[i][columna] = min(seleccion)\n",
        "      seleccion.remove(min(seleccion)) \n",
        "\n",
        "  # Dejar solo 15 valores (elimino 4 por fila)   \n",
        "  for i in range(3):    \n",
        "    numeros = list(range(0, 9))\n",
        "    descarte = random.sample(numeros, 4)  \n",
        "    for num in descarte:\n",
        "      carton[i][num] = 0                 \n",
        "  return carton\n",
        "\n",
        "def imprimir_carton(carton):\n",
        "  print(\"Cartón de Bingo:\")\n",
        "  for fila in carton:\n",
        "    print(fila)\n",
        "\n",
        "#INICIO DEL MAIN\n",
        "# conectarse al servidor, uso de sockets\n",
        "cs = socket.socket()\n",
        "cs.connect((\"127.0.0.1\", 2209))\n",
        "\n",
        "# Recibir mensaje del Servidor\n",
        "mensaje = cs.recv(1024)\n",
        "jugador = mensaje.decode()\n",
        "print(\"Bienvenido, eres el jugador numero \", jugador)\n",
        "print(\"\")\n",
        "\n",
        "# Cerrar el socket del cliente\n",
        "cs.close()\n",
        "\n",
        "# Crear un cartón de bingo\n",
        "carton = crear_carton()\n",
        "\n",
        "# Imprimir el cartón\n",
        "imprimir_carton(carton)\n",
        "\n",
        "# Paso valores a una lista\n",
        "lista_numeros = [i for fila in carton for i in fila]\n",
        "\n",
        "# Elimino los ceros de la lista\n",
        "valor = 0\n",
        "while valor in lista_numeros:\n",
        "    lista_numeros.remove(valor)\n",
        "\n",
        "# Ver numeros que van saliendo, uso memoria compartida\n",
        "mc = multiprocessing.shared_memory.SharedMemory(name=\"mi_mem\")\n",
        "unregister(mc._name, \"shared_memory\")\n",
        "\n",
        "# Abro el fifo para confirmar recepcion de valores\n",
        "fifo_path = \"./fifo\"\n",
        "\n",
        "# Crear el FIFO si no existe\n",
        "if not os.path.exists(fifo_path):\n",
        "  os.mkfifo(fifo_path, 0o600)\n",
        "\n",
        "# Abrir el FIFO en modo escritura\n",
        "fifo = os.open(fifo_path, os.O_WRONLY)\n",
        "\n",
        "mensaje = str(jugador)\n",
        "\n",
        "numero = 0\n",
        "bola = 1\n",
        "consumir = True\n",
        "\n",
        "print(\"\\nEsperando a los demas jugadores.\", end=\"\")\n",
        "\n",
        "while (mc.buf[0] == 0):\n",
        "  pass\n",
        "\n",
        "print(\"\\nEstamos listo!!!\\n\\nSalio:\")\n",
        "\n",
        "while consumir:\n",
        "  if mc.buf[1] == 1:\n",
        "    print(\"\\nFin del juego.\")  \n",
        "    print(\"Lo sentimos, ya hay un ganador.\")      \n",
        "    consumir = False\n",
        "  else:\n",
        "    nuevoNumero = mc.buf[0]  \n",
        "    if nuevoNumero != numero:    \n",
        "      numero = nuevoNumero\n",
        "      print(\"Bola numero %i: %i\" %(bola, numero))\n",
        "      os.write(fifo, mensaje.encode()) # Notificar recepcion        \n",
        "      bola += 1       \n",
        "      if numero in lista_numeros:\n",
        "        lista_numeros.remove(numero)    \n",
        "      if not lista_numeros:\n",
        "        print(\"\\nFelicitaciones, ha ganado !!!\")\n",
        "        mc.buf[1] = 1\n",
        "        consumir = False   \n",
        "\n",
        "# Cierro la mc y fifo\n",
        "mc.close()\n",
        "os.close(fifo)"
      ],
      "metadata": {
        "colab": {
          "base_uri": "https://localhost:8080/"
        },
        "id": "cU8IF0ia7ZTa",
        "outputId": "d84cbfe5-9b7c-498a-8cfe-299dc29a267a"
      },
      "execution_count": null,
      "outputs": [
        {
          "output_type": "stream",
          "name": "stdout",
          "text": [
            "Overwriting Jugador.py\n"
          ]
        }
      ]
    },
    {
      "cell_type": "markdown",
      "source": [
        "EJECUTAR (inicia al conectarse 5 jugadores)"
      ],
      "metadata": {
        "id": "_SYJFCYj7bHS"
      }
    },
    {
      "cell_type": "code",
      "source": [
        "!nohup python Servidor.py 1>Servidor 2>errorSv &"
      ],
      "metadata": {
        "id": "1HLNfne17ara"
      },
      "execution_count": null,
      "outputs": []
    },
    {
      "cell_type": "code",
      "source": [
        "!nohup python Jugador.py 1>Jugador1 2>/dev/null &"
      ],
      "metadata": {
        "id": "zCKOFWWC7d_S"
      },
      "execution_count": null,
      "outputs": []
    },
    {
      "cell_type": "code",
      "source": [
        "!nohup python Jugador.py 1>Jugador2 2>/dev/null &"
      ],
      "metadata": {
        "id": "nWZtr4pg7ejy"
      },
      "execution_count": null,
      "outputs": []
    },
    {
      "cell_type": "code",
      "source": [
        "!nohup python Jugador.py 1>Jugador3 2>/dev/null &"
      ],
      "metadata": {
        "id": "jzNgC8A07e4K"
      },
      "execution_count": null,
      "outputs": []
    },
    {
      "cell_type": "code",
      "source": [
        "!nohup python Jugador.py 1>Jugador4 2>/dev/null &"
      ],
      "metadata": {
        "id": "qG393JYx7fK6"
      },
      "execution_count": null,
      "outputs": []
    },
    {
      "cell_type": "code",
      "source": [
        "! python Jugador.py "
      ],
      "metadata": {
        "colab": {
          "base_uri": "https://localhost:8080/"
        },
        "id": "BWs6qAoo7md6",
        "outputId": "204837f5-3325-4694-c793-d287671382e2"
      },
      "execution_count": null,
      "outputs": [
        {
          "output_type": "stream",
          "name": "stdout",
          "text": [
            "Bienvenido, eres el jugador numero  5\n",
            "\n",
            "Cartón de Bingo:\n",
            "[2, 10, 22, 0, 40, 53, 0, 0, 0]\n",
            "[7, 16, 0, 0, 0, 54, 0, 74, 87]\n",
            "[0, 0, 0, 39, 0, 58, 68, 79, 89]\n",
            "\n",
            "Esperando a los demas jugadores.\n",
            "Estamos listo!!!\n",
            "\n",
            "Salio:\n",
            "Bola numero 1: 75\n",
            "Bola numero 2: 23\n",
            "Bola numero 3: 41\n",
            "Bola numero 4: 13\n",
            "Bola numero 5: 69\n",
            "Bola numero 6: 34\n",
            "Bola numero 7: 15\n",
            "Bola numero 8: 5\n",
            "Bola numero 9: 9\n",
            "Bola numero 10: 59\n",
            "Bola numero 11: 83\n",
            "Bola numero 12: 54\n",
            "Bola numero 13: 27\n",
            "Bola numero 14: 28\n",
            "Bola numero 15: 51\n",
            "Bola numero 16: 86\n",
            "Bola numero 17: 35\n",
            "Bola numero 18: 14\n",
            "Bola numero 19: 24\n",
            "Bola numero 20: 77\n",
            "Bola numero 21: 78\n",
            "Bola numero 22: 10\n",
            "Bola numero 23: 84\n",
            "Bola numero 24: 72\n",
            "Bola numero 25: 1\n",
            "Bola numero 26: 82\n",
            "Bola numero 27: 8\n",
            "Bola numero 28: 70\n",
            "Bola numero 29: 55\n",
            "Bola numero 30: 60\n",
            "Bola numero 31: 68\n",
            "Bola numero 32: 37\n",
            "Bola numero 33: 29\n",
            "Bola numero 34: 64\n",
            "Bola numero 35: 45\n",
            "Bola numero 36: 18\n",
            "Bola numero 37: 50\n",
            "Bola numero 38: 25\n",
            "Bola numero 39: 79\n",
            "Bola numero 40: 30\n",
            "Bola numero 41: 53\n",
            "Bola numero 42: 48\n",
            "Bola numero 43: 43\n",
            "Bola numero 44: 80\n",
            "Bola numero 45: 36\n",
            "Bola numero 46: 65\n",
            "Bola numero 47: 12\n",
            "Bola numero 48: 66\n",
            "Bola numero 49: 88\n",
            "Bola numero 50: 40\n",
            "Bola numero 51: 76\n",
            "Bola numero 52: 57\n",
            "Bola numero 53: 4\n",
            "Bola numero 54: 90\n",
            "Bola numero 55: 17\n",
            "Bola numero 56: 31\n",
            "Bola numero 57: 85\n",
            "Bola numero 58: 62\n",
            "Bola numero 59: 46\n",
            "Bola numero 60: 52\n",
            "Bola numero 61: 32\n",
            "Bola numero 62: 67\n",
            "Bola numero 63: 87\n",
            "Bola numero 64: 2\n",
            "Bola numero 65: 16\n",
            "Bola numero 66: 63\n",
            "Bola numero 67: 81\n",
            "Bola numero 68: 26\n",
            "Bola numero 69: 33\n",
            "Bola numero 70: 44\n",
            "Bola numero 71: 56\n",
            "Bola numero 72: 58\n",
            "Bola numero 73: 49\n",
            "\n",
            "Fin del juego.\n",
            "Lo sentimos, ya hay un ganador.\n"
          ]
        }
      ]
    },
    {
      "cell_type": "markdown",
      "source": [
        "EMERGENCIA PARA CUANDO ALGO SE CERRO MAL"
      ],
      "metadata": {
        "id": "6Iqv4Lfz7oB6"
      }
    },
    {
      "cell_type": "code",
      "source": [
        "import random\n",
        "import sys\n",
        "import multiprocessing.shared_memory\n",
        "import time\n",
        "\n",
        "mc = multiprocessing.shared_memory.SharedMemory(name=\"mi_mem\")\n",
        "mc.close()\n",
        "mc.unlink()"
      ],
      "metadata": {
        "id": "kcsxRE0i7pOi"
      },
      "execution_count": null,
      "outputs": []
    },
    {
      "cell_type": "code",
      "source": [
        "import os\n",
        "fifo_path = \"./fifo\"\n",
        "os.unlink(fifo_path)"
      ],
      "metadata": {
        "id": "m4-FzFgM7qq6"
      },
      "execution_count": null,
      "outputs": []
    }
  ]
}