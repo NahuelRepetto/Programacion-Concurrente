{
  "nbformat": 4,
  "nbformat_minor": 0,
  "metadata": {
    "colab": {
      "provenance": [],
      "authorship_tag": "ABX9TyOrQkY/RNQ48uJZxp95qukj",
      "include_colab_link": true
    },
    "kernelspec": {
      "name": "python3",
      "display_name": "Python 3"
    },
    "language_info": {
      "name": "python"
    }
  },
  "cells": [
    {
      "cell_type": "markdown",
      "metadata": {
        "id": "view-in-github",
        "colab_type": "text"
      },
      "source": [
        "<a href=\"https://colab.research.google.com/github/NahuelRepetto/Programacion-Concurrente/blob/main/TrabajoN1Parte4Java.ipynb\" target=\"_parent\"><img src=\"https://colab.research.google.com/assets/colab-badge.svg\" alt=\"Open In Colab\"/></a>"
      ]
    },
    {
      "cell_type": "markdown",
      "source": [
        "Version sin semaforos"
      ],
      "metadata": {
        "id": "a_BbJVhEaA_t"
      }
    },
    {
      "cell_type": "code",
      "execution_count": 2,
      "metadata": {
        "colab": {
          "base_uri": "https://localhost:8080/"
        },
        "id": "SAex0TZm9Ers",
        "outputId": "c01112ba-20f6-4c50-e593-3976ac758a27"
      },
      "outputs": [
        {
          "output_type": "stream",
          "name": "stdout",
          "text": [
            "Overwriting ProductorConsumidor.java\n"
          ]
        }
      ],
      "source": [
        "%%writefile ProductorConsumidor.java\n",
        "public class ProductorConsumidor \n",
        "{  \n",
        "  static int variableCompartido = -1;   // Valor negativo para saber si el productor puede introducir un nuevo valor   \n",
        "  static int cantMaxima = 10;\n",
        " \n",
        "  public static class Productor extends Thread\n",
        "  {    \n",
        "    int producidos = 0;    \n",
        "    \n",
        "    public Productor()\n",
        "    {\n",
        "      super();     \n",
        "    }\n",
        "\n",
        "    public void run()\n",
        "    {      \n",
        "      while (producidos < cantMaxima) \n",
        "      {\n",
        "        while (variableCompartido != -1) \n",
        "        {\n",
        "          currentThread().yield(); // Esperar a que el consumidor lea\n",
        "        }\n",
        "        variableCompartido = (int) (Math.random() * 100);        \n",
        "        producidos++;\n",
        "        System.out.println(\"Se produjo: \" + variableCompartido);\n",
        "      }     \n",
        "    }\n",
        "  }\n",
        " \n",
        "  public static class Consumidor extends Thread\n",
        "  {    \n",
        "    int consumidos = 0;   \n",
        "    \n",
        "    public Consumidor()\n",
        "    {\n",
        "      super();     \n",
        "    }\n",
        "\n",
        "    public void run()\n",
        "    {      \n",
        "      while (consumidos < 10) \n",
        "      {\n",
        "        while (variableCompartido == -1) \n",
        "        {\n",
        "          currentThread().yield(); // Esperar a que el productor escriba\n",
        "        }\n",
        "        System.out.println(\"Consumidor consumió: \" + variableCompartido);        \n",
        "        variableCompartido = -1;\n",
        "        consumidos++;        \n",
        "      }     \n",
        "    }\n",
        "  }   \n",
        "   \n",
        "  public static void main(String[] args) \n",
        "  {\n",
        "    //CREO AL PRODUCTOR Y CONSUMIDOR\n",
        "    Productor productor = new Productor (); \n",
        "    Consumidor consumidor = new Consumidor(); \n",
        "\n",
        "    //LOS INICIO\n",
        "    productor.start();\n",
        "    consumidor.start();\n",
        "   \n",
        "    //ESPERO A QUE FINALICEN    \n",
        "    try \n",
        "    {\n",
        "      productor.join();\n",
        "      consumidor.join(); \n",
        "    } \n",
        "    catch (InterruptedException e) \n",
        "    {\n",
        "      e.printStackTrace();\n",
        "    }          \n",
        "  }\n",
        "}"
      ]
    },
    {
      "cell_type": "markdown",
      "source": [
        "version con semaforos"
      ],
      "metadata": {
        "id": "XBChphhMaGB1"
      }
    },
    {
      "cell_type": "code",
      "source": [
        "%%writefile ProductorConsumidorSemaforos.java\n",
        "import java.util.concurrent.Semaphore;\n",
        "\n",
        "public class ProductorConsumidor \n",
        "{  \n",
        "  static int variableCompartido;\n",
        "  static int cantMaxima = 10;\n",
        "\tstatic Semaphore mtxA = new Semaphore(1);\n",
        "  static Semaphore mtxB = new Semaphore(0);\n",
        " \n",
        "  public static class Productor extends Thread\n",
        "  {    \n",
        "    int producidos = 0;    \n",
        "    \n",
        "    public Productor()\n",
        "    {\n",
        "      super();     \n",
        "    }\n",
        "\n",
        "    public void run()\n",
        "    {      \n",
        "      while (producidos < cantMaxima) \n",
        "      {\n",
        "        try\n",
        "\t\t\t  {\n",
        "\t\t\t\t  mtxA.acquire();\n",
        "\t\t\t\t  variableCompartido = (int) (Math.random() * 100);        \n",
        "          producidos++;\n",
        "          System.out.println(\"Se produjo: \" + variableCompartido);\n",
        "\t\t\t\t  mtxB.release();\n",
        "\t\t\t  }\n",
        "\t\t\t  catch(Exception e)\n",
        "\t\t\t  {\t\t\t\t\n",
        "          System.out.println(e.getMessage());\n",
        "\t\t\t  }        \n",
        "      }     \n",
        "    }\n",
        "  }\n",
        " \n",
        "  public static class Consumidor extends Thread\n",
        "  {    \n",
        "    int consumidos = 0;   \n",
        "    \n",
        "    public Consumidor()\n",
        "    {\n",
        "      super();     \n",
        "    }\n",
        "\n",
        "    public void run()\n",
        "    {      \n",
        "      while (consumidos < 10) \n",
        "      {\n",
        "        try\n",
        "\t\t\t  {\n",
        "\t\t\t\t  mtxB.acquire();\n",
        "\t\t\t\t  System.out.println(\"Consumidor consumió: \" + variableCompartido);        \n",
        "          variableCompartido = -1;\n",
        "          consumidos++; \n",
        "\t\t\t\t  mtxA.release();\n",
        "\t\t\t  }\n",
        "\t\t\t  catch(Exception e)\n",
        "\t\t\t  {\t\t\t\t\n",
        "          System.out.println(e.getMessage());\n",
        "\t\t\t  }        \n",
        "      }     \n",
        "    }\n",
        "  }   \n",
        "   \n",
        "  public static void main(String[] args) \n",
        "  {\n",
        "    //CREO AL PRODUCTOR Y CONSUMIDOR\n",
        "    Productor productor = new Productor (); \n",
        "    Consumidor consumidor = new Consumidor(); \n",
        "\n",
        "    //LOS INICIO\n",
        "    productor.start();\n",
        "    consumidor.start();\n",
        "   \n",
        "    //ESPERO A QUE FINALICEN    \n",
        "    try \n",
        "    {\n",
        "      productor.join();\n",
        "      consumidor.join(); \n",
        "    } \n",
        "    catch (InterruptedException e) \n",
        "    {\n",
        "      e.printStackTrace();\n",
        "    }          \n",
        "  }\n",
        "}"
      ],
      "metadata": {
        "colab": {
          "base_uri": "https://localhost:8080/"
        },
        "id": "8N-xkqoKZ_1N",
        "outputId": "b17379a2-c652-4f52-c785-0ff26d97534d"
      },
      "execution_count": 6,
      "outputs": [
        {
          "output_type": "stream",
          "name": "stdout",
          "text": [
            "Overwriting ProductorConsumidorSemaforos.java\n"
          ]
        }
      ]
    },
    {
      "cell_type": "code",
      "source": [
        "!java ProductorConsumidor.java"
      ],
      "metadata": {
        "colab": {
          "base_uri": "https://localhost:8080/"
        },
        "id": "ZxdYpGmUFYhc",
        "outputId": "092f5f1c-bcf7-4b2f-e5e0-326176a701a4"
      },
      "execution_count": 4,
      "outputs": [
        {
          "output_type": "stream",
          "name": "stdout",
          "text": [
            "Consumidor consumió: 58\n",
            "Se produjo: 58\n",
            "Se produjo: 89\n",
            "Consumidor consumió: 89\n",
            "Se produjo: 70\n",
            "Consumidor consumió: 70\n",
            "Se produjo: 4\n",
            "Consumidor consumió: 4\n",
            "Se produjo: 53\n",
            "Consumidor consumió: 53\n",
            "Se produjo: 72\n",
            "Consumidor consumió: 72\n",
            "Se produjo: 1\n",
            "Consumidor consumió: 1\n",
            "Consumidor consumió: 40\n",
            "Se produjo: 40\n",
            "Se produjo: 59\n",
            "Consumidor consumió: 59\n",
            "Consumidor consumió: 73\n",
            "Se produjo: 73\n"
          ]
        }
      ]
    },
    {
      "cell_type": "code",
      "source": [
        "!java ProductorConsumidorSemaforos.java"
      ],
      "metadata": {
        "colab": {
          "base_uri": "https://localhost:8080/"
        },
        "id": "md5v2z2FbdPN",
        "outputId": "a20dc98e-d2a4-4570-acdf-ba27160a25c9"
      },
      "execution_count": 5,
      "outputs": [
        {
          "output_type": "stream",
          "name": "stdout",
          "text": [
            "Se produjo: 54\n",
            "Consumidor consumió: 54\n",
            "Se produjo: 57\n",
            "Consumidor consumió: 57\n",
            "Se produjo: 58\n",
            "Consumidor consumió: 58\n",
            "Se produjo: 84\n",
            "Consumidor consumió: 84\n",
            "Se produjo: 61\n",
            "Consumidor consumió: 61\n",
            "Se produjo: 89\n",
            "Consumidor consumió: 89\n",
            "Se produjo: 19\n",
            "Consumidor consumió: 19\n",
            "Se produjo: 55\n",
            "Consumidor consumió: 55\n",
            "Se produjo: 64\n",
            "Consumidor consumió: 64\n",
            "Se produjo: 47\n",
            "Consumidor consumió: 47\n"
          ]
        }
      ]
    }
  ]
}