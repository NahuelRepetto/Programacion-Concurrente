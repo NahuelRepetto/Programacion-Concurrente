{
  "nbformat": 4,
  "nbformat_minor": 0,
  "metadata": {
    "colab": {
      "provenance": [],
      "authorship_tag": "ABX9TyN6R+pF7hfkuJ8e2B06snAe",
      "include_colab_link": true
    },
    "kernelspec": {
      "name": "python3",
      "display_name": "Python 3"
    },
    "language_info": {
      "name": "python"
    }
  },
  "cells": [
    {
      "cell_type": "markdown",
      "metadata": {
        "id": "view-in-github",
        "colab_type": "text"
      },
      "source": [
        "<a href=\"https://colab.research.google.com/github/NahuelRepetto/Programacion-Concurrente/blob/main/TrabajoN1Parte4Java.ipynb\" target=\"_parent\"><img src=\"https://colab.research.google.com/assets/colab-badge.svg\" alt=\"Open In Colab\"/></a>"
      ]
    },
    {
      "cell_type": "code",
      "execution_count": 9,
      "metadata": {
        "colab": {
          "base_uri": "https://localhost:8080/"
        },
        "id": "SAex0TZm9Ers",
        "outputId": "957698a7-295f-4999-8804-ea6e84a4b359"
      },
      "outputs": [
        {
          "output_type": "stream",
          "name": "stdout",
          "text": [
            "Overwriting ProductorConsumidor.java\n"
          ]
        }
      ],
      "source": [
        "%%writefile ProductorConsumidor.java\n",
        "public class ProductorConsumidor \n",
        "{  \n",
        "  static int variableCompartido = -1;   // Valor negativo para saber si el productor puede introducir un nuevo valor   \n",
        "  static int cantMaxima = 10;\n",
        " \n",
        "  public static class Productor extends Thread\n",
        "  {    \n",
        "    int producidos = 0;    \n",
        "    \n",
        "    public Productor()\n",
        "    {\n",
        "      super();     \n",
        "    }\n",
        "\n",
        "    public void run()\n",
        "    {      \n",
        "      while (producidos < cantMaxima) \n",
        "      {\n",
        "        while (variableCompartido != -1) \n",
        "        {\n",
        "          currentThread().yield(); // Esperar a que el consumidor lea\n",
        "        }\n",
        "        variableCompartido = (int) (Math.random() * 100);        \n",
        "        producidos++;\n",
        "        System.out.println(\"Se produjo: \" + variableCompartido);\n",
        "      }     \n",
        "    }\n",
        "  }\n",
        " \n",
        "  public static class Consumidor extends Thread\n",
        "  {    \n",
        "    int consumidos = 0;   \n",
        "    \n",
        "    public Consumidor()\n",
        "    {\n",
        "      super();     \n",
        "    }\n",
        "\n",
        "    public void run()\n",
        "    {      \n",
        "      while (consumidos < 10) \n",
        "      {\n",
        "        while (variableCompartido == -1) \n",
        "        {\n",
        "          currentThread().yield(); // Esperar a que el productor escriba\n",
        "        }\n",
        "        System.out.println(\"Consumidor consumió: \" + variableCompartido);        \n",
        "        variableCompartido = -1;\n",
        "        consumidos++;        \n",
        "      }     \n",
        "    }\n",
        "  }   \n",
        "   \n",
        "  public static void main(String[] args) \n",
        "  {\n",
        "    //CREO AL PRODUCTOR Y CONSUMIDOR\n",
        "    Productor productor = new Productor (); \n",
        "    Consumidor consumidor = new Consumidor(); \n",
        "\n",
        "    //LOS INICIO\n",
        "    productor.start();\n",
        "    consumidor.start();\n",
        "   \n",
        "    //ESPERO A QUE FINALICEN    \n",
        "    try \n",
        "    {\n",
        "      productor.join();\n",
        "      consumidor.join(); \n",
        "    } \n",
        "    catch (InterruptedException e) \n",
        "    {\n",
        "      e.printStackTrace();\n",
        "    }          \n",
        "  }\n",
        "}"
      ]
    },
    {
      "cell_type": "code",
      "source": [
        "!java ProductorConsumidor.java"
      ],
      "metadata": {
        "colab": {
          "base_uri": "https://localhost:8080/"
        },
        "id": "ZxdYpGmUFYhc",
        "outputId": "38cfcadf-5034-47b9-8b6e-f0291d0381a9"
      },
      "execution_count": 10,
      "outputs": [
        {
          "output_type": "stream",
          "name": "stdout",
          "text": [
            "Se produjo: 76\n",
            "Consumidor consumió: 76\n",
            "Consumidor consumió: 57\n",
            "Se produjo: 57\n",
            "Se produjo: 23\n",
            "Consumidor consumió: 23\n",
            "Consumidor consumió: 87\n",
            "Se produjo: 87\n",
            "Se produjo: 66\n",
            "Consumidor consumió: 66\n",
            "Consumidor consumió: 51\n",
            "Se produjo: 51\n",
            "Se produjo: 13\n",
            "Consumidor consumió: 13\n",
            "Consumidor consumió: 35\n",
            "Se produjo: 35\n",
            "Se produjo: 55\n",
            "Consumidor consumió: 55\n",
            "Consumidor consumió: 66\n",
            "Se produjo: 66\n"
          ]
        }
      ]
    }
  ]
}