{
  "nbformat": 4,
  "nbformat_minor": 0,
  "metadata": {
    "colab": {
      "provenance": [],
      "authorship_tag": "ABX9TyOYCsf5YMhPWccCdac3xJ2n",
      "include_colab_link": true
    },
    "kernelspec": {
      "name": "python3",
      "display_name": "Python 3"
    },
    "language_info": {
      "name": "python"
    }
  },
  "cells": [
    {
      "cell_type": "markdown",
      "metadata": {
        "id": "view-in-github",
        "colab_type": "text"
      },
      "source": [
        "<a href=\"https://colab.research.google.com/github/NahuelRepetto/Programacion-Concurrente/blob/main/TrabajoN1Parte4Cpp.ipynb\" target=\"_parent\"><img src=\"https://colab.research.google.com/assets/colab-badge.svg\" alt=\"Open In Colab\"/></a>"
      ]
    },
    {
      "cell_type": "code",
      "execution_count": 32,
      "metadata": {
        "colab": {
          "base_uri": "https://localhost:8080/"
        },
        "id": "9IXlztgPzVeP",
        "outputId": "76a2c224-5ccc-4bb7-efdd-7f6b70f94e58"
      },
      "outputs": [
        {
          "output_type": "stream",
          "name": "stdout",
          "text": [
            "Overwriting Sumador.cpp\n"
          ]
        }
      ],
      "source": [
        "%%writefile Sumador.cpp\n",
        "#include<iostream>\n",
        "#include<boost/lexical_cast.hpp>\n",
        "#include<thread>\n",
        "#include<mutex>\n",
        "\n",
        "using namespace std;\n",
        "\n",
        "int suma = 0;\n",
        "mutex mtx;\n",
        "\n",
        "void sumarRango(int* array, int inicio, int fin)\n",
        "{      \n",
        "   for(int i = inicio; i < fin; i++)    \n",
        "   {\n",
        "     mtx.lock();\n",
        "     suma+= array[i];\n",
        "     mtx.unlock();\n",
        "   }\n",
        "}\n",
        "\n",
        "int main (int argc, char *argv[])\n",
        "{\t\t\n",
        "\t//VERIFICO QUE SE HAYAN ENVIADO LOS NECESARIOS\n",
        "  if( argc < 2 ) \n",
        "  {\n",
        "    cout<<\"Se deben ingresar los N numeros que se desean sumar.\"<< endl;\n",
        "    exit(1);\n",
        "  }\n",
        "\n",
        "\t//VALIDO QUE LOS PARAMENTROS INGRESADOS SEAN NUMEROS Y LOS GUARDO EN UN ARRAY\t\n",
        "  int cantNumeros = argc -1; \n",
        "\tint* numeros = new int[cantNumeros];    \n",
        "  string lectura;     \n",
        "\n",
        "  for(int i = 1; i <= cantNumeros; i++)\n",
        "  {\n",
        "    lectura = argv[i];\n",
        "    try \n",
        "\t\t{\t\t      \n",
        "      numeros[i-1] = boost::lexical_cast<int>(lectura);      \n",
        "    }\n",
        "    catch (boost::bad_lexical_cast const &e) //SI LA ENTRADA ES INCORRECTA (NO NUMERICA)\n",
        "\t\t{        \n",
        "      cout << \"Entrada invalida '\" << lectura <<\"', deben ingresarse solo numeros.\" << endl;\n",
        "\t\t\texit(1);\n",
        "    }\n",
        "  }\n",
        "  \n",
        "  //REALIZO LA SUMA DEL CONTENIDO DEL ARRAY                \n",
        "  thread HiloA (sumarRango, numeros, 0, cantNumeros/2);\n",
        "  thread HiloB (sumarRango, numeros, cantNumeros/2, cantNumeros);\n",
        "  HiloA.join();\n",
        "  HiloB.join(); \n",
        "     \t\n",
        "\t//MUESTRO RESULTADOS\n",
        "  cout << \"Valores recibidos: \";  \n",
        "  for(int i = 0; i < cantNumeros; i++)  \n",
        "    cout << numeros[i] << \" \";  \n",
        "  cout << endl << \"Suma total: \" << suma;  \t\t\n",
        "\treturn EXIT_SUCCESS;\n",
        "}"
      ]
    },
    {
      "cell_type": "code",
      "source": [
        "!g++ -pthread -o Sumador Sumador.cpp"
      ],
      "metadata": {
        "id": "x3cw7VAvzuyM"
      },
      "execution_count": 33,
      "outputs": []
    },
    {
      "cell_type": "markdown",
      "source": [
        "Se deben ingresar los N numeros que se desean sumar."
      ],
      "metadata": {
        "id": "kmne1kg2z2O7"
      }
    },
    {
      "cell_type": "code",
      "source": [
        "!./Sumador 1 2 3 -4 5 6 7 8 9 10"
      ],
      "metadata": {
        "colab": {
          "base_uri": "https://localhost:8080/"
        },
        "id": "PL0qP-mGzwRb",
        "outputId": "047b6b4c-b1b0-4583-834e-56795551751c"
      },
      "execution_count": 34,
      "outputs": [
        {
          "output_type": "stream",
          "name": "stdout",
          "text": [
            "Valores recibidos: 1 2 3 -4 5 6 7 8 9 10 \n",
            "Suma total: 47"
          ]
        }
      ]
    }
  ]
}