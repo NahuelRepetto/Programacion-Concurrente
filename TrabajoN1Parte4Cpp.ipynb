{
  "nbformat": 4,
  "nbformat_minor": 0,
  "metadata": {
    "colab": {
      "provenance": [],
      "authorship_tag": "ABX9TyMnYY/E9WO2aROYODUdEpgz",
      "include_colab_link": true
    },
    "kernelspec": {
      "name": "python3",
      "display_name": "Python 3"
    },
    "language_info": {
      "name": "python"
    }
  },
  "cells": [
    {
      "cell_type": "markdown",
      "metadata": {
        "id": "view-in-github",
        "colab_type": "text"
      },
      "source": [
        "<a href=\"https://colab.research.google.com/github/NahuelRepetto/Programacion-Concurrente/blob/main/TrabajoN1Parte4Cpp.ipynb\" target=\"_parent\"><img src=\"https://colab.research.google.com/assets/colab-badge.svg\" alt=\"Open In Colab\"/></a>"
      ]
    },
    {
      "cell_type": "code",
      "execution_count": 147,
      "metadata": {
        "colab": {
          "base_uri": "https://localhost:8080/"
        },
        "id": "9IXlztgPzVeP",
        "outputId": "8ab68e07-33a6-4a14-8496-a3001654fdfb"
      },
      "outputs": [
        {
          "output_type": "stream",
          "name": "stdout",
          "text": [
            "Overwriting Sumador.cpp\n"
          ]
        }
      ],
      "source": [
        "%%writefile Sumador.cpp\n",
        "#include<iostream>\n",
        "#include<boost/lexical_cast.hpp>\n",
        "#include<thread>\n",
        "#include<mutex>\n",
        "\n",
        "using namespace std;\n",
        "\n",
        "int suma = 0;\n",
        "int* vec;\n",
        "mutex mtx;\n",
        "\n",
        "void sumarRango(int inicio, int fin)\n",
        "{      \n",
        "   int subTotal = 0;\n",
        "   for(int i = inicio; i < fin; i++)      \n",
        "     subTotal+= vec[i];   \n",
        "   mtx.lock();\n",
        "   suma+= subTotal;\n",
        "   mtx.unlock();\n",
        "}\n",
        "\n",
        "int main (int argc, char *argv[])\n",
        "{\t\t\n",
        "\t//VERIFICO QUE SE HAYAN ENVIADO LOS NECESARIOS\n",
        "  if( argc < 3 ) \n",
        "  {\n",
        "    cout<<\"Se deben ingresar N+1 cantidad de numeros, separados con espacios. Los primeros N numeros constituiran el array, mientras que el ultimo indicará cuantos numeros tomara el primer hilo, mientras que el resto sera para el segundo, por lo que : 0 <= ultimoNumero <= N.\"<< endl;\n",
        "    exit(1);\n",
        "  }\n",
        "\n",
        "\t//VALIDO QUE LOS PARAMENTROS INGRESADOS SEAN NUMEROS Y LOS GUARDO EN UN ARRAY\t\n",
        "  int cantNumeros = argc -2; \n",
        "\tint numeros [cantNumeros];\n",
        "  int cantNumPrimerHilo;  \n",
        "  string lectura;     \n",
        "\n",
        "  for(int i = 1; i <= cantNumeros; i++)\n",
        "  {\n",
        "    lectura = argv[i];\n",
        "    try \n",
        "\t\t{\t\t      \n",
        "      numeros[i-1] = boost::lexical_cast<int>(lectura);      \n",
        "    }\n",
        "    catch (boost::bad_lexical_cast const &e) //SI LA ENTRADA ES INCORRECTA (NO NUMERICA)\n",
        "\t\t{        \n",
        "      cout << \"Entrada invalida '\" << lectura <<\"', deben ingresarse solo numeros.\" << endl;\n",
        "\t\t\texit(1);\n",
        "    }\n",
        "  }\n",
        "\n",
        "  vec = numeros;\n",
        "\n",
        "  //VALIDO LA CANTIDAD DE NUMEROS PARA EL PRIMER HILO SEA MAYOR O IGUAL A 0 Y MENOR O IGUAL AL TOTAL DE NUMEROS\t\n",
        "  lectura = argv[cantNumeros+1];\n",
        "  try \n",
        "\t{\t\t\n",
        "    cantNumPrimerHilo = boost::lexical_cast<int>(lectura); \n",
        "    if (cantNumPrimerHilo < 0 || cantNumPrimerHilo > cantNumeros)\n",
        "    {        \n",
        "      cout << \"Entrada invalida, la ultima entrada indicará cuantos numeros tomara el primer hilo, por lo que debe ser mayor o igual a 0 y menor o igual a la cantidad de numeros ingresados.\"<< endl;\n",
        "\t\t  exit(1);\n",
        "    }\n",
        "  }\n",
        "  catch (boost::bad_lexical_cast const &e) //SI LA ENTRADA ES INCORRECTA (NO NUMERICA)\n",
        "\t{        \n",
        "    cout << \"Entrada invalida '\" << lectura <<\"', deben ingresarse solo numeros.\" << endl;\n",
        "\t  exit(1);\n",
        "  }\n",
        "\n",
        "  //REALIZO LA SUMA DEL CONTENIDO DEL ARRAY                \n",
        "  thread HiloA (sumarRango, 0, cantNumPrimerHilo);\n",
        "  thread HiloB (sumarRango, cantNumPrimerHilo, cantNumeros);\n",
        "  HiloA.join();\n",
        "  HiloB.join();  \n",
        "    \t\n",
        "\t//MUESTRO RESULTADOS\n",
        "  cout << \"Valores recibidos: \";  \n",
        "  for(int i = 0; i < cantNumeros; i++)  \n",
        "    cout << vec[i] << \" \";  \n",
        "  cout << endl << \"Suma total: \" << suma;  \t\t\n",
        "\treturn EXIT_SUCCESS;\n",
        "}"
      ]
    },
    {
      "cell_type": "code",
      "source": [
        "!g++ -pthread -o Sumador Sumador.cpp"
      ],
      "metadata": {
        "id": "x3cw7VAvzuyM"
      },
      "execution_count": 145,
      "outputs": []
    },
    {
      "cell_type": "markdown",
      "source": [
        "Se deben ingresar N+1 cantidad de numeros, separados con espacios.\n",
        "Los primeros N numeros constituiran el array, mientras que el ultimo indicará cuantos numeros tomara el primer hilo, mientras que el resto sera para el segundo, por lo que : 0 <= ultimoNumero <= N"
      ],
      "metadata": {
        "id": "kmne1kg2z2O7"
      }
    },
    {
      "cell_type": "code",
      "source": [
        "!./Sumador 1 2 3 -4 5 6 7 8 9 10 5"
      ],
      "metadata": {
        "colab": {
          "base_uri": "https://localhost:8080/"
        },
        "id": "PL0qP-mGzwRb",
        "outputId": "6a55ac31-ab00-492e-d17b-169c05f808f8"
      },
      "execution_count": 146,
      "outputs": [
        {
          "output_type": "stream",
          "name": "stdout",
          "text": [
            "\n",
            "Valores recibidos: 1 2 3 -4 5 6 7 8 9 10 \n",
            "Suma total: 47"
          ]
        }
      ]
    }
  ]
}