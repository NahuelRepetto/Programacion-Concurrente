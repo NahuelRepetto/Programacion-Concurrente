{
  "nbformat": 4,
  "nbformat_minor": 0,
  "metadata": {
    "colab": {
      "provenance": [],
      "include_colab_link": true
    },
    "kernelspec": {
      "name": "python3",
      "display_name": "Python 3"
    }
  },
  "cells": [
    {
      "cell_type": "markdown",
      "metadata": {
        "id": "view-in-github",
        "colab_type": "text"
      },
      "source": [
        "<a href=\"https://colab.research.google.com/github/NahuelRepetto/Programacion-Concurrente/blob/main/TP2_P2_OpenMPI.ipynb\" target=\"_parent\"><img src=\"https://colab.research.google.com/assets/colab-badge.svg\" alt=\"Open In Colab\"/></a>"
      ]
    },
    {
      "cell_type": "markdown",
      "metadata": {
        "id": "sMZqDYYBzCLe"
      },
      "source": [
        "# Programacion Concurrente TP2 Parte2 MPI \n",
        "\n",
        "Para este ejercicio se ha optado por aplicar el tema teórico **MPI** (Message Passing Interface). La finalidad del ejercicio es ampliar el conocimiento sobras la manera que posee Python para implementar la comunicación entre distintos procesos con el uso de una librería denominada **MPI4py** [1]. Para más información puede consultar la última revisión en [2].\n",
        "\n",
        "Este ejercicio fue presentado por alumnos del curso 2020."
      ]
    },
    {
      "cell_type": "markdown",
      "source": [
        "---\n",
        "## 2.1. Ejercicio - Hola Mundo con MPI\n"
      ],
      "metadata": {
        "id": "yE4nz1TozCQO"
      }
    },
    {
      "cell_type": "markdown",
      "source": [
        "### 2.1.1. Preguntas del ejercicio\n",
        "\n",
        "Ejecute este ejemplo para $4$ o más instancias y responda:\n",
        "\n",
        "a) ¿Qué función realiza la instancia maestra? ¿Qué función realizan las instancias esclavas?\n",
        "\n",
        "b) ¿Cuántas de esas instancias ejecuta la función `main()`, `initWork()` y `doWork()`?\n",
        "\n",
        "c) ¿Cómo se diferencian los mensajes de trabajo o de finalización?\n",
        "\n",
        "d) ¿Cómo implementaría la función BLAS `axpy()` con este patrón?¿Sería eficiente? *Tips*: Pide solo el planteo, no la implementación.\n",
        "\n",
        "e) ¿Qué sucede cuando solo ejecuta con una sola instancia?\n",
        "\n",
        "f) *Punto opcional*: El código que ejecutan las instancias esclavas, tienen un error en su lógica. ¿Cómo se podría solucionar?"
      ],
      "metadata": {
        "id": "AMFBYImZzLVo"
      }
    },
    {
      "cell_type": "markdown",
      "source": [
        "### Respuestas\n",
        "\n",
        "a) El programa está diseñado con un patrón de trabajo del estilo jefe/trabajador en el cual la única instancia maestra se encarga de generar las tareas a realizar y las delega entre las instancias esclavas.\n",
        "\n",
        "Instancia maestra: esta inicia instanciando la cantidad total de tareas que generara y repartirá entre las estancias esclavas, la misma será igual a (nroProcesos-1)*4 tareas, el menos uno se debe a que no genera tareas para sí misma, solo lo hace para las demás instancias. Luego genera tanto tiempo de descanso como tareas vaya a repartir entre las esclavas, estos valores son generados de forma aleatoria, pero teniendo un valor máximo y mínimo configurables. Una vez creados estos valores ejecuta la función initWork, en esta le asigna a cada esclavo por medio de un mensaje una tarea y un tiempo de descanso, luego se queda a espera que vayan terminando y a medida que van notificando esto último les asigna una nueva tarea, así hasta terminar con todas. Luego de recibir el aviso de que se finalizó la última tarea les envía un mensaje a todas las instancias esclavas avisando de que se concluyó con la actividad, y luego finaliza su ejecución.\n",
        "\n",
        "Instancias esclavas: están a la espera de un mensaje de la instancia maestra, este contiene dos cosas, un valor y un tag que puede tener dos significados. Si el tag recibido representa que se debe trabajar, el valor que lo acompaña indicara el tiempo de descanso que le corresponde al esclavo durante la realización de la tarea asignada, en este caso, se realiza un sleep del tiempo indicado y se envía un mensaje a la instancia maestra avisando que se concluyó la tarea encargada y quedando a la espera de un nuevo mensaje de esta instancia. En el caso de que el tag represente el fin de la actividad de trabajo, el esclavo marca el fin de su labor y finaliza su ejecución.    \n",
        " \n",
        "  \n",
        "\n",
        "b) Todas las instancias ejecutan la función main(), ya que hasta este punto no se distinguen entre maestra y esclavas, recién en esta función cada proceso instancia el tipo de comunicador a utilizar y obtiene su id, atributo propio de cada uno. A partir de este punto, haciendo uso del id, podemos distinguir entre la instancia maestra (id==0) y las instancias esclavas (id!=0). La instancia maestra es la única en ejecutar la función initWork() y todas las esclavas se encargan de ejecutar la función doWork.\n",
        "\n",
        "\n",
        "\n",
        "c) Estos mensajes enviados desde la instancia maestra hacia las instancias esclavas pueden ser de dos tipos, uno para indicar un nuevo trabajo y otro para indicar la finalización de este. Para diferenciarlos se usa un tag que está contenido en la estructura utilizada para el envió del mensaje, este puede tomar dos valores uno para cada significado. Cuando una instancia esclava recibe un mensaje nuevo verifica el valor del tag de este y acorde al mismo continua su ejecución ya sea para realizar una nueva tarea o parta finalizar su trabajo.\n",
        "\n",
        "\n",
        "\n",
        "d) Con el objetivo de realizar la suma de vectores de la siguiente manera: \n",
        "    \n",
        "    R[i] = alfa * X[i] + Y[i]\n",
        "\n",
        "Se podría crear un código que tenga el valor alfa y tres vectores:\n",
        "\n",
        "    alfa = num\n",
        "    vector X( cantidad_N ); -> Primer vector a sumar\n",
        "    vector Y( cantidad_N ); -> Segundo vector a sumar\n",
        "    vector R( cantidad_N ); -> Resultado\n",
        "\n",
        "Inicialmente estarían vacíos, para más tarde llenar los valores del vector X y el vector Y en la instancia maestra.\n",
        "Finalmente se podría hacer uso de la rutina MPI_Scatter para enviar a todas las instancias una porción de los vectores X e Y, para que se encarguen de realizar los cálculos únicamente para ese fragmento de datos, para mas tarde reunir todos los resultados usando la rutina MPI_Gather.\n",
        "Si bien el aumento del poder de procesamiento es notorio al agregar más PCs al trabajo, la comunicación entre estas conlleva un costo adicional, y al tratarse en este caso de la resolución de un cálculo simple no sería tan rentable realizar todo este trabajo, al menos no mientras el volumen de datos no sea desorbitante. \n",
        "\n",
        "\n",
        "\n",
        "\n",
        "e) Al ejecutar con una sola instancia el programa designa a esta única como la clase maestra, sin embargo, al no haber mas instancias las cuales hagan el papel de esclavas, al momento de crear las tareas que a futuro serian asignadas, se encuentra con que la cantidad a crear dada por la formula (nroProcesos-1)*4 es igual a cero. De esta forma el programa finaliza al no tener tareas que asignar ni a quien asignárselas.\n",
        "\n",
        "\n",
        "\n",
        "f) Solo noto dos cosas que podrían cambiarse. Por un lado, la instancia maestra envía a las instancias esclavas un mensaje que contiene un valor que en principio representa el tiempo de descanso que le corresponde a al esclavo por la realización de una tarea. Sin embargo, cuando la tarea se concluye, este mismo número es utilizado para identificar a la misma, y dado que estos valores inicialmente se pensaron para otra cosa, los mismos se repiten en varias ocasiones, dando la ilusión de que varios esclavos realizaron la misma tarea o que incluso uno realizo la misma más de una vez. Esto podría solucionarse enviando mas de un valor a los esclavos, uno que corresponda a la tarea y otro al tiempo de descanso. Por otro lado, se realiza la verificación del flag que identifica si se trata de una nueva tarea o de la finalización del trabajo luego de imprimir un mensaje haciendo alusión al nuevo trabajo recibido, aquí simplemente se podría cambiar el orden de estas sentencias.  "
      ],
      "metadata": {
        "id": "D916oZUP5a8N"
      }
    },
    {
      "cell_type": "markdown",
      "metadata": {
        "id": "r9TdOhH3zGsx"
      },
      "source": [
        "###2.1.2. Armado del ambiente\n",
        "\n",
        "Es en donde se instalar, por única vez, el módulo MPI4py de Python en el cuaderno."
      ]
    },
    {
      "cell_type": "code",
      "metadata": {
        "id": "DV_cRj3n4SF3",
        "colab": {
          "base_uri": "https://localhost:8080/"
        },
        "outputId": "39de3913-4aaa-450d-d103-26c0f8926d28"
      },
      "source": [
        "! pip install mpi4py"
      ],
      "execution_count": 1,
      "outputs": [
        {
          "output_type": "stream",
          "name": "stdout",
          "text": [
            "Looking in indexes: https://pypi.org/simple, https://us-python.pkg.dev/colab-wheels/public/simple/\n",
            "Collecting mpi4py\n",
            "  Downloading mpi4py-3.1.4.tar.gz (2.5 MB)\n",
            "\u001b[2K     \u001b[90m━━━━━━━━━━━━━━━━━━━━━━━━━━━━━━━━━━━━━━━━\u001b[0m \u001b[32m2.5/2.5 MB\u001b[0m \u001b[31m45.2 MB/s\u001b[0m eta \u001b[36m0:00:00\u001b[0m\n",
            "\u001b[?25h  Installing build dependencies ... \u001b[?25l\u001b[?25hdone\n",
            "  Getting requirements to build wheel ... \u001b[?25l\u001b[?25hdone\n",
            "  Preparing metadata (pyproject.toml) ... \u001b[?25l\u001b[?25hdone\n",
            "Building wheels for collected packages: mpi4py\n",
            "  Building wheel for mpi4py (pyproject.toml) ... \u001b[?25l\u001b[?25hdone\n",
            "  Created wheel for mpi4py: filename=mpi4py-3.1.4-cp310-cp310-linux_x86_64.whl size=3365650 sha256=909a4b6a81af6a03a36b8ee9ef47ea7a43a4f05fdcfd6a4e75e5db2d3e38c45f\n",
            "  Stored in directory: /root/.cache/pip/wheels/e8/1b/b5/97ec4cfccdde26e0f3590ad6e09a5242d508dff09704ef86c1\n",
            "Successfully built mpi4py\n",
            "Installing collected packages: mpi4py\n",
            "Successfully installed mpi4py-3.1.4\n"
          ]
        }
      ]
    },
    {
      "cell_type": "markdown",
      "source": [
        "### 2.1.3. Código del programa en Lenguaje Python "
      ],
      "metadata": {
        "id": "lgqoWIVPzZkY"
      }
    },
    {
      "cell_type": "code",
      "metadata": {
        "id": "tGvDuYLk4zpb",
        "colab": {
          "base_uri": "https://localhost:8080/"
        },
        "outputId": "e711d406-5d1a-4ab1-f397-b12f2242bbc9"
      },
      "source": [
        "%%writefile Ejercicio2.py\n",
        "from mpi4py import MPI\n",
        "import numpy as np\n",
        "import time\n",
        "\n",
        "# --------------------------------------------\n",
        "# Formulario\n",
        "Max_tiempo_sleep =   8#@param {type: \"slider\", min: 1, max: 10}\n",
        "Min_tiempo_sleep =   2#@param {type: \"slider\", min: 0, max: 10}\n",
        "# --------------------------------------------\n",
        "\n",
        "# --------------------------------------------\n",
        "# Constantes de comunicacion\n",
        "WORK_FLAG = 1\n",
        "END_WORK_FLAG = 2\n",
        "# --------------------------------------------\n",
        "\n",
        "def main():\n",
        "    comm = MPI.COMM_WORLD # Instanciamos el tipo de comunicador a utilizar.\n",
        "    id = comm.Get_rank()  # Obtenemos el id como atributo del proceso que se ejecuta.\n",
        "\n",
        "    # Utilizamos el 0 para definir al procesos Maestro, cualquier otro id sera un esclavo.\n",
        "    if (id == 0) :\n",
        "        init()                                # Llamamos funcion init para eventos que requeriremos inicialmente solo 1 vez.\n",
        "        numProcesses = comm.Get_size()        # Obtenemos el numero de procesos totales ejecutados.\n",
        "        numTasks = (numProcesses-1)*4         # Se setea el numero de tareas.\n",
        "        workTimes = generateTasks(numTasks)   # Se generan las tareas, en este caso seran \n",
        "        print(\"El jefe crea {} horas de descanso de sus empleados:\".format(workTimes.size), flush=True)\n",
        "        print(workTimes, flush=True)\n",
        "        initWork(comm, workTimes, numProcesses)\n",
        "    else:\n",
        "        doWork(comm)\n",
        "\n",
        "def generateTasks(numTasks):\n",
        "    #TODO: Cambiar la semilla del random para que se generen efectivamente diferentes numeros.\n",
        "    np.random.seed(1000) \n",
        "    return np.random.randint(low=Min_tiempo_sleep, high=Max_tiempo_sleep, size=numTasks)\n",
        "\n",
        "def init():\n",
        "  print()\n",
        "  print(\"Version MPI4py utilizada: {}\".format(MPI.Get_version()), flush=True)\n",
        "  print()\n",
        "  print( \"------------------------------------\", flush=True)\n",
        "  print( \"Sistema de trabajo Suizo:\", flush=True)\n",
        "  print( \"------------------------------------\", flush=True)\n",
        "  print()\n",
        "\n",
        "def initWork(comm, workTimes, numProcesses):\n",
        "    totalWork = workTimes.size\n",
        "    workcount = 0\n",
        "    recvcount = 0\n",
        "\n",
        "    print(\"Jefe enviando las tareas iniciales:\", flush=True)\n",
        "    for id in range(1, numProcesses):\n",
        "        if workcount < totalWork:\n",
        "            work=workTimes[workcount]\n",
        "            comm.send(work, dest=id, tag=WORK_FLAG) # Envia mensaje de iniciar trabajo con el dato correspondiente del array.\n",
        "            workcount += 1\n",
        "            print(\"Jefe envia trabajo y {} hs de descanso al empleado {}.\".format(work, id), flush=True)\n",
        "    print( \"------------------------------------\", flush=True)\n",
        "\n",
        "    # Mientras haya trabajo, se recibe el resultado de los empleados y se sigue enviando MAS trabajo.\n",
        "    while (workcount < totalWork) :\n",
        "        stat = MPI.Status() \n",
        "        workTime = comm.recv(source=MPI.ANY_SOURCE, status=stat) # Recivimos resultados de los empleados.\n",
        "        recvcount += 1\n",
        "        workerId = stat.Get_source() # Obtenemos el identificador del empleado.\n",
        "        print(\"Jefe recibe trabajo completado {} del empleado {}.\".format(workTime, workerId), flush=True)\n",
        "        #send next work\n",
        "        work=workTimes[workcount]\n",
        "        comm.send(work, dest=workerId, tag=WORK_FLAG) \n",
        "        workcount += 1\n",
        "        print(\"Jefe envia nuevo trabajo y {} hs de descanso al empleado {}.\".format(work, workerId), flush=True)\n",
        "\n",
        "    while (recvcount < totalWork):\n",
        "        stat = MPI.Status()\n",
        "        workTime = comm.recv(source=MPI.ANY_SOURCE, status=stat)\n",
        "        recvcount += 1\n",
        "        workerId = stat.Get_source()\n",
        "        print(\"Jefe recibe trabajo completado {} del empleado {}.\".format(workTime, workerId), flush=True)\n",
        "\n",
        "    for id in range(1, numProcesses):\n",
        "        comm.send(0, dest=id, tag=END_WORK_FLAG)\n",
        "\n",
        "\n",
        "def doWork(comm):\n",
        "    while(True):\n",
        "        stat = MPI.Status() # Obtiene el estado actual del empleado.\n",
        "        waitTime = comm.recv(source=0, tag=MPI.ANY_TAG, status=stat) # Obtiene lo enviado por el Jefe.\n",
        "        print(\"Soy el empleado con id {}, toca descanzo por {} hs.\".format(comm.Get_rank(), waitTime), flush=True)\n",
        "\n",
        "        if (stat.Get_tag() == END_WORK_FLAG):\n",
        "            print(\"Marca tarjeta el empleado {}.\".format(comm.Get_rank()), flush=True)\n",
        "            return\n",
        "        time.sleep(waitTime)\n",
        "        comm.send(waitTime, dest=0)\n",
        "\n",
        "main()\n"
      ],
      "execution_count": 8,
      "outputs": [
        {
          "output_type": "stream",
          "name": "stdout",
          "text": [
            "Overwriting Ejercicio2.py\n"
          ]
        }
      ]
    },
    {
      "cell_type": "markdown",
      "metadata": {
        "id": "anJw5JH-443-"
      },
      "source": [
        "### 2.1.4 Ejecución del programa"
      ]
    },
    {
      "cell_type": "code",
      "metadata": {
        "id": "NTEtBCIa4-LP",
        "colab": {
          "base_uri": "https://localhost:8080/"
        },
        "outputId": "a05bf285-f5a3-4ef0-c447-a15dc4efa280"
      },
      "source": [
        "# --------------------------------------------\n",
        "#@title Parámetros de ejecución { vertical-output: true }\n",
        "NRO =   5#@param {type: \"number\"}\n",
        "# --------------------------------------------\n",
        "\n",
        "! mpirun --allow-run-as-root --oversubscribe -np $NRO python Ejercicio2.py"
      ],
      "execution_count": 9,
      "outputs": [
        {
          "output_type": "stream",
          "name": "stdout",
          "text": [
            "\n",
            "Version MPI4py utilizada: (3, 1)\n",
            "\n",
            "------------------------------------\n",
            "Sistema de trabajo Suizo:\n",
            "------------------------------------\n",
            "\n",
            "El jefe crea 16 horas de descanso de sus empleados:\n",
            "[5 2 5 6 3 7 2 3 7 2 3 6 5 6 6 7]\n",
            "Jefe enviando las tareas iniciales:\n",
            "Jefe envia trabajo y 5 hs de descanso al empleado 1.\n",
            "Jefe envia trabajo y 2 hs de descanso al empleado 2.\n",
            "Soy el empleado con id 2, toca descanzo por 2 hs.\n",
            "Soy el empleado con id 1, toca descanzo por 5 hs.\n",
            "Jefe envia trabajo y 5 hs de descanso al empleado 3.\n",
            "Jefe envia trabajo y 6 hs de descanso al empleado 4.\n",
            "------------------------------------\n",
            "Soy el empleado con id 3, toca descanzo por 5 hs.\n",
            "Soy el empleado con id 4, toca descanzo por 6 hs.\n",
            "Soy el empleado con id 2, toca descanzo por 3 hs.\n",
            "Jefe recibe trabajo completado 2 del empleado 2.\n",
            "Jefe envia nuevo trabajo y 3 hs de descanso al empleado 2.\n",
            "Jefe recibe trabajo completado 5 del empleado 1.\n",
            "Jefe envia nuevo trabajo y 7 hs de descanso al empleado 1.\n",
            "Jefe recibe trabajo completado 3 del empleado 2.\n",
            "Jefe envia nuevo trabajo y 2 hs de descanso al empleado 2.\n",
            "Jefe recibe trabajo completado 5 del empleado 3.\n",
            "Jefe envia nuevo trabajo y 3 hs de descanso al empleado 3.\n",
            "Soy el empleado con id 1, toca descanzo por 7 hs.\n",
            "Soy el empleado con id 2, toca descanzo por 2 hs.\n",
            "Soy el empleado con id 3, toca descanzo por 3 hs.\n",
            "Jefe recibe trabajo completado 6 del empleado 4.\n",
            "Soy el empleado con id 4, toca descanzo por 7 hs.\n",
            "Jefe envia nuevo trabajo y 7 hs de descanso al empleado 4.\n",
            "Jefe recibe trabajo completado 2 del empleado 2.\n",
            "Jefe envia nuevo trabajo y 2 hs de descanso al empleado 2.\n",
            "Soy el empleado con id 2, toca descanzo por 2 hs.\n",
            "Jefe recibe trabajo completado 3 del empleado 3.\n",
            "Jefe envia nuevo trabajo y 3 hs de descanso al empleado 3.\n",
            "Soy el empleado con id 3, toca descanzo por 3 hs.\n",
            "Jefe recibe trabajo completado 2 del empleado 2.\n",
            "Jefe envia nuevo trabajo y 6 hs de descanso al empleado 2.\n",
            "Soy el empleado con id 2, toca descanzo por 6 hs.\n",
            "Jefe recibe trabajo completado 3 del empleado 3.\n",
            "Jefe envia nuevo trabajo y 5 hs de descanso al empleado 3.\n",
            "Soy el empleado con id 3, toca descanzo por 5 hs.\n",
            "Jefe recibe trabajo completado 7 del empleado 1.\n",
            "Jefe envia nuevo trabajo y 6 hs de descanso al empleado 1.\n",
            "Soy el empleado con id 1, toca descanzo por 6 hs.\n",
            "Jefe recibe trabajo completado 7 del empleado 4.\n",
            "Jefe envia nuevo trabajo y 6 hs de descanso al empleado 4.\n",
            "Soy el empleado con id 4, toca descanzo por 6 hs.\n",
            "Jefe recibe trabajo completado 6 del empleado 2.\n",
            "Jefe envia nuevo trabajo y 7 hs de descanso al empleado 2.\n",
            "Soy el empleado con id 2, toca descanzo por 7 hs.\n",
            "Jefe recibe trabajo completado 5 del empleado 3.\n",
            "Jefe recibe trabajo completado 6 del empleado 1.\n",
            "Jefe recibe trabajo completado 6 del empleado 4.\n",
            "Jefe recibe trabajo completado 7 del empleado 2.\n",
            "Soy el empleado con id 4, toca descanzo por 0 hs.\n",
            "Soy el empleado con id 3, toca descanzo por 0 hs.\n",
            "Soy el empleado con id 1, toca descanzo por 0 hs.\n",
            "Marca tarjeta el empleado 1.\n",
            "Marca tarjeta el empleado 3.\n",
            "Marca tarjeta el empleado 4.\n",
            "Soy el empleado con id 2, toca descanzo por 0 hs.\n",
            "Marca tarjeta el empleado 2.\n"
          ]
        }
      ]
    },
    {
      "cell_type": "markdown",
      "metadata": {
        "id": "ChP75EDxI89c"
      },
      "source": [
        "---\n",
        "# Bibliografía\n",
        "\n",
        "[1] MPI4py: https://mpi4py.readthedocs.io/en/stable/\n",
        "\n",
        "[2] La versión oficial de MPI (Versión 4): https://www.mpi-forum.org/docs/mpi-4.0/mpi40-report.pdf\n",
        "\n"
      ]
    }
  ]
}