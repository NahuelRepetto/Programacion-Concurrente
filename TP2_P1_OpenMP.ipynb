{
  "nbformat": 4,
  "nbformat_minor": 0,
  "metadata": {
    "colab": {
      "provenance": [],
      "collapsed_sections": [
        "wHjoeL_wLguS",
        "mJxlhR-PHc4M",
        "rBsWMz-fIEaW",
        "feerSPFJI4UV",
        "B4IHd-IqdvT1"
      ],
      "include_colab_link": true
    },
    "kernelspec": {
      "display_name": "Python 3",
      "name": "python3"
    }
  },
  "cells": [
    {
      "cell_type": "markdown",
      "metadata": {
        "id": "view-in-github",
        "colab_type": "text"
      },
      "source": [
        "<a href=\"https://colab.research.google.com/github/NahuelRepetto/Programacion-Concurrente/blob/main/TP2_P1_OpenMP.ipynb\" target=\"_parent\"><img src=\"https://colab.research.google.com/assets/colab-badge.svg\" alt=\"Open In Colab\"/></a>"
      ]
    },
    {
      "cell_type": "markdown",
      "metadata": {
        "id": "th1ZsKBrRMrn"
      },
      "source": [
        "# Programacion Concurrente - TP2 - Parte 1\n",
        "\n",
        "Utilizamos 2 prácticas con OpenMP desarrolladas en lenguaje C/C++ nativo en plataforma colab. \n"
      ]
    },
    {
      "cell_type": "markdown",
      "metadata": {
        "id": "XtuoNACar7c-"
      },
      "source": [
        "---\n",
        "## 1.1. Ejercicio 1 - Hola Mundo estilo Programacion Concurrente\n"
      ]
    },
    {
      "cell_type": "markdown",
      "source": [
        "### 1.1.1. Preguntas ejercicio 1:\n",
        "\n",
        "a) Identifique los 3 componentes de openMP en el ejercicio 1.\n",
        "\n",
        "b) Realice pruebas modificando la cantidad de hilos (1, 3, 7). Que conclusiones pudo determinar?.\n",
        "\n",
        "c) ¿Cuál es la diferencia las formas de asignación *static* y *dynamic* en la cláusula *schedule*?, ¿Qué sucede si utiliza *dynamic* en el código?\n",
        "\n",
        "d) En el for: ¿Que sucede con el valor de j, sí se parametriza como lastprivate?\n"
      ],
      "metadata": {
        "id": "apisS7HOLQqF"
      }
    },
    {
      "cell_type": "markdown",
      "source": [
        "### Respuestas:\n",
        "\n",
        "a) Podemos identificar rápidamente los componentes de openMP gracias a la sintaxis especifica que se utiliza para llamar a estas directivas: **#pragma omp …**\n",
        "\n",
        "Primeramente, encontramos el uso de la directiva parallel para definir una región paralela, es decir, el código encerrado por dicha sección será ejecutado por múltiples subprocesos en paralelo.\n",
        "Luego, dentro de esta encontramos 3 directivas más:\n",
        "-\t**Single** para especificar que esa sección de código debe ejecutarse en un solo subproceso, no necesariamente en el subproceso principal.\n",
        "-\t**Master** para especifica que solo el subproceso principal debe ejecutar una sección del programa.\n",
        "-\t**for schedule(…)**para dividir el trabajo realizado por el ciclo for que está dentro región paralela entre varios hilos.\n",
        "\n",
        "\n",
        "b) La cantidad de hilos creados va a influir en la ejecución ciclo for.\n",
        "Por como esta definido este ciclo **for(i=0;i<20;i++)** sabemos que iterara 20 veces, y por como esta definida la directiva de openMP **#pragma omp for schedule(static, 5)** podemos deducir que dividirá estas 20 iteraciones bloques de 4 iteraciones cada una. Dicho esto, podemos afirmar que según la cantidad de hilos que se creen puede que haya algunos que estén ociosos. Si tenemos más hilos que bloques sobre los que iterar, la cantidad sobrante de hilos no harán nada. Y si tenemos menos hilos que bloques sobre los que iterar, unos o mas hilos iterara sobre más de un bloque.\n",
        "También cabe destacar que, como trabajamos con 2 procesadores, realmente tendremos solo dos hilos trabajando paralelamente, esto no quita que no podamos crear más de dos hilos, podemos crear la cantidad que queramos, pero esto no aumentara realmente el paralelismo.\n",
        "\n",
        "\n",
        "c) El tipo de Schedule **Static** divide el total de bloques por el numero enviado por parámetros, creando así secciones de n cantidad de bloques de los cuales se hace cargo un hilo por sección. En el ejemplo de este programa la cantidad total de bloques seria 20, y al enviar por parámetros un 5, se dividirá en 5 secciones de 4 bloques cada una. \n",
        "\n",
        "El Schedule **Dynamic** por otro lado, en lugar de dividir los bloques por cierta cantidad y asignárselo directamente a un hilo, le va dando un bloque sobre el que operar a aquellos hilos que estén disponibles.\n",
        "\n",
        "Al usar el Dynamic en el código se aprecia que no todos los hilos participan, en general se distribuyen los bloques entre 2 o 3 hilos, y en ocasiones solo 1 hilo hace todo el trabajo.\n",
        "Esto no es de extrañar ya que en verdad solo hay dos hilos en simultaneo, debido a que solo hay dos procesadores reales, por lo que a medida que terminan de hacer una tarea ya le asigna otra, no es que realmente haya 3, 4, 5, 6… hilos simultáneos, si fuera así si veríamos esta cantidad de hilos dividiéndose las operaciones. \n",
        "\n",
        "\n",
        "d) La función del **lastPrivate** es que, toma el valor que la variable tiene dentro de la última iteración y se lo asigna a la variable original. \n",
        "En este programa incluir el lastPrivate para la variable j causa un mal funcionamiento, arrojando al final como valor de j un número indeterminado. Por como el lastPrivate interpreto que este mal funcionamiento se debe a que el trabajo que se realiza en cada hilo es el de ir incrementando el valor de j del main, pero no se le asigna un valor dentro de esa iteración.\n",
        "Mientras que el lastPrivate toma el valor que una variable tiene asignada en la última iteración, y para las variables a las que no se les asigna un valor, tienen valores indeterminados."
      ],
      "metadata": {
        "id": "DnKZ6wgmYekN"
      }
    },
    {
      "cell_type": "markdown",
      "source": [
        "### 1.1.2. Código Lenguaje C "
      ],
      "metadata": {
        "id": "QQDtKmswLVOm"
      }
    },
    {
      "cell_type": "code",
      "metadata": {
        "id": "fEbO8EXWm4mL",
        "colab": {
          "base_uri": "https://localhost:8080/"
        },
        "outputId": "2dec58ec-4ffd-4028-b9c5-cc8e8f950667"
      },
      "source": [
        "%%writefile code.cpp\n",
        "\n",
        "// Hola Mundo desde OpenMP, usando c, ejecutado en Colab. \n",
        "\n",
        "#include <iostream>\n",
        "#include <vector>\n",
        "#include <omp.h>    // Cabecera OpenMP   \n",
        "  \n",
        "int main(int argc, char* argv[]) \n",
        "{\n",
        "  int i,j=0;\n",
        "  std::cout<<\"Inicio...\"<<std::endl;\n",
        "\n",
        "  //-----------------------------------------------------------------------------------------------\n",
        "  // Region paralela\n",
        "  #pragma omp parallel \n",
        "  { \n",
        "    std::cout<<\"Hola mundo!!!... soy el hilo \" << omp_get_thread_num()<< \", de \"<<  omp_get_num_threads() <<\", procesadores \"<< omp_get_num_procs()<< std::endl;  \n",
        "\n",
        "    #pragma omp single\n",
        "    {\n",
        "      std::cout<<\"Hola mundo!!!... soy el hilo \" << omp_get_thread_num()<< \" uno de muchos.\"<< std::endl;\n",
        "    }\n",
        "    #pragma omp master\n",
        "    {\n",
        "      std::cout<<\"Hola mundo!!!... soy el hilo maestro: \" << omp_get_thread_num()<< std::endl;\n",
        "    }\n",
        "\n",
        "    #pragma omp for schedule(dynamic, 5)\n",
        "    for(i=0;i<20;i++)\n",
        "    {\n",
        "      j++;\n",
        "      std::cout<<\"Hola mundo!!!... soy el hilo \" << omp_get_thread_num()<< \", itero para i .\"<<i<<\", actualizo j \"<<j<< std::endl;\n",
        "    }\n",
        "  }\n",
        "  // Region paralela\n",
        "  //-----------------------------------------------------------------------------------------------\n",
        "\n",
        "  std::cout<<\"Fin..., con j=\"<<j<<std::endl;\n",
        "}"
      ],
      "execution_count": 112,
      "outputs": [
        {
          "output_type": "stream",
          "name": "stdout",
          "text": [
            "Overwriting code.cpp\n"
          ]
        }
      ]
    },
    {
      "cell_type": "markdown",
      "metadata": {
        "id": "R2CUqGa2NSPh"
      },
      "source": [
        "### 1.1.3 Compilación de Hola Mundo. "
      ]
    },
    {
      "cell_type": "code",
      "metadata": {
        "id": "xLk4a5lTnOEI"
      },
      "source": [
        "!g++ -o hello -fopenmp code.cpp"
      ],
      "execution_count": 113,
      "outputs": []
    },
    {
      "cell_type": "markdown",
      "metadata": {
        "id": "NO--9RYTNe91"
      },
      "source": [
        "### 1.1.4. Ejecución Hola Mundo en OpenMP."
      ]
    },
    {
      "cell_type": "code",
      "metadata": {
        "id": "98G8IH-NnGHQ",
        "colab": {
          "base_uri": "https://localhost:8080/"
        },
        "outputId": "3c66ab4d-a0e2-4555-a83a-5da6c3ace56f"
      },
      "source": [
        "%env OMP_NUM_THREADS=3\n",
        "!./hello"
      ],
      "execution_count": 137,
      "outputs": [
        {
          "output_type": "stream",
          "name": "stdout",
          "text": [
            "env: OMP_NUM_THREADS=3\n",
            "Inicio...\n",
            "Hola mundo!!!... soy el hilo 0, de 3, procesadores 2\n",
            "Hola mundo!!!... soy el hilo 0 uno de muchos.\n",
            "Hola mundo!!!... soy el hilo 2, de 3, procesadores 2\n",
            "Hola mundo!!!... soy el hilo 1, de 3, procesadores 2\n",
            "Hola mundo!!!... soy el hilo maestro: 0\n",
            "Hola mundo!!!... soy el hilo 0, itero para i .0, actualizo j 1\n",
            "Hola mundo!!!... soy el hilo 0, itero para i .1, actualizo j 2\n",
            "Hola mundo!!!... soy el hilo 0, itero para i .2, actualizo j 3\n",
            "Hola mundo!!!... soy el hilo 0, itero para i .3, actualizo j 4\n",
            "Hola mundo!!!... soy el hilo 0, itero para i .4, actualizo j 5\n",
            "Hola mundo!!!... soy el hilo 0, itero para i .5, actualizo j 6\n",
            "Hola mundo!!!... soy el hilo 0, itero para i .6, actualizo j 7\n",
            "Hola mundo!!!... soy el hilo 0, itero para i .7, actualizo j 8\n",
            "Hola mundo!!!... soy el hilo 0, itero para i .8, actualizo j 9\n",
            "Hola mundo!!!... soy el hilo 0, itero para i .9, actualizo j 10\n",
            "Hola mundo!!!... soy el hilo 0, itero para i .10, actualizo j 11\n",
            "Hola mundo!!!... soy el hilo 0, itero para i .11, actualizo j 12\n",
            "Hola mundo!!!... soy el hilo 0, itero para i .12, actualizo j 13\n",
            "Hola mundo!!!... soy el hilo 0, itero para i .13, actualizo j 14\n",
            "Hola mundo!!!... soy el hilo 0, itero para i .14, actualizo j 15\n",
            "Hola mundo!!!... soy el hilo 0, itero para i .15, actualizo j 16\n",
            "Hola mundo!!!... soy el hilo 0, itero para i .16, actualizo j 17\n",
            "Hola mundo!!!... soy el hilo 0, itero para i .17, actualizo j 18\n",
            "Hola mundo!!!... soy el hilo 0, itero para i .18, actualizo j 19\n",
            "Hola mundo!!!... soy el hilo 0, itero para i .19, actualizo j 20\n",
            "Fin..., con j=20\n"
          ]
        }
      ]
    },
    {
      "cell_type": "markdown",
      "metadata": {
        "id": "3PQxHPkDdo42"
      },
      "source": [
        "---\n",
        "## 1.2. Ejercicio 2 - Axpy\n",
        "\n",
        "La función Axpy es parte de las bibliotecas BLAS [3]. Ella se encarga de realizar la suma de vectores, con la siguiente ecuación:\n",
        "\n",
        "<center>$Y = \\alpha X + Y$</center>\n",
        "\n",
        "En donde:\n",
        "> $\\alpha$: Es un escala.\n",
        "\n",
        "> $X$: Es el vector origen.\n",
        "\n",
        "> $Y$: Es el vector destino.\n"
      ]
    },
    {
      "cell_type": "markdown",
      "source": [
        "### 1.2.1 Preguntas Ejercicio 2\n",
        "a) Ejecute el ejercicio 1.2.2:\n",
        "\n",
        "    - Con la variable cantidad_N para: 50, 500, 5.000.\n",
        "    - Con los valores hilos_ 2, 4, 6.\n",
        "\n",
        "b) Repita la prueba (a), con ciclos 1, 10, 30. ¿Cuál fue la diferencia?\n",
        "\n",
        "c) ¿Por qué el SpeedUp no mejora a medida que aumentan la cantidad de hilos?\n",
        "\n",
        "d) ¿Qué sucede con la eficiencia a medida que aumentan la cantidad_N?¿Porqué no llega al valor ideal?."
      ],
      "metadata": {
        "id": "wHjoeL_wLguS"
      }
    },
    {
      "cell_type": "markdown",
      "source": [
        "### 1.2.2 Código Lenguaje C "
      ],
      "metadata": {
        "id": "wxsaxk7FSkmh"
      }
    },
    {
      "cell_type": "code",
      "metadata": {
        "id": "zLE3iWiJsM0G",
        "colab": {
          "base_uri": "https://localhost:8080/"
        },
        "outputId": "7e113242-7bc4-41fd-a754-29dea4309f83"
      },
      "source": [
        "%%writefile code_axpy.cpp\n",
        "// Axpy con OpenMP, usando c, ejecutado en Colab. \n",
        "\n",
        "#include <iostream>\n",
        "#include <vector>\n",
        "#include <cstdlib>\n",
        "#include <sys/time.h>\n",
        "#include <omp.h>    // Cabecera OpenMP   \n",
        "\n",
        "// ----------------------------------------------------------------------------\n",
        "// Macros que miden el tiempo.\n",
        "\n",
        "static double dHashTiempoHistory[3];\n",
        "static struct timeval tv;\n",
        "\n",
        "#define TIEMPO_INI( h )      \\\n",
        "   gettimeofday(&tv,NULL);   \\\n",
        "   dHashTiempoHistory[ h ] = tv.tv_sec + tv.tv_usec/1000000.0;\n",
        "   \n",
        "   \n",
        "#define TIEMPO_FIN( h )      \\\n",
        "   gettimeofday(&tv,NULL);   \\\n",
        "   dHashTiempoHistory[ h ] = ((tv.tv_sec + tv.tv_usec/1000000.0) - dHashTiempoHistory[ h ]) * 1000; // Devuelvo en milisegundos\n",
        "#define TIEMPO_GET( h ) dHashTiempoHistory[ h ]\n",
        "\n",
        "#define HTH_TOTAL         1\n",
        "#define HTH_AXPY_SEC      2\n",
        "#define HTH_AXPY_OMP      3\n",
        "\n",
        "using namespace std;\n",
        "\n",
        "// ----------------------------------------------------------------------------\n",
        "\n",
        "void axpy( double alfa, vector<double> &X, vector<double> &Y )\n",
        "{\n",
        "  int i;\n",
        "\n",
        "  #pragma omp parallel for\n",
        "  for(i=0;i<Y.size();i++)\n",
        "  {\n",
        "    Y[i] = alfa * X[i] + Y[i];\n",
        "  }\n",
        "}\n",
        "\n",
        "// ----------------------------------------------------------------------------\n",
        "\n",
        "int main(int argc, char* argv[]) \n",
        "{ \n",
        "  int i,c;\n",
        "  TIEMPO_INI( HTH_TOTAL )\n",
        "\n",
        "  // Leo los parametros.\n",
        "  if( argc != 4 )\n",
        "  {\n",
        "      std::cerr<< \" Error en los parametros de indicar: (alfa), (Tamanio vector), (ciclos ejecucion).\"<<argc<<std::endl;\n",
        "      exit( -1 );\n",
        "  }\n",
        "\n",
        "  float alfa     = atof( argv[1] );\n",
        "  int cantidad_N = atoi( argv[2] );\n",
        "  int ciclos     = atoi( argv[3] );\n",
        "\n",
        "  // --------------------------------------------\n",
        "  // Defino la memoria de los vectores.\n",
        "\n",
        "  vector<double> X( cantidad_N );\n",
        "  vector<double> Y( cantidad_N );\n",
        "\n",
        "  for (int i=0;i<X.size();i++)\n",
        "  {\n",
        "    X[i] = (rand()/(double)RAND_MAX)*0.73;\n",
        "    Y[i] = (rand()/(double)RAND_MAX)*0.71;\n",
        "  }\n",
        "\n",
        "  // --------------------------------------------\n",
        "  // Realizo la función Axpy con OpenMP.\n",
        "\n",
        "  TIEMPO_INI( HTH_AXPY_OMP )\n",
        "\n",
        "  for(c=0;c<ciclos;c++)\n",
        "  {\n",
        "    axpy( alfa, X, Y );\n",
        "  }\n",
        "\n",
        "  TIEMPO_FIN( HTH_AXPY_OMP )\n",
        "\n",
        "  // --------------------------------------------\n",
        "  // Realizo la función Axpy en forma secuencial.\n",
        "\n",
        "  omp_set_num_threads(1);\n",
        "\n",
        "  TIEMPO_INI( HTH_AXPY_SEC )\n",
        "\n",
        "  for(c=0;c<ciclos;c++)\n",
        "  {\n",
        "    axpy( alfa, X, Y );\n",
        "  }\n",
        "\n",
        "  TIEMPO_FIN( HTH_AXPY_SEC )\n",
        "\n",
        "  TIEMPO_FIN( HTH_TOTAL )\n",
        "\n",
        " std::cout<<\"Valores Reales  :\" <<std::endl;\n",
        " std::cout<<\"Tiempo TOTAL     : \"<<TIEMPO_GET(HTH_TOTAL   )<<\" [ms]\"<<std::endl;\n",
        " std::cout<<\"Tiempo axpy Sec  : \"<<TIEMPO_GET(HTH_AXPY_SEC)<<\" [ms]\"<<std::endl;\n",
        " std::cout<<\"Tiempo axpy Omp  : \"<<TIEMPO_GET(HTH_AXPY_OMP)<<\" [ms]\"<<std::endl;\n",
        " std::cout<<std::endl;\n",
        " std::cout<<\"SpeedUp          : (tiempo Secuencial/tiempo paralelo) : \"<<TIEMPO_GET(HTH_AXPY_SEC)<<\" / \"<<TIEMPO_GET(HTH_AXPY_OMP)<<\" = \"<<TIEMPO_GET(HTH_AXPY_SEC)/TIEMPO_GET(HTH_AXPY_OMP)<<std::endl;\n",
        " std::cout<<\"Eficiencia       : SpeedUp/nro procesadores            : \"<<TIEMPO_GET(HTH_AXPY_SEC)/TIEMPO_GET(HTH_AXPY_OMP)<<\" / \"<<omp_get_num_procs()<<\" = \"<<TIEMPO_GET(HTH_AXPY_SEC)/(omp_get_num_procs()*TIEMPO_GET(HTH_AXPY_OMP))<<std::endl;\n",
        " std::cout<<\"Coste Sec        : nro procesadores*Tiempo             : \"<<1<<\" * \"<<TIEMPO_GET(HTH_AXPY_SEC)<<\" = \"<<TIEMPO_GET(HTH_AXPY_SEC)<<std::endl;\n",
        " std::cout<<\"Coste Omp        : nro procesadores*Tiempo             : \"<<omp_get_num_procs()<<\" * \"<<TIEMPO_GET(HTH_AXPY_OMP)<<\" = \"<<omp_get_num_procs()*TIEMPO_GET(HTH_AXPY_OMP)<<std::endl;\n",
        " std::cout<<\"Funcion Overhead : Coste Omp - tiempo Secuencial       : \"<<omp_get_num_procs()*TIEMPO_GET(HTH_AXPY_OMP)<<\" - \"<<TIEMPO_GET(HTH_AXPY_SEC)<<\" = \"<<(omp_get_num_procs()*TIEMPO_GET(HTH_AXPY_OMP))-TIEMPO_GET(HTH_AXPY_SEC)<<std::endl;\n",
        "\n",
        "\n",
        " std::cout<<std::endl;\n",
        " std::cout<<\"Valores Ideal: \"<<std::endl;\n",
        " TIEMPO_GET(HTH_AXPY_OMP) = TIEMPO_GET(HTH_AXPY_SEC) / omp_get_num_procs();\n",
        " std::cout<<\"Tiempo axpy Sec  : \"<<TIEMPO_GET(HTH_AXPY_SEC)<<\" [ms]\"<<std::endl;\n",
        " std::cout<<\"Tiempo axpy Omp  : \"<<TIEMPO_GET(HTH_AXPY_OMP)<<\" [ms]\"<<std::endl;\n",
        "\n",
        " std::cout<<\"SpeedUp          : (tiempo Secuencial/tiempo paralelo) : \"<<TIEMPO_GET(HTH_AXPY_SEC)<<\" / \"<<TIEMPO_GET(HTH_AXPY_OMP)<<\" = \"<<TIEMPO_GET(HTH_AXPY_SEC)/TIEMPO_GET(HTH_AXPY_OMP)<<std::endl;\n",
        " std::cout<<\"Eficiencia       : SpeedUp/nro procesadores            : \"<<TIEMPO_GET(HTH_AXPY_SEC)/TIEMPO_GET(HTH_AXPY_OMP)<<\" / \"<<omp_get_num_procs()<<\" = \"<<TIEMPO_GET(HTH_AXPY_SEC)/(omp_get_num_procs()*TIEMPO_GET(HTH_AXPY_OMP))<<std::endl;\n",
        " std::cout<<\"Coste Sec        : nro procesadores*Tiempo             : \"<<1<<\" * \"<<TIEMPO_GET(HTH_AXPY_SEC)<<\" = \"<<TIEMPO_GET(HTH_AXPY_SEC)<<std::endl;\n",
        " std::cout<<\"Coste Omp        : nro procesadores*Tiempo             : \"<<omp_get_num_procs()<<\" * \"<<TIEMPO_GET(HTH_AXPY_OMP)<<\" = \"<<omp_get_num_procs()*TIEMPO_GET(HTH_AXPY_OMP)<<std::endl;\n",
        " std::cout<<\"Funcion Overhead : Coste Omp - tiempo Secuencial       : \"<<omp_get_num_procs()*TIEMPO_GET(HTH_AXPY_OMP)<<\" - \"<<TIEMPO_GET(HTH_AXPY_SEC)<<\" = \"<<(omp_get_num_procs()*TIEMPO_GET(HTH_AXPY_OMP))-TIEMPO_GET(HTH_AXPY_SEC)<<std::endl;\n",
        "\n",
        "\n",
        "}\n",
        "// ----------------------------------------------------------------------------"
      ],
      "execution_count": 138,
      "outputs": [
        {
          "output_type": "stream",
          "name": "stdout",
          "text": [
            "Writing code_axpy.cpp\n"
          ]
        }
      ]
    },
    {
      "cell_type": "markdown",
      "metadata": {
        "id": "3ClX3MgbLn2m"
      },
      "source": [
        "### 1.2.3. Compilación de código C Axpy. "
      ]
    },
    {
      "cell_type": "code",
      "metadata": {
        "id": "b2PUrH_7tKUS"
      },
      "source": [
        "!g++ -o axpy -fopenmp code_axpy.cpp"
      ],
      "execution_count": 139,
      "outputs": []
    },
    {
      "cell_type": "markdown",
      "metadata": {
        "id": "Po1U26ujLs1I"
      },
      "source": [
        "### 1.2.4. Ejecución Axpy."
      ]
    },
    {
      "cell_type": "code",
      "metadata": {
        "id": "3Qt_B3jHuHyR"
      },
      "source": [
        "# --------------------------------------------\n",
        "#@title Parámetros de ejecución { vertical-output: true }\n",
        "\n",
        "Cantidad_N = 50#@param {type: \"number\"}\n",
        "Alfa       = 1.0#@param {type: \"number\"}\n",
        "Ciclos     = 10#@param {type: \"slider\", min: 10, max: 200}\n",
        "Hilos      = 2#@param {type: \"slider\", min: 1, max: 10}\n",
        "\n",
        "# --------------------------------------------\n",
        "\n",
        "%env OMP_NUM_THREADS=$Hilos\n",
        "!./axpy $Alfa $Cantidad_N $Ciclos"
      ],
      "execution_count": null,
      "outputs": []
    },
    {
      "cell_type": "markdown",
      "metadata": {
        "id": "1aL0jXjFGn9C"
      },
      "source": [
        "---\n",
        "# Medidas de prestaciones en algoritmos paralelos\n",
        "Las técnicas de HPC buscan reducir los tiempos de ejecución, el tiempo como medida, no alcanza. Dos algoritmos pueden ejecutar en el mismo tiempo, pero uno de ellos usa menos procesadores [6,7]. \n"
      ]
    },
    {
      "cell_type": "markdown",
      "metadata": {
        "id": "mJxlhR-PHc4M"
      },
      "source": [
        "## SpeedUp\n",
        "Referencia a la ganancia de velocidad que se consigue con un algoritmo paralelo, al resolver el mismo problema con respecto al algoritmo secuencial.\n",
        "\n",
        "<center>$ SpeedUp = \\frac{Tiempo\\_Secuencial}{Tiempo\\_Paralelo} $</center>\n",
        "\n"
      ]
    },
    {
      "cell_type": "markdown",
      "metadata": {
        "id": "rBsWMz-fIEaW"
      },
      "source": [
        "##Eficiencia\n",
        "La eficiencia normaliza el valor del SpeedUp, al dividirlo por la cantidad de procesadores que se utilizaron para alcanzar la ganancia en velocidad. Dando la idea de la porción de tiempo que los procesadores se dedican al trabajo útil.\n",
        "\n",
        "<center>$ Eficiencia = \\frac{SpeedUp}{Nro\\_Procesadores} $</center>\n"
      ]
    },
    {
      "cell_type": "markdown",
      "metadata": {
        "id": "feerSPFJI4UV"
      },
      "source": [
        "## Coste\n",
        "El coste de un algoritmo paralelo representa el tiempo realizado por todo el sistema en la resolución del problema.\n",
        "\n",
        "<center>$ coste = Nro\\_Procesadores \\times Tiempo\\_Algoritmo$</center>\n"
      ]
    },
    {
      "cell_type": "markdown",
      "metadata": {
        "id": "H-B-4e3gJWp2"
      },
      "source": [
        "## Función Overhead\n",
        "Es la diferencia entre el Coste y el tiempo secuencial. Mientras mayor es la función overhead, peor es el comportamiento del algoritmo paralelo.\n",
        "\n",
        "<center>$ Overhead = {Coste}-{Tiempo\\_Secuencial} $</center>\n",
        "\n",
        "---"
      ]
    },
    {
      "cell_type": "code",
      "metadata": {
        "id": "_tk2gqAyQKy_"
      },
      "source": [
        "!cat /proc/cpuinfo"
      ],
      "execution_count": null,
      "outputs": []
    },
    {
      "cell_type": "markdown",
      "metadata": {
        "id": "B4IHd-IqdvT1"
      },
      "source": [
        "---\n",
        "# Bibliografía\n",
        "[1] Función Axpy de biblioteca BLAS: [Referencia](https://software.intel.com/content/www/us/en/develop/documentation/mkl-developer-reference-c/top/blas-and-sparse-blas-routines/blas-routines/blas-level-1-routines-and-functions/cblas-axpy.html)\n",
        "\n",
        "[3] Biblioteca BLAS: [Referencia](http://www.netlib.org/blas/)\n",
        "\n",
        "[4] F. Almeida, D. Gimenéz, A. Vidal - Introducción a la programación paralela - 2008 - Editorial Parafino.\n",
        "\n",
        "[5] D. Jiménez-González - Introducción a las arquitecturas paralelas. [PDF](http://progc-unlam.com.ar/material-clase/OpenMP-MPI/Introducci%C3%B3n%20a%20la%20Computaci%C3%B3n%20Paralela.pdf)"
      ]
    }
  ]
}